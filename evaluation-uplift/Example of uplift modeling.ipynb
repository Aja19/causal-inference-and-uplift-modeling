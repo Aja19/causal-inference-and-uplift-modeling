{
 "cells": [
  {
   "cell_type": "markdown",
   "metadata": {},
   "source": [
    "# Uplift modeling\n",
    "\n",
    "U ovoj svesci ćemo prikazati primenu 2 pristupa modelovanja uzdizanja koje smo opisali:\n",
    "- pristup 2 modela (Two Models Approach)\n",
    "- pristup transformacije klasa (Class Transformation approach)\n",
    "\n",
    "Podaci koji se koriste su opisani u propratnom fajlu koji se nalazi na istom Github repozitorijumu. Cilj je da se može predvideti porast, to je razlika verovatnoće u ishodu koju generiše tretman za svaku osobu."
   ]
  },
  {
   "cell_type": "code",
   "execution_count": 1,
   "metadata": {},
   "outputs": [
    {
     "name": "stdout",
     "output_type": "stream",
     "text": [
      "Populating the interactive namespace from numpy and matplotlib\n"
     ]
    }
   ],
   "source": [
    "%pylab inline\n",
    "import warnings\n",
    "warnings.filterwarnings(\"ignore\")\n",
    "import pandas as pd"
   ]
  },
  {
   "cell_type": "markdown",
   "metadata": {},
   "source": [
    "## Učitavanje podataka"
   ]
  },
  {
   "cell_type": "code",
   "execution_count": 3,
   "metadata": {},
   "outputs": [
    {
     "data": {
      "text/plain": [
       "(10000, 24)"
      ]
     },
     "execution_count": 3,
     "metadata": {},
     "output_type": "execute_result"
    }
   ],
   "source": [
    "#load dataset\n",
    "df=pd.read_csv(\"customer_simulation.csv\")\n",
    "df.shape"
   ]
  },
  {
   "cell_type": "code",
   "execution_count": 4,
   "metadata": {},
   "outputs": [
    {
     "data": {
      "text/html": [
       "<div>\n",
       "<style scoped>\n",
       "    .dataframe tbody tr th:only-of-type {\n",
       "        vertical-align: middle;\n",
       "    }\n",
       "\n",
       "    .dataframe tbody tr th {\n",
       "        vertical-align: top;\n",
       "    }\n",
       "\n",
       "    .dataframe thead th {\n",
       "        text-align: right;\n",
       "    }\n",
       "</style>\n",
       "<table border=\"1\" class=\"dataframe\">\n",
       "  <thead>\n",
       "    <tr style=\"text-align: right;\">\n",
       "      <th></th>\n",
       "      <th>customer_id</th>\n",
       "      <th>Node1</th>\n",
       "      <th>Node2</th>\n",
       "      <th>Node3</th>\n",
       "      <th>Node4</th>\n",
       "      <th>Node5</th>\n",
       "      <th>Node6</th>\n",
       "      <th>Node7</th>\n",
       "      <th>Node8</th>\n",
       "      <th>Node9</th>\n",
       "      <th>...</th>\n",
       "      <th>Node14</th>\n",
       "      <th>Node15</th>\n",
       "      <th>customer_type</th>\n",
       "      <th>Node17</th>\n",
       "      <th>Node18</th>\n",
       "      <th>Node19</th>\n",
       "      <th>Node20</th>\n",
       "      <th>target_control</th>\n",
       "      <th>outcome</th>\n",
       "      <th>train_test</th>\n",
       "    </tr>\n",
       "  </thead>\n",
       "  <tbody>\n",
       "    <tr>\n",
       "      <th>0</th>\n",
       "      <td>1</td>\n",
       "      <td>Value4</td>\n",
       "      <td>Value1</td>\n",
       "      <td>Value2</td>\n",
       "      <td>Value2</td>\n",
       "      <td>Value2</td>\n",
       "      <td>Value4</td>\n",
       "      <td>Value2</td>\n",
       "      <td>Value4</td>\n",
       "      <td>Value4</td>\n",
       "      <td>...</td>\n",
       "      <td>Value3</td>\n",
       "      <td>Value3</td>\n",
       "      <td>persuadable</td>\n",
       "      <td>Value2</td>\n",
       "      <td>Value2</td>\n",
       "      <td>Value3</td>\n",
       "      <td>Value1</td>\n",
       "      <td>control</td>\n",
       "      <td>0</td>\n",
       "      <td>train</td>\n",
       "    </tr>\n",
       "    <tr>\n",
       "      <th>1</th>\n",
       "      <td>2</td>\n",
       "      <td>Value2</td>\n",
       "      <td>Value1</td>\n",
       "      <td>Value1</td>\n",
       "      <td>Value2</td>\n",
       "      <td>Value3</td>\n",
       "      <td>Value4</td>\n",
       "      <td>Value2</td>\n",
       "      <td>Value2</td>\n",
       "      <td>Value4</td>\n",
       "      <td>...</td>\n",
       "      <td>Value1</td>\n",
       "      <td>Value1</td>\n",
       "      <td>sleeping_dog</td>\n",
       "      <td>Value3</td>\n",
       "      <td>Value3</td>\n",
       "      <td>Value1</td>\n",
       "      <td>Value4</td>\n",
       "      <td>control</td>\n",
       "      <td>1</td>\n",
       "      <td>test</td>\n",
       "    </tr>\n",
       "    <tr>\n",
       "      <th>2</th>\n",
       "      <td>3</td>\n",
       "      <td>Value2</td>\n",
       "      <td>Value2</td>\n",
       "      <td>Value1</td>\n",
       "      <td>Value3</td>\n",
       "      <td>Value2</td>\n",
       "      <td>Value1</td>\n",
       "      <td>Value2</td>\n",
       "      <td>Value4</td>\n",
       "      <td>Value3</td>\n",
       "      <td>...</td>\n",
       "      <td>Value2</td>\n",
       "      <td>Value3</td>\n",
       "      <td>lost_cause</td>\n",
       "      <td>Value2</td>\n",
       "      <td>Value3</td>\n",
       "      <td>Value2</td>\n",
       "      <td>Value4</td>\n",
       "      <td>target</td>\n",
       "      <td>0</td>\n",
       "      <td>train</td>\n",
       "    </tr>\n",
       "    <tr>\n",
       "      <th>3</th>\n",
       "      <td>4</td>\n",
       "      <td>Value3</td>\n",
       "      <td>Value1</td>\n",
       "      <td>Value1</td>\n",
       "      <td>Value2</td>\n",
       "      <td>Value3</td>\n",
       "      <td>Value4</td>\n",
       "      <td>Value4</td>\n",
       "      <td>Value1</td>\n",
       "      <td>Value4</td>\n",
       "      <td>...</td>\n",
       "      <td>Value2</td>\n",
       "      <td>Value1</td>\n",
       "      <td>persuadable</td>\n",
       "      <td>Value2</td>\n",
       "      <td>Value3</td>\n",
       "      <td>Value1</td>\n",
       "      <td>Value4</td>\n",
       "      <td>control</td>\n",
       "      <td>0</td>\n",
       "      <td>train</td>\n",
       "    </tr>\n",
       "    <tr>\n",
       "      <th>4</th>\n",
       "      <td>5</td>\n",
       "      <td>Value4</td>\n",
       "      <td>Value1</td>\n",
       "      <td>Value1</td>\n",
       "      <td>Value3</td>\n",
       "      <td>Value2</td>\n",
       "      <td>Value1</td>\n",
       "      <td>Value2</td>\n",
       "      <td>Value4</td>\n",
       "      <td>Value3</td>\n",
       "      <td>...</td>\n",
       "      <td>Value3</td>\n",
       "      <td>Value2</td>\n",
       "      <td>sleeping_dog</td>\n",
       "      <td>Value1</td>\n",
       "      <td>Value3</td>\n",
       "      <td>Value2</td>\n",
       "      <td>Value4</td>\n",
       "      <td>control</td>\n",
       "      <td>1</td>\n",
       "      <td>train</td>\n",
       "    </tr>\n",
       "  </tbody>\n",
       "</table>\n",
       "<p>5 rows × 24 columns</p>\n",
       "</div>"
      ],
      "text/plain": [
       "   customer_id   Node1   Node2   Node3   Node4   Node5   Node6   Node7  \\\n",
       "0            1  Value4  Value1  Value2  Value2  Value2  Value4  Value2   \n",
       "1            2  Value2  Value1  Value1  Value2  Value3  Value4  Value2   \n",
       "2            3  Value2  Value2  Value1  Value3  Value2  Value1  Value2   \n",
       "3            4  Value3  Value1  Value1  Value2  Value3  Value4  Value4   \n",
       "4            5  Value4  Value1  Value1  Value3  Value2  Value1  Value2   \n",
       "\n",
       "    Node8   Node9  ...  Node14  Node15 customer_type  Node17  Node18  Node19  \\\n",
       "0  Value4  Value4  ...  Value3  Value3   persuadable  Value2  Value2  Value3   \n",
       "1  Value2  Value4  ...  Value1  Value1  sleeping_dog  Value3  Value3  Value1   \n",
       "2  Value4  Value3  ...  Value2  Value3    lost_cause  Value2  Value3  Value2   \n",
       "3  Value1  Value4  ...  Value2  Value1   persuadable  Value2  Value3  Value1   \n",
       "4  Value4  Value3  ...  Value3  Value2  sleeping_dog  Value1  Value3  Value2   \n",
       "\n",
       "   Node20 target_control outcome train_test  \n",
       "0  Value1        control       0      train  \n",
       "1  Value4        control       1       test  \n",
       "2  Value4         target       0      train  \n",
       "3  Value4        control       0      train  \n",
       "4  Value4        control       1      train  \n",
       "\n",
       "[5 rows x 24 columns]"
      ]
     },
     "execution_count": 4,
     "metadata": {},
     "output_type": "execute_result"
    }
   ],
   "source": [
    "df.head()"
   ]
  },
  {
   "cell_type": "markdown",
   "metadata": {},
   "source": [
    "Ovaj skup podataka sadrzi podatke o 10000 klijenata. Detaljna objasnjenja kolona i njihove kategorije su opisane u propratnom fajlu.\n",
    "Varijable na koje cemo se fokusirati za potrebe ovog problema su: 'customer_type' (tip klijenta), 'target_control' (klijent je primio ili nije primio tretman), 'outcome' (ciljna promenljiva koju smo definisali unapred), 'train_test' (podela skupa podataka na trening i test skup).\n",
    "Svaki red predstavlja klijenta koji može pripadati jednoj od 4 kategorije:\n",
    "- **persuadable** (ubedljiva osoba - kupiće proizvod ako je kontaktiramo. Ovo je tip osobe koju želimo da targetiramo sa modelom uzdizanja.)\n",
    "- **lost cause** (osoba koja sigurno neće kupiti proizvod, nevezano da li je tretirana ili nije)\n",
    "- **sleeping dog** (osoba koja neće kupiti proizvod ako je kontaktiramo. Primer je osoba koja ima mesečnu supskripciju na teretanu koju ne koristi, i dobije email od teretane. Kontaktiranje ovih osoba je loše za biznis.)\n",
    "- **sure_thing** (osoba koja bi sigurno kupila proizvod bez obzira da li je kontaktirana. Targetiranje ovih osoba je nepotrebno zbog troškova kontaktiranja.)"
   ]
  },
  {
   "cell_type": "code",
   "execution_count": 7,
   "metadata": {},
   "outputs": [
    {
     "data": {
      "text/html": [
       "<img src=\"Sleepingdog.png\"/>"
      ],
      "text/plain": [
       "<IPython.core.display.Image object>"
      ]
     },
     "execution_count": 7,
     "metadata": {},
     "output_type": "execute_result"
    }
   ],
   "source": [
    "from IPython.display import Image\n",
    "img = 'Sleepingdog.png'\n",
    "Image(url=img)"
   ]
  },
  {
   "cell_type": "code",
   "execution_count": 5,
   "metadata": {},
   "outputs": [
    {
     "data": {
      "text/plain": [
       "lost_cause      2554\n",
       "sleeping_dog    2528\n",
       "persuadable     2471\n",
       "sure_thing      2447\n",
       "Name: customer_type, dtype: int64"
      ]
     },
     "execution_count": 5,
     "metadata": {},
     "output_type": "execute_result"
    }
   ],
   "source": [
    "#customers are balanced based on customer type\n",
    "\n",
    "df.customer_type.value_counts()"
   ]
  },
  {
   "cell_type": "markdown",
   "metadata": {},
   "source": [
    "Takođe svaki od klijenata može pripadati tretiranoj grupi ili kontrolnoj grupi. Tretirana osoba je primila neku vrstu akcije od banke (primila je email sa ponudom ili je bila kontaktirana). Osobe iz kontrolne grupe nisu primile nikakav tretman/akciju od banke. Podela je balansirana izmedju ove dve grupe."
   ]
  },
  {
   "cell_type": "code",
   "execution_count": 6,
   "metadata": {},
   "outputs": [
    {
     "data": {
      "text/plain": [
       "control    5063\n",
       "target     4937\n",
       "Name: target_control, dtype: int64"
      ]
     },
     "execution_count": 6,
     "metadata": {},
     "output_type": "execute_result"
    }
   ],
   "source": [
    "df.target_control.value_counts()"
   ]
  },
  {
   "cell_type": "markdown",
   "metadata": {},
   "source": [
    "Cilj ovog primera je da predvidimo odliv tj *churn*. Vrednost u koloni outcome je binarna tj 0/1 i predstavlja 1 - ako osoba nece otići iz banke i 0 ako će osoba otići iz banke."
   ]
  },
  {
   "cell_type": "code",
   "execution_count": 8,
   "metadata": {},
   "outputs": [
    {
     "data": {
      "text/plain": [
       "0    5047\n",
       "1    4953\n",
       "Name: outcome, dtype: int64"
      ]
     },
     "execution_count": 8,
     "metadata": {},
     "output_type": "execute_result"
    }
   ],
   "source": [
    "df.outcome.value_counts()"
   ]
  },
  {
   "cell_type": "markdown",
   "metadata": {},
   "source": [
    "Podaci su unapred pripremljeni i podeljeni u trening i test skup u proporciji 80/20."
   ]
  },
  {
   "cell_type": "code",
   "execution_count": 9,
   "metadata": {},
   "outputs": [
    {
     "data": {
      "text/plain": [
       "train    7952\n",
       "test     2048\n",
       "Name: train_test, dtype: int64"
      ]
     },
     "execution_count": 9,
     "metadata": {},
     "output_type": "execute_result"
    }
   ],
   "source": [
    "df.train_test.value_counts()"
   ]
  },
  {
   "cell_type": "markdown",
   "metadata": {},
   "source": [
    "Ostalih 19 kolona su kategoricke varijable koje mogu da se koriste da se predvidi ciljna varijabla ili efekat uzdizanja za svaku osobu.\n",
    "\n",
    "U datasetu je kolona target_control veštački napravljena, ali u stvarnom primeru, ostale varijable bi se koristile u modelu za predviđanje i na osnovu predvidjene vrednosti uplifta uz dogovoreni treshlod bi se definisala kategorizacija klijenata. "
   ]
  },
  {
   "cell_type": "markdown",
   "metadata": {},
   "source": [
    "### Dummy varijable\n",
    "Kategoricke varijable se prevode u numericke."
   ]
  },
  {
   "cell_type": "code",
   "execution_count": 11,
   "metadata": {},
   "outputs": [
    {
     "name": "stdout",
     "output_type": "stream",
     "text": [
      "done Node1\n",
      "done Node2\n",
      "done Node3\n",
      "done Node4\n",
      "done Node5\n",
      "done Node6\n",
      "done Node7\n",
      "done Node8\n",
      "done Node9\n",
      "done Node10\n",
      "done Node11\n",
      "done Node12\n",
      "done Node13\n",
      "done Node14\n",
      "done Node15\n",
      "done Node17\n",
      "done Node18\n",
      "done Node19\n",
      "done Node20\n"
     ]
    }
   ],
   "source": [
    "# dummify\n",
    "\n",
    "feat = [x  for x in df.columns if \"Node\" in x]\n",
    "\n",
    "features = []\n",
    "for f in feat : \n",
    "    dummies = pd.get_dummies(df[f]).rename(columns=lambda x: f + \"_\" + str(x))\n",
    "    features = features + list(dummies.columns)\n",
    "    df = pd.concat([df, dummies], axis=1)\n",
    "    df = df.drop([f], axis=1)\n",
    "    print (\"done\", f)"
   ]
  },
  {
   "cell_type": "code",
   "execution_count": 13,
   "metadata": {},
   "outputs": [
    {
     "name": "stdout",
     "output_type": "stream",
     "text": [
      "(7952, 81)\n",
      "(2048, 81)\n"
     ]
    }
   ],
   "source": [
    "train_df = df[df[\"train_test\"]==\"train\"] \n",
    "test_df = df[df[\"train_test\"]==\"test\"] \n",
    "\n",
    "print (train_df.shape)\n",
    "print (test_df.shape)"
   ]
  },
  {
   "cell_type": "markdown",
   "metadata": {},
   "source": [
    "## Pristup 2 modela (Two Models Approach)\n",
    "\n",
    "Modeliramo efekat povećanja *uplift* računajući razliku između verovatnoće ishoda u tretiranom skupu podataka minus verovatnoću ishoda u kontrolnom skupu podataka."
   ]
  },
  {
   "cell_type": "code",
   "execution_count": 14,
   "metadata": {},
   "outputs": [
    {
     "name": "stdout",
     "output_type": "stream",
     "text": [
      "(3934, 81)\n",
      "(4018, 81)\n"
     ]
    }
   ],
   "source": [
    "target = train_df[train_df[\"target_control\"]=='target']  \n",
    "control = train_df[train_df[\"target_control\"]=='control']\n",
    "\n",
    "print (target.shape)\n",
    "print (control.shape)"
   ]
  },
  {
   "cell_type": "code",
   "execution_count": 15,
   "metadata": {},
   "outputs": [],
   "source": [
    "target_X = target[features]\n",
    "control_X = control[features]\n",
    "\n",
    "target_Y = target[['outcome']]\n",
    "control_Y = control[['outcome']]\n",
    "\n",
    "test_X = test_df[features]"
   ]
  },
  {
   "cell_type": "markdown",
   "metadata": {},
   "source": [
    "#### Treniranje\n",
    "Koristimo 2 odvojena modela za tretiranu i kontrolnu grupu."
   ]
  },
  {
   "cell_type": "code",
   "execution_count": 16,
   "metadata": {},
   "outputs": [],
   "source": [
    "from sklearn.ensemble import GradientBoostingClassifier\n",
    "\n",
    "clf1 = GradientBoostingClassifier(n_estimators = 100,learning_rate = 0.1,max_depth = 3)\n",
    "clf2 = GradientBoostingClassifier(n_estimators = 100,learning_rate = 0.1,max_depth = 3)"
   ]
  },
  {
   "cell_type": "code",
   "execution_count": 17,
   "metadata": {},
   "outputs": [
    {
     "data": {
      "text/plain": [
       "GradientBoostingClassifier()"
      ]
     },
     "execution_count": 17,
     "metadata": {},
     "output_type": "execute_result"
    }
   ],
   "source": [
    "clf1.fit(target_X.values,target_Y.values.ravel())\n",
    "clf2.fit(control_X.values,control_Y.values.ravel())"
   ]
  },
  {
   "cell_type": "markdown",
   "metadata": {},
   "source": [
    "#### Skoring"
   ]
  },
  {
   "cell_type": "code",
   "execution_count": 18,
   "metadata": {},
   "outputs": [],
   "source": [
    "test_df[\"proba_outcome_target\"] = clf1.predict_proba(test_X)[:,1]\n",
    "test_df[\"proba_outcome_control\"] = clf2.predict_proba(test_X)[:,1]\n",
    "\n",
    "# uplift is just the difference. \n",
    "test_df[\"uplift_1\"] = test_df[\"proba_outcome_target\"] - test_df[\"proba_outcome_control\"] "
   ]
  },
  {
   "cell_type": "code",
   "execution_count": 19,
   "metadata": {},
   "outputs": [
    {
     "data": {
      "text/plain": [
       "1      -0.269375\n",
       "8       0.067121\n",
       "17      0.293496\n",
       "22      0.031485\n",
       "27     -0.261959\n",
       "          ...   \n",
       "9986   -0.249144\n",
       "9990   -0.316335\n",
       "9993   -0.254017\n",
       "9995   -0.188545\n",
       "9998    0.068185\n",
       "Name: uplift_1, Length: 2048, dtype: float64"
      ]
     },
     "execution_count": 19,
     "metadata": {},
     "output_type": "execute_result"
    }
   ],
   "source": [
    "test_df['uplift_1']"
   ]
  },
  {
   "cell_type": "markdown",
   "metadata": {},
   "source": [
    "## Pristup transformacije klasa (Class Modification Approach)\n",
    "\n",
    "Ovo implementiramo za pristup transformacije klasa:\n",
    "- složimo tretirane i kontrolne podatke\n",
    "- obrnemo target za kontrolne podatke\n",
    "- obučimo model na ovakvom targetu\n",
    "- efekat uzdizanja (uplift) se računa po dokazanoj formuli kao 2 puta predviđene verovatnoće -1"
   ]
  },
  {
   "cell_type": "code",
   "execution_count": 20,
   "metadata": {},
   "outputs": [],
   "source": [
    "train_df['istarget'] = train_df['target_control'].map(lambda x : 1 if x=='target' else 0)\n",
    "train_df['modified_outcome'] = train_df['outcome'] * train_df['istarget'] \\\n",
    "                                 + (1-train_df['outcome'])*(1-train_df['istarget'])"
   ]
  },
  {
   "cell_type": "code",
   "execution_count": 21,
   "metadata": {},
   "outputs": [],
   "source": [
    "from sklearn.ensemble import RandomForestClassifier\n",
    "clf = RandomForestClassifier(n_estimators = 500,max_depth=10)"
   ]
  },
  {
   "cell_type": "code",
   "execution_count": 22,
   "metadata": {},
   "outputs": [
    {
     "data": {
      "text/plain": [
       "RandomForestClassifier(max_depth=10, n_estimators=500)"
      ]
     },
     "execution_count": 22,
     "metadata": {},
     "output_type": "execute_result"
    }
   ],
   "source": [
    "clf.fit(train_df[features].values, train_df['modified_outcome'].values.ravel())"
   ]
  },
  {
   "cell_type": "code",
   "execution_count": 23,
   "metadata": {},
   "outputs": [],
   "source": [
    "test_df[\"uplift_2\"] = 2*clf.predict_proba(test_X)[:,1] -1"
   ]
  },
  {
   "cell_type": "code",
   "execution_count": 24,
   "metadata": {},
   "outputs": [
    {
     "data": {
      "text/plain": [
       "1      -0.147862\n",
       "8       0.012853\n",
       "17      0.117738\n",
       "22      0.072947\n",
       "27     -0.071591\n",
       "          ...   \n",
       "9986   -0.212495\n",
       "9990   -0.162842\n",
       "9993   -0.245880\n",
       "9995   -0.072158\n",
       "9998   -0.067871\n",
       "Name: uplift_2, Length: 2048, dtype: float64"
      ]
     },
     "execution_count": 24,
     "metadata": {},
     "output_type": "execute_result"
    }
   ],
   "source": [
    "test_df['uplift_2']"
   ]
  },
  {
   "cell_type": "markdown",
   "metadata": {},
   "source": [
    "## Čuvamo rezultate predviđanja"
   ]
  },
  {
   "cell_type": "code",
   "execution_count": 25,
   "metadata": {},
   "outputs": [],
   "source": [
    "test_df.to_csv(\"uplift_predictions.csv\")"
   ]
  },
  {
   "cell_type": "markdown",
   "metadata": {},
   "source": [
    "------------------------------------------------------"
   ]
  },
  {
   "cell_type": "markdown",
   "metadata": {},
   "source": [
    "# Evaluacija i poređenje modela\n",
    "\n",
    "U ovom delu sveske prikazaćemo poređenje prikazanih pristupa za modelovanje uzdizanja.\n",
    "\n",
    "* Prvo ćemo izračunati vrednosti efekta uzdizanja i predstaviti njihovu raspodelu\n",
    "* Onda ćemo pogledati predviđeno povećanje u poređenju sa latentnom promenljivom - tip klijenta\n",
    "* Najzad ćemo uporediti dva pristupa:\n",
    "    - posmatrajući porast po decilu ciljane populacije\n",
    "    - poređenjem njihovih Qini kriva"
   ]
  },
  {
   "cell_type": "code",
   "execution_count": 26,
   "metadata": {},
   "outputs": [
    {
     "name": "stdout",
     "output_type": "stream",
     "text": [
      "Populating the interactive namespace from numpy and matplotlib\n"
     ]
    }
   ],
   "source": [
    "%pylab inline"
   ]
  },
  {
   "cell_type": "code",
   "execution_count": 28,
   "metadata": {},
   "outputs": [],
   "source": [
    "import warnings\n",
    "warnings.filterwarnings('ignore')\n",
    "#import dataiku\n",
    "#from dataiku import pandasutils as pdu\n",
    "import pandas as pd\n",
    "import seaborn"
   ]
  },
  {
   "cell_type": "markdown",
   "metadata": {},
   "source": [
    "## Distribucije predviđenih vrednosti\n",
    "\n",
    "#### Pristup 2 modela"
   ]
  },
  {
   "cell_type": "code",
   "execution_count": 29,
   "metadata": {},
   "outputs": [],
   "source": [
    "df = pd.read_csv(\"uplift_predictions.csv\")"
   ]
  },
  {
   "cell_type": "markdown",
   "metadata": {},
   "source": [
    "Predstavićemo distribuciju predviđenih verovatnoća."
   ]
  },
  {
   "cell_type": "code",
   "execution_count": 30,
   "metadata": {},
   "outputs": [
    {
     "data": {
      "text/plain": [
       "Text(0.5, 0.98, 'Predicted probability in case and control')"
      ]
     },
     "execution_count": 30,
     "metadata": {},
     "output_type": "execute_result"
    },
    {
     "data": {
      "image/png": "[encoded data removed]",
      "text/plain": [
       "<Figure size 432x288 with 2 Axes>"
      ]
     },
     "metadata": {
      "needs_background": "light"
     },
     "output_type": "display_data"
    }
   ],
   "source": [
    "df[[\"proba_outcome_target\",\"proba_outcome_control\"]].hist()\n",
    "plt.suptitle(\"Predicted probability in case and control\")"
   ]
  },
  {
   "cell_type": "markdown",
   "metadata": {},
   "source": [
    "Pošto modeli nisu baš dobri, distribucija verovatnoća izgleda kao Gausova sa centrom na 0.5. Da bismo izračunali efekat uzdizanja, samo ćemo izračunati razliku između te dve verovatnoće."
   ]
  },
  {
   "cell_type": "code",
   "execution_count": 31,
   "metadata": {},
   "outputs": [
    {
     "data": {
      "text/plain": [
       "<AxesSubplot:title={'center':'Predicted uplift distribution'}>"
      ]
     },
     "execution_count": 31,
     "metadata": {},
     "output_type": "execute_result"
    },
    {
     "data": {
      "image/png": "[encoded data removed]",
      "text/plain": [
       "<Figure size 432x288 with 1 Axes>"
      ]
     },
     "metadata": {
      "needs_background": "light"
     },
     "output_type": "display_data"
    }
   ],
   "source": [
    "df[\"uplift_1\"] = df['proba_outcome_target'] - df['proba_outcome_control']\n",
    "\n",
    "plt.title(\"Predicted uplift distribution\")\n",
    "df[\"uplift_1\"].hist()"
   ]
  },
  {
   "cell_type": "markdown",
   "metadata": {},
   "source": [
    "Ovakva distribucija je očekivana pošto je dataset izbalansiran gledajući tip klijenta (varijablu)."
   ]
  },
  {
   "cell_type": "markdown",
   "metadata": {},
   "source": [
    "#### Pristup modifikacije klasa\n",
    "\n",
    "Da bismo izračunali uplift, morali smo samo da pomnožimo sa dva predviđenu verovatnoću i uklonimo 1."
   ]
  },
  {
   "cell_type": "code",
   "execution_count": 32,
   "metadata": {},
   "outputs": [
    {
     "data": {
      "text/plain": [
       "<AxesSubplot:title={'center':'Predicted uplift distribution'}>"
      ]
     },
     "execution_count": 32,
     "metadata": {},
     "output_type": "execute_result"
    },
    {
     "data": {
      "image/png": "[encoded data removed]",
      "text/plain": [
       "<Figure size 432x288 with 1 Axes>"
      ]
     },
     "metadata": {
      "needs_background": "light"
     },
     "output_type": "display_data"
    }
   ],
   "source": [
    "plt.title(\"Predicted uplift distribution\")\n",
    "df[\"uplift_2\"].hist()"
   ]
  },
  {
   "cell_type": "markdown",
   "metadata": {},
   "source": [
    "Distribucija deluje slično sa malo većim granicama."
   ]
  },
  {
   "cell_type": "markdown",
   "metadata": {},
   "source": [
    "## Evaluacija modela\n",
    "\n",
    "### Bazirano na tipu klijenta\n",
    "\n",
    "Prvi način da se procene i uporede modeli je da se pogledaju njihova prosečna predviđanja za svaki od 4 segmenta tipa klijenata.\n",
    "\n",
    "Savršen model bi imao:\n",
    "- uplift = 1 za kategoriju *persuadable*\n",
    "- uplift = -1 za kategoriju *sleeping dog*\n",
    "- uplift = 0 za kategoriju *sure thing* i *lost cause*"
   ]
  },
  {
   "cell_type": "code",
   "execution_count": 33,
   "metadata": {},
   "outputs": [
    {
     "data": {
      "text/html": [
       "<div>\n",
       "<style scoped>\n",
       "    .dataframe tbody tr th:only-of-type {\n",
       "        vertical-align: middle;\n",
       "    }\n",
       "\n",
       "    .dataframe tbody tr th {\n",
       "        vertical-align: top;\n",
       "    }\n",
       "\n",
       "    .dataframe thead th {\n",
       "        text-align: right;\n",
       "    }\n",
       "</style>\n",
       "<table border=\"1\" class=\"dataframe\">\n",
       "  <thead>\n",
       "    <tr style=\"text-align: right;\">\n",
       "      <th></th>\n",
       "      <th>uplift_1</th>\n",
       "      <th>uplift_2</th>\n",
       "    </tr>\n",
       "    <tr>\n",
       "      <th>customer_type</th>\n",
       "      <th></th>\n",
       "      <th></th>\n",
       "    </tr>\n",
       "  </thead>\n",
       "  <tbody>\n",
       "    <tr>\n",
       "      <th>lost_cause</th>\n",
       "      <td>-0.021835</td>\n",
       "      <td>-0.012276</td>\n",
       "    </tr>\n",
       "    <tr>\n",
       "      <th>persuadable</th>\n",
       "      <td>0.084970</td>\n",
       "      <td>0.052135</td>\n",
       "    </tr>\n",
       "    <tr>\n",
       "      <th>sleeping_dog</th>\n",
       "      <td>-0.097414</td>\n",
       "      <td>-0.065511</td>\n",
       "    </tr>\n",
       "    <tr>\n",
       "      <th>sure_thing</th>\n",
       "      <td>0.022166</td>\n",
       "      <td>-0.002915</td>\n",
       "    </tr>\n",
       "  </tbody>\n",
       "</table>\n",
       "</div>"
      ],
      "text/plain": [
       "               uplift_1  uplift_2\n",
       "customer_type                    \n",
       "lost_cause    -0.021835 -0.012276\n",
       "persuadable    0.084970  0.052135\n",
       "sleeping_dog  -0.097414 -0.065511\n",
       "sure_thing     0.022166 -0.002915"
      ]
     },
     "execution_count": 33,
     "metadata": {},
     "output_type": "execute_result"
    }
   ],
   "source": [
    "df.groupby(\"customer_type\")[[\"uplift_1\",\"uplift_2\"]].mean()"
   ]
  },
  {
   "cell_type": "code",
   "execution_count": 34,
   "metadata": {},
   "outputs": [
    {
     "data": {
      "image/png": "[encoded data removed]",
      "text/plain": [
       "<Figure size 432x288 with 1 Axes>"
      ]
     },
     "metadata": {
      "needs_background": "light"
     },
     "output_type": "display_data"
    }
   ],
   "source": [
    "# Let's visualize this with a seaborn violin chart\n",
    "\n",
    "tmp = df[[\"customer_type\",\"uplift_1\"]]\n",
    "tmp.columns = [\"customer_type\",'uplift']\n",
    "tmp[\"model\"] = \"two_models\"\n",
    "\n",
    "tmp1 = df[[\"customer_type\",\"uplift_2\"]]\n",
    "tmp1.columns = [\"customer_type\",'uplift']\n",
    "tmp1[\"model\"] = \"outcome_modification\"\n",
    "\n",
    "tmp = pd.concat([tmp,tmp1],axis=0)\n",
    "\n",
    "seaborn.violinplot(x=\"customer_type\", y=\"uplift\", hue=\"model\", data=tmp, split = True) \n",
    "seaborn.despine(left=True)"
   ]
  },
  {
   "cell_type": "code",
   "execution_count": 35,
   "metadata": {},
   "outputs": [
    {
     "data": {
      "text/plain": [
       "<seaborn.axisgrid.FacetGrid at 0x1d2e074d0d0>"
      ]
     },
     "execution_count": 35,
     "metadata": {},
     "output_type": "execute_result"
    },
    {
     "data": {
      "image/png": "[encoded data removed]",
      "text/plain": [
       "<Figure size 578.625x432 with 1 Axes>"
      ]
     },
     "metadata": {
      "needs_background": "light"
     },
     "output_type": "display_data"
    }
   ],
   "source": [
    "# to get clearer ideas, bar chart\n",
    "\n",
    "g = seaborn.factorplot(x=\"customer_type\", y=\"uplift\", hue=\"model\", data=tmp,\n",
    "                   size=6, kind=\"bar\", palette=\"muted\")\n",
    "g.despine(left=True)\n",
    "g.set_ylabels(\"estimated uplift\")"
   ]
  },
  {
   "cell_type": "markdown",
   "metadata": {},
   "source": [
    "Zaključci:\n",
    "* Modeli ne izgledaju baš efikasni\n",
    "* Gledajući kategoriju *persuadables* i *sleeping_dog* vidimo da se pristup dva modela čini malo boljim\n",
    "* Na tip korisnika, na koji tretman ne bi trebalo da ima efekta, izgleda da pristup modifikacije klasa nadmašuje drugi."
   ]
  },
  {
   "cell_type": "markdown",
   "metadata": {},
   "source": [
    "## Evaluacija efekta uzdizanja (uplifta)\n",
    "\n",
    "### Uplift po decilu\n",
    "\n",
    "U ovom skupu podataka, pošto su tipovi kupaca izbalansirani, tretman nema globalni efekat. Ali šta ako bismo uredili stanovništvo smanjenjem predviđenog efekta uzdizanja (uplifta)?\n",
    "\n",
    "Sa marketinške tačke gledišta, način da se proceni porast bi bio da se sortiraju kontrolna i tretirana grupa prema predviđenom efektu uzdizanja i izračuna stvarni porast za grupe verovatnoće tj. *bins* (primer: decil)."
   ]
  },
  {
   "cell_type": "code",
   "execution_count": 36,
   "metadata": {},
   "outputs": [],
   "source": [
    "df['is_target'] = df['target_control'].map(lambda x : 1 if x == 'target' else 0)\n",
    "df['perfect'] = df['outcome'] * df['is_target'] -  df['outcome'] * (1-df['is_target'])"
   ]
  },
  {
   "cell_type": "code",
   "execution_count": 40,
   "metadata": {},
   "outputs": [],
   "source": [
    "def get_hist(mydf, upliftcol,targetcol,outcomecol,p = 10):\n",
    "    \n",
    "    \"\"\" calucate the uplift for each decile given an uplift prediction column\n",
    "    \"\"\"\n",
    "    control = mydf[mydf[targetcol]==0]\n",
    "    target = mydf[mydf[targetcol]==1]\n",
    "    control.sort_values(upliftcol)\n",
    "    target.sort_values(upliftcol)\n",
    "    \n",
    "    control[\"percentile\"] =  floor(control[upliftcol].rank(method='first',ascending = False) / (control.shape[0]+1) * p)\n",
    "    target[\"percentile\"] =  floor(target[upliftcol].rank(method='first',ascending = False) / (target.shape[0]+1) * p)\n",
    "    \n",
    "    control = (control.groupby([\"percentile\"])[outcomecol].mean()).reset_index()\n",
    "    control.columns = [\"percentile\", 'prob_control']\n",
    "    \n",
    "    target = (target.groupby([\"percentile\"])[outcomecol].mean()).reset_index()\n",
    "    target.columns = [\"percentile\", 'prob_target']\n",
    "    \n",
    "    final = pd.merge(control,target, on = \"percentile\")\n",
    "    final[\"uplift\"] = final[\"prob_target\"] - final[\"prob_control\"]\n",
    "    \n",
    "    return final"
   ]
  },
  {
   "cell_type": "markdown",
   "metadata": {},
   "source": [
    "Prikazaćemo uočeni efekat podizanja za predviđene grupe za pristup **dva modela**."
   ]
  },
  {
   "cell_type": "code",
   "execution_count": 41,
   "metadata": {},
   "outputs": [
    {
     "data": {
      "image/png": "[encoded data removed]",
      "text/plain": [
       "<Figure size 432x288 with 1 Axes>"
      ]
     },
     "metadata": {
      "needs_background": "light"
     },
     "output_type": "display_data"
    }
   ],
   "source": [
    "hist_twomod = get_hist(df, \"uplift_1\",\"is_target\",\"outcome\")\n",
    "ax = seaborn.barplot(hist_twomod[\"percentile\"],hist_twomod['uplift'])"
   ]
  },
  {
   "cell_type": "markdown",
   "metadata": {},
   "source": [
    "U odnosu na ovaj grafik možemo zaključiti da je ovaj model koristan jer se može smanjiti odliv *churn* za 30% u prvom decilu.\n",
    "\n",
    "Prikazujemo grafik i za drugi pristup."
   ]
  },
  {
   "cell_type": "code",
   "execution_count": 42,
   "metadata": {},
   "outputs": [
    {
     "data": {
      "image/png": "[encoded data removed]",
      "text/plain": [
       "<Figure size 432x288 with 1 Axes>"
      ]
     },
     "metadata": {
      "needs_background": "light"
     },
     "output_type": "display_data"
    }
   ],
   "source": [
    "hist_twomod = get_hist(df, \"uplift_2\",\"is_target\",\"outcome\")\n",
    "ax = seaborn.barplot(hist_twomod[\"percentile\"],hist_twomod['uplift'])"
   ]
  },
  {
   "cell_type": "markdown",
   "metadata": {},
   "source": [
    "Čini se da ovaj model ima bolje rezultate ya prvih 10%, ali ako pogledamo prva tri decila, čini se da ne nadmašuje prvi pristup.\n",
    "\n",
    "Ukoliko bismo želeli da prikažemo najbolji model - možemo ga dobiti kreiranjem lažne promenljive uplift efekta sa:\n",
    "- veća vrednost na targetu ako je ishod 1 (konvertovan)\n",
    "- niža vrednost na kontroli ako je ishod 1 (sure things)"
   ]
  },
  {
   "cell_type": "code",
   "execution_count": 43,
   "metadata": {},
   "outputs": [
    {
     "data": {
      "image/png": "[encoded data removed]",
      "text/plain": [
       "<Figure size 432x288 with 1 Axes>"
      ]
     },
     "metadata": {
      "needs_background": "light"
     },
     "output_type": "display_data"
    }
   ],
   "source": [
    "hist_twomod = get_hist(df, \"perfect\",\"is_target\",\"outcome\")\n",
    "ax = seaborn.barplot(hist_twomod[\"percentile\"],hist_twomod['uplift'])"
   ]
  },
  {
   "cell_type": "markdown",
   "metadata": {},
   "source": [
    "### Kumulativne grupe uplifta\n",
    "\n",
    "Efekat uzdizanja za svaki bin/grupu je: $RT(t)/NT(t) - RC(t)/NC(t)$.\n",
    "Gde je:\n",
    "- RT(t) broj pozitivnih ishoda koji su tretirani\n",
    "- RC(t) broj pozitivnih ishoda koji pripadaju kontrolnom skupu\n",
    "- NT(t) broj tretiranih\n",
    "- NC(t) broj klijenata u kontrolnom skupu"
   ]
  },
  {
   "cell_type": "code",
   "execution_count": 47,
   "metadata": {},
   "outputs": [],
   "source": [
    "def get_hist_cum(df, upliftcol,targetcol, outcome_col,p=10) :\n",
    "    \n",
    "    tmp = df.copy()\n",
    "    tmp = tmp.sort_values(upliftcol,ascending=False)\n",
    "    tmp[\"percentile\"] =  floor(tmp[upliftcol].rank(method='first',ascending = False) / (tmp.shape[0]+1) * p)\n",
    "    \n",
    "    final = []\n",
    "    for val in range(p) :\n",
    "        t = tmp[tmp['percentile']<=val]\n",
    "        target = float(t[t[targetcol]==1][outcome_col].mean())\n",
    "        control = float(t[t[targetcol]==0][outcome_col].mean())        \n",
    "        uplift = (target - control) \n",
    "        final.append({'percentile':val,\"uplift\":uplift})\n",
    "        \n",
    "    return pd.DataFrame(final)"
   ]
  },
  {
   "cell_type": "code",
   "execution_count": 48,
   "metadata": {},
   "outputs": [],
   "source": [
    "def get_hist_cum_2(df, upliftcol,targetcol, outcome_col,p=10) :\n",
    "    \n",
    "    tmp = df.copy()\n",
    "    tmp = tmp.sort_values(upliftcol,ascending=False)\n",
    "    tmp[\"percentile\"] =  floor(tmp[upliftcol].rank(method='first',ascending = False) / (tmp.shape[0]+1) * p)\n",
    "    \n",
    "    final = []\n",
    "    for val in range(p) :\n",
    "        t = tmp[tmp['percentile']<=val]\n",
    "        target = float(t[t[targetcol]==1][outcome_col].mean())\n",
    "        control = float(t[t[targetcol]==0][outcome_col].mean())        \n",
    "        uplift = (target - control) * t.shape[0]\n",
    "        final.append({'percentile':val,\"uplift\":uplift})\n",
    "        \n",
    "    return pd.DataFrame(final)\n",
    "    "
   ]
  },
  {
   "cell_type": "code",
   "execution_count": 49,
   "metadata": {},
   "outputs": [
    {
     "data": {
      "image/png": "[encoded data removed]",
      "text/plain": [
       "<Figure size 432x288 with 1 Axes>"
      ]
     },
     "metadata": {
      "needs_background": "light"
     },
     "output_type": "display_data"
    }
   ],
   "source": [
    "hist_twomod = get_hist_cum(df, \"uplift_1\",\"is_target\",\"outcome\",p=10)\n",
    "ax = seaborn.barplot(hist_twomod[\"percentile\"],hist_twomod['uplift'])"
   ]
  },
  {
   "cell_type": "code",
   "execution_count": 50,
   "metadata": {},
   "outputs": [
    {
     "data": {
      "image/png": "[encoded data removed]",
      "text/plain": [
       "<Figure size 432x288 with 1 Axes>"
      ]
     },
     "metadata": {
      "needs_background": "light"
     },
     "output_type": "display_data"
    }
   ],
   "source": [
    "hist_twomod = get_hist_cum_2(df, \"uplift_1\",\"is_target\",\"outcome\",p=10)\n",
    "ax = seaborn.barplot(hist_twomod[\"percentile\"],hist_twomod['uplift'])"
   ]
  },
  {
   "cell_type": "markdown",
   "metadata": {},
   "source": [
    "Ovu ideju možemo generalizovati tako što ćemo to izračunati za svaku tačku. Ovo bi nam dalo \"krivu podizanja\" (*uplift curve*)."
   ]
  },
  {
   "cell_type": "markdown",
   "metadata": {},
   "source": [
    "### Kriva uzdizanja (Uplift curve)\n",
    "\n",
    "Kriva uzdizanja je kriva parametrizovana sa t definisana kao $f(t) = (RT(t)/NT(t) - RC(t)/NC(t)) * NT(t)+NC(t)$.\n",
    "\n",
    "Ideja je:\n",
    "- Spojiti skup podataka za tretman i kontrolu\n",
    "- Rasporediti prema predviđenom efektu uzdizanja u opadajućem poretku\n",
    "- Evaluirati i proceniti sumu efekata uzdizanja za svaku tačku."
   ]
  },
  {
   "cell_type": "code",
   "execution_count": 51,
   "metadata": {},
   "outputs": [],
   "source": [
    "def uplift(df, target_control_col, outcome_col, proba_col) :\n",
    "    \n",
    "    tmp = df.copy()\n",
    "    tmp = tmp.sort_values(proba_col,ascending=False)\n",
    "    tmp['RT'] = (tmp[target_control_col]*tmp[outcome_col]).cumsum()\n",
    "    tmp['RC'] = ((1-tmp[target_control_col])*tmp[outcome_col]).cumsum()\n",
    "    tmp['NT'] = tmp[target_control_col].cumsum()\n",
    "    tmp['NC'] = (1-tmp[target_control_col]).cumsum()\n",
    "    tmp[\"upc_1\"] =   ((tmp['RT']/tmp['NT']).fillna(0) - (tmp['RC']/tmp['NC']).fillna(0)) *(tmp['NC']+tmp['NT'])\n",
    "    \n",
    "    return tmp[\"upc_1\"].values"
   ]
  },
  {
   "cell_type": "code",
   "execution_count": 52,
   "metadata": {},
   "outputs": [],
   "source": [
    "two_mod_uc = uplift(df,'is_target','outcome','uplift_1')\n",
    "modified_uc = uplift(df,'is_target','outcome','uplift_2')\n",
    "perfect_uc = uplift(df,'is_target','outcome','perfect')\n",
    "rd_uc = (df[df['is_target']==1]['outcome'].sum() / float(df[df['is_target']==1].shape[0])\n",
    "        - df[df['is_target']==0]['outcome'].sum() / float(df[df['is_target']==0].shape[0]) )\n",
    "rd = np.arange(df.shape[0]) * rd_uc "
   ]
  },
  {
   "cell_type": "code",
   "execution_count": 53,
   "metadata": {},
   "outputs": [
    {
     "data": {
      "text/plain": [
       "<matplotlib.legend.Legend at 0x1d2e66605b0>"
      ]
     },
     "execution_count": 53,
     "metadata": {},
     "output_type": "execute_result"
    },
    {
     "data": {
      "image/png": "[encoded data removed]",
      "text/plain": [
       "<Figure size 432x288 with 1 Axes>"
      ]
     },
     "metadata": {
      "needs_background": "light"
     },
     "output_type": "display_data"
    }
   ],
   "source": [
    "plot(np.arange(df.shape[0]),perfect_uc, color = 'r', label = 'best_model')\n",
    "plot(np.arange(df.shape[0]),modified_uc, color =  'g', label = 'class_modif')\n",
    "plot(np.arange(df.shape[0]),two_mod_uc, color = 'b', label = 'two_model')\n",
    "plot(np.arange(df.shape[0]),rd,color = 'k', label = 'random')\n",
    "plt.legend(bbox_to_anchor=(1.4, 0.5))"
   ]
  },
  {
   "cell_type": "markdown",
   "metadata": {},
   "source": [
    "* Kriva uzdizanja je jednostavna generalizacija efekta uzdizanja po decilu.\n",
    "* Što je veća površina ispod krive, to je bolji model - uporedivo sa AUC krivom.\n",
    "* Pristup 2 modela ima bolje rezultate jer je konstantno viši."
   ]
  },
  {
   "cell_type": "markdown",
   "metadata": {},
   "source": [
    "### Qini krive"
   ]
  },
  {
   "cell_type": "code",
   "execution_count": 55,
   "metadata": {},
   "outputs": [],
   "source": [
    "def qini(df, target_control_col, outcome_col, proba_col) :\n",
    "    \n",
    "    tmp = df.copy()\n",
    "    tmp = tmp.sort_values(proba_col,ascending = False)\n",
    "    tmp['RT'] = (tmp[target_control_col]*tmp[outcome_col]).cumsum()\n",
    "    tmp['RC'] = ((1-tmp[target_control_col])*tmp[outcome_col]).cumsum()\n",
    "    tmp['NT'] = tmp[target_control_col].cumsum()\n",
    "    tmp['NC'] = (1-tmp[target_control_col]).cumsum()\n",
    "    tmp['second_part'] = (tmp['RC'] * tmp['NT'] / tmp['NC']).fillna(0)\n",
    "    tmp['qini'] = tmp['RT'] - tmp['second_part']\n",
    "    \n",
    "    return tmp['qini']"
   ]
  },
  {
   "cell_type": "code",
   "execution_count": 56,
   "metadata": {},
   "outputs": [],
   "source": [
    "two_modqini = qini(df,'is_target','outcome','uplift_1')\n",
    "modified_qini = qini(df,'is_target','outcome','uplift_2')\n",
    "perfect_qini = qini(df,'is_target','outcome','perfect')\n",
    "secpart = df[df['is_target']==0]['outcome'].sum() \\\n",
    "    * float(df[df['is_target']==1].shape[0])/df[df['is_target']==0].shape[0]\n",
    "rqini = df[df['is_target']==1]['outcome'].sum() - secpart\n",
    "rd = np.arange(len(perfect_qini)) * rqini / len(perfect_qini)"
   ]
  },
  {
   "cell_type": "code",
   "execution_count": 57,
   "metadata": {},
   "outputs": [
    {
     "data": {
      "text/plain": [
       "<matplotlib.legend.Legend at 0x1d2e66d8790>"
      ]
     },
     "execution_count": 57,
     "metadata": {},
     "output_type": "execute_result"
    },
    {
     "data": {
      "image/png": "[encoded data removed]",
      "text/plain": [
       "<Figure size 432x288 with 1 Axes>"
      ]
     },
     "metadata": {
      "needs_background": "light"
     },
     "output_type": "display_data"
    }
   ],
   "source": [
    "plot(np.arange(df.shape[0]),perfect_qini, color = 'r', label = 'best_model')\n",
    "plot(np.arange(df.shape[0]),two_modqini, color =  'b', label = 'two_model')\n",
    "plot(np.arange(df.shape[0]),modified_qini, color = 'g', label = 'class_modif')\n",
    "plot(np.arange(df.shape[0]),rd,color = 'k', label = 'random')\n",
    "plt.legend(bbox_to_anchor=(1.4, 0.5))"
   ]
  },
  {
   "cell_type": "markdown",
   "metadata": {},
   "source": [
    "Zaključci:\n",
    "* teoretski random model (crna linija) pokazuje sveukupno tretman ima mali pozitivan efekat (pozitivan ali nizak nagib)\n",
    "* crvena kriva odgovara najboljem teorijskom modelu; što je bliže crvenoj krivini to bolje\n",
    "* pristup dva modela ima bolji učinak od drugog pristupa pošto je njegova kriva konstantno viša\n",
    "\n",
    "Međutim ima mesta za poboljšanje jer smo u oba slučaja daleko od crvene linije."
   ]
  }
 ],
 "metadata": {
  "kernelspec": {
   "display_name": "Python 3",
   "language": "python",
   "name": "python3"
  },
  "language_info": {
   "codemirror_mode": {
    "name": "ipython",
    "version": 3
   },
   "file_extension": ".py",
   "mimetype": "text/x-python",
   "name": "python",
   "nbconvert_exporter": "python",
   "pygments_lexer": "ipython3",
   "version": "3.8.5"
  }
 },
 "nbformat": 4,
 "nbformat_minor": 4
}
