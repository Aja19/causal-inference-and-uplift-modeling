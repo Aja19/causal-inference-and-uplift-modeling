{
 "cells": [
  {
   "cell_type": "markdown",
   "metadata": {
    "application/vnd.databricks.v1+cell": {
     "cellMetadata": {},
     "inputWidgets": {},
     "nuid": "87f6aad8-63c3-4472-b8d5-97615b8b682d",
     "showTitle": false,
     "title": ""
    }
   },
   "source": [
    "# S learner Uplift model\n",
    "\n",
    "Uplift model koji koristi meta-learner *S-Learner* za heterogeni efekat individualnog tretmana (ITE) i marketinsku segmentaciju kupaca.\n",
    "S-Learner je meta-learner koji koristi jedan model masinskog ucenja za procenu efekta kauzalnog tretmana na individualnom nivou."
   ]
  },
  {
   "cell_type": "code",
   "execution_count": 0,
   "metadata": {
    "application/vnd.databricks.v1+cell": {
     "cellMetadata": {
      "byteLimit": 2048000,
      "rowLimit": 10000
     },
     "inputWidgets": {},
     "nuid": "9882194a-0aee-4e51-b46d-e8bced4cbc6b",
     "showTitle": false,
     "title": ""
    }
   },
   "outputs": [
    {
     "output_type": "stream",
     "name": "stdout",
     "output_type": "stream",
     "text": [
      "Looking in indexes: https://artifacts.rbi.tech/artifactory/api/pypi/pypi-org-pypi-proxy/simple/\r\nCollecting causalml\r\n  Downloading https://artifacts.rbi.tech/artifactory/api/pypi/pypi-org-pypi-proxy/packages/packages/59/e5/1e4958c2e1b335c1ff87fdac03c90a81776e4bd5030e24a0a6db7cf02edd/causalml-0.13.0.tar.gz (535 kB)\r\n\u001B[?25l\r\u001B[K     |▋                               | 10 kB 25.4 MB/s eta 0:00:01\r\u001B[K     |█▎                              | 20 kB 23.6 MB/s eta 0:00:01\r\u001B[K     |█▉                              | 30 kB 28.9 MB/s eta 0:00:01\r\u001B[K     |██▌                             | 40 kB 31.2 MB/s eta 0:00:01\r\u001B[K     |███                             | 51 kB 33.3 MB/s eta 0:00:01\r\u001B[K     |███▊                            | 61 kB 32.1 MB/s eta 0:00:01\r\u001B[K     |████▎                           | 71 kB 31.0 MB/s eta 0:00:01\r\u001B[K     |█████                           | 81 kB 31.5 MB/s eta 0:00:01\r\u001B[K     |█████▌                          | 92 kB 32.7 MB/s eta 0:00:01\r\u001B[K     |██████▏                         | 102 kB 32.0 MB/s eta 0:00:01\r\u001B[K     |██████▊                         | 112 kB 32.0 MB/s eta 0:00:01\r\u001B[K     |███████▍                        | 122 kB 32.0 MB/s eta 0:00:01\r\u001B[K     |████████                        | 133 kB 32.0 MB/s eta 0:00:01\r\u001B[K     |████████▋                       | 143 kB 32.0 MB/s eta 0:00:01\r\u001B[K     |█████████▏                      | 153 kB 32.0 MB/s eta 0:00:01\r\u001B[K     |█████████▉                      | 163 kB 32.0 MB/s eta 0:00:01\r\u001B[K     |██████████▍                     | 174 kB 32.0 MB/s eta 0:00:01\r\u001B[K     |███████████                     | 184 kB 32.0 MB/s eta 0:00:01\r\u001B[K     |███████████▋                    | 194 kB 32.0 MB/s eta 0:00:01\r\u001B[K     |████████████▎                   | 204 kB 32.0 MB/s eta 0:00:01\r\u001B[K     |████████████▉                   | 215 kB 32.0 MB/s eta 0:00:01\r\u001B[K     |█████████████▌                  | 225 kB 32.0 MB/s eta 0:00:01\r\u001B[K     |██████████████                  | 235 kB 32.0 MB/s eta 0:00:01\r\u001B[K     |██████████████▊                 | 245 kB 32.0 MB/s eta 0:00:01\r\u001B[K     |███████████████▎                | 256 kB 32.0 MB/s eta 0:00:01\r\u001B[K     |████████████████                | 266 kB 32.0 MB/s eta 0:00:01\r\u001B[K     |████████████████▌               | 276 kB 32.0 MB/s eta 0:00:01\r\u001B[K     |█████████████████▏              | 286 kB 32.0 MB/s eta 0:00:01\r\u001B[K     |█████████████████▊              | 296 kB 32.0 MB/s eta 0:00:01\r\u001B[K     |██████████████████▍             | 307 kB 32.0 MB/s eta 0:00:01\r\u001B[K     |███████████████████             | 317 kB 32.0 MB/s eta 0:00:01\r\u001B[K     |███████████████████▋            | 327 kB 32.0 MB/s eta 0:00:01\r\u001B[K     |████████████████████▏           | 337 kB 32.0 MB/s eta 0:00:01\r\u001B[K     |████████████████████▉           | 348 kB 32.0 MB/s eta 0:00:01\r\u001B[K     |█████████████████████▍          | 358 kB 32.0 MB/s eta 0:00:01\r\u001B[K     |██████████████████████          | 368 kB 32.0 MB/s eta 0:00:01\r\u001B[K     |██████████████████████▋         | 378 kB 32.0 MB/s eta 0:00:01\r\u001B[K     |███████████████████████▎        | 389 kB 32.0 MB/s eta 0:00:01\r\u001B[K     |███████████████████████▉        | 399 kB 32.0 MB/s eta 0:00:01\r\u001B[K     |████████████████████████▌       | 409 kB 32.0 MB/s eta 0:00:01\r\u001B[K     |█████████████████████████       | 419 kB 32.0 MB/s eta 0:00:01\r\u001B[K     |█████████████████████████▊      | 430 kB 32.0 MB/s eta 0:00:01\r\u001B[K     |██████████████████████████▎     | 440 kB 32.0 MB/s eta 0:00:01\r\u001B[K     |███████████████████████████     | 450 kB 32.0 MB/s eta 0:00:01\r\u001B[K     |███████████████████████████▌    | 460 kB 32.0 MB/s eta 0:00:01\r\u001B[K     |████████████████████████████▏   | 471 kB 32.0 MB/s eta 0:00:01\r\u001B[K     |████████████████████████████▊   | 481 kB 32.0 MB/s eta 0:00:01\r\u001B[K     |█████████████████████████████▍  | 491 kB 32.0 MB/s eta 0:00:01\r\u001B[K     |██████████████████████████████  | 501 kB 32.0 MB/s eta 0:00:01\r\u001B[K     |██████████████████████████████▋ | 512 kB 32.0 MB/s eta 0:00:01\r\u001B[K     |███████████████████████████████▏| 522 kB 32.0 MB/s eta 0:00:01\r\u001B[K     |███████████████████████████████▉| 532 kB 32.0 MB/s eta 0:00:01\r\u001B[K     |████████████████████████████████| 535 kB 32.0 MB/s \r\n\u001B[?25hRequirement already satisfied: setuptools>=41.0.0 in /databricks/python3/lib/python3.9/site-packages (from causalml) (61.2.0)\r\nCollecting forestci==0.6\r\n  Downloading https://artifacts.rbi.tech/artifactory/api/pypi/pypi-org-pypi-proxy/packages/packages/b3/08/02f77e94d3b8c4a1b5ae48b4bf12689ba63f75b558b67fad10d407c6252e/forestci-0.6-py3-none-any.whl (12 kB)\r\nCollecting pathos==0.2.9\r\n  Downloading https://artifacts.rbi.tech/artifactory/api/pypi/pypi-org-pypi-proxy/packages/packages/57/78/3f3a6c8f9447a947af2f2a191f71cc870b0fa673432044f38d966f3fd9c0/pathos-0.2.9-py3-none-any.whl (76 kB)\r\n\u001B[?25l\r\u001B[K     |████▎                           | 10 kB 28.2 MB/s eta 0:00:01\r\u001B[K     |████████▌                       | 20 kB 34.4 MB/s eta 0:00:01\r\u001B[K     |████████████▉                   | 30 kB 42.1 MB/s eta 0:00:01\r\u001B[K     |█████████████████               | 40 kB 43.2 MB/s eta 0:00:01\r\u001B[K     |█████████████████████▎          | 51 kB 46.1 MB/s eta 0:00:01\r\u001B[K     |█████████████████████████▋      | 61 kB 49.2 MB/s eta 0:00:01\r\u001B[K     |█████████████████████████████▉  | 71 kB 49.3 MB/s eta 0:00:01\r\u001B[K     |████████████████████████████████| 76 kB 7.4 MB/s \r\n\u001B[?25hRequirement already satisfied: pip>=10.0 in /local_disk0/.ephemeral_nfs/envs/pythonEnv-860cd165-2452-4c7d-82a9-044a74f1a954/lib/python3.9/site-packages (from causalml) (21.2.4)\r\nRequirement already satisfied: numpy>=1.18.5 in /databricks/python3/lib/python3.9/site-packages (from causalml) (1.21.5)\r\nRequirement already satisfied: scipy>=1.4.1 in /databricks/python3/lib/python3.9/site-packages (from causalml) (1.7.3)\r\nRequirement already satisfied: matplotlib in /databricks/python3/lib/python3.9/site-packages (from causalml) (3.5.1)\r\nRequirement already satisfied: pandas>=0.24.1 in /databricks/python3/lib/python3.9/site-packages (from causalml) (1.4.2)\r\nRequirement already satisfied: scikit-learn==1.0.2 in /databricks/python3/lib/python3.9/site-packages (from causalml) (1.0.2)\r\nRequirement already satisfied: statsmodels>=0.9.0 in /databricks/python3/lib/python3.9/site-packages (from causalml) (0.13.2)\r\nRequirement already satisfied: seaborn in /databricks/python3/lib/python3.9/site-packages (from causalml) (0.11.2)\r\nRequirement already satisfied: Cython>=0.28.0 in /databricks/python3/lib/python3.9/site-packages (from causalml) (0.29.28)\r\nCollecting xgboost\r\n  Downloading https://artifacts.rbi.tech/artifactory/api/pypi/pypi-org-pypi-proxy/packages/packages/7e/94/164786127eed50283df0b62a3da9521695163b1596a1667e3856438da6e7/xgboost-1.7.5-py3-none-manylinux2014_x86_64.whl (200.3 MB)\r\n\u001B[?25l\r\u001B[K     |                                | 10 kB 32.3 MB/s eta 0:00:07\r\u001B[K     |                                | 20 kB 39.3 MB/s eta 0:00:06\r\u001B[K     |                                | 30 kB 48.1 MB/s eta 0:00:05\r\u001B[K     |                                | 40 kB 52.5 MB/s eta 0:00:04\r\u001B[K     |                                | 51 kB 54.2 MB/s eta 0:00:04\r\u001B[K     |                                | 61 kB 58.3 MB/s eta 0:00:04\r\u001B[K     |                                | 71 kB 58.7 MB/s eta 0:00:04\r\u001B[K     |                                | 81 kB 58.7 MB/s eta 0:00:04\r\u001B[K     |                                | 92 kB 60.9 MB/s eta 0:00:04\r\u001B[K     |                                | 102 kB 60.5 MB/s eta 0:00:04\r\u001B[K     |                                | 112 kB 60.5 MB/s eta 0:00:04\r\u001B[K     |                                | 122 kB 60.5 MB/s eta 0:00:04\r\u001B[K     |                                | 133 kB 60.5 MB/s eta 0:00:04\r\u001B[K     |                                | 143 kB 60.5 MB/s eta 0:00:04\r\u001B[K     |                                | 153 kB 60.5 MB/s eta 0:00:04\r\u001B[K     |                                | 163 kB 60.5 MB/s eta 0:00:04\r\u001B[K     |                                | 174 kB 60.5 MB/s eta 0:00:04\r\u001B[K     |                                | 184 kB 60.5 MB/s eta 0:00:04\r\u001B[K     |                                | 194 kB 60.5 MB/s eta 0:00:04\r\u001B[K     |                                | 204 kB 60.5 MB/s eta 0:00:04\r\u001B[K     |                                | 215 kB 60.5 MB/s eta 0:00:04\r\u001B[K     |                                | 225 kB 60.5 MB/s eta 0:00:04\r\u001B[K     |                                | 235 kB 60.5 MB/s eta 0:00:04\r\u001B[K     |                                | 245 kB 60.5 MB/s eta 0:00:04\r\u001B[K     |                                | 256 kB 60.5 MB/s eta 0:00:04\r\u001B[K     |                                | 266 kB 60.5 MB/s eta 0:00:04\r\u001B[K     |                                | 276 kB 60.5 MB/s eta 0:00:04\r\u001B[K     |                                | 286 kB 60.5 MB/s eta 0:00:04\r\u001B[K     |                                | 296 kB 60.5 MB/s eta 0:00:04\r\u001B[K     |                                | 307 kB 60.5 MB/s eta 0:00:04\r\u001B[K     |                                | 317 kB 60.5 MB/s eta 0:00:04\r\u001B[K     |                                | 327 kB 60.5 MB/s eta 0:00:04\r\u001B[K     |                                | 337 kB 60.5 MB/s eta 0:00:04\r\u001B[K     |                                | 348 kB 60.5 MB/s eta 0:00:04\r\u001B[K     |                                | 358 kB 60.5 MB/s eta 0:00:04\r\u001B[K     |                                | 368 kB 60.5 MB/s eta 0:00:04\r\u001B[K     |                                | 378 kB 60.5 MB/s eta 0:00:04\r\u001B[K     |                                | 389 kB 60.5 MB/s eta 0:00:04\r\u001B[K     |                                | 399 kB 60.5 MB/s eta 0:00:04\r\u001B[K     |                                | 409 kB 60.5 MB/s eta 0:00:04\r\u001B[K     |                                | 419 kB 60.5 MB/s eta 0:00:04\r\u001B[K     |                                | 430 kB 60.5 MB/s eta 0:00:04\r\u001B[K     |                                | 440 kB 60.5 MB/s eta 0:00:04\r\u001B[K     |                                | 450 kB 60.5 MB/s eta 0:00:04\r\u001B[K     |                                | 460 kB 60.5 MB/s eta 0:00:04\r\u001B[K     |                                | 471 kB 60.5 MB/s eta 0:00:04\r\u001B[K     |                                | 481 kB 60.5 MB/s eta 0:00:04\r\u001B[K     |                                | 491 kB 60.5 MB/s eta 0:00:04\r\u001B[K     |                                | 501 kB 60.5 MB/s eta 0:00:04\r\u001B[K     |                                | 512 kB 60.5 MB/s eta 0:00:04\r\u001B[K     |                                | 522 kB 60.5 MB/s eta 0:00:04\r\u001B[K     |                                | 532 kB 60.5 MB/s eta 0:00:04\r\u001B[K     |                                | 542 kB 60.5 MB/s eta 0:00:04\r\u001B[K     |                                | 552 kB 60.5 MB/s eta 0:00:04\r\u001B[K     |                                | 563 kB 60.5 MB/s eta 0:00:04\r\u001B[K     |                                | 573 kB 60.5 MB/s eta 0:00:04\r\u001B[K     |                                | 583 kB 60.5 MB/s eta 0:00:04\r\u001B[K     |                                | 593 kB 60.5 MB/s eta 0:00:04\r\u001B[K     |                                | 604 kB 60.5 MB/s eta 0:00:04\r\u001B[K     |                                | 614 kB 60.5 MB/s eta 0:00:04\r\u001B[K     |                                | 624 kB 60.5 MB/s eta 0:00:04\r\u001B[K     |                                | 634 kB 60.5 MB/s eta 0:00:04\r\u001B[K     |                                | 645 kB 60.5 MB/s eta 0:00:04\r\u001B[K     |                                | 655 kB 60.5 MB/s eta 0:00:04\r\u001B[K     |                                | 665 kB 60.5 MB/s eta 0:00:04\r\u001B[K     |                                | 675 kB 60.5 MB/s eta 0:00:04\r\u001B[K     |                                | 686 kB 60.5 MB/s eta 0:00:04\r\u001B[K     |▏                               | 696 kB 60.5 MB/s eta 0:00:04\r\u001B[K     |▏                               | 706 kB 60.5 MB/s eta 0:00:04\r\u001B[K     |▏                               | 716 kB 60.5 MB/s eta 0:00:04\r\u001B[K     |▏                               | 727 kB 60.5 MB/s eta 0:00:04\r\u001B[K     |▏                               | 737 kB 60.5 MB/s eta 0:00:04\r\u001B[K     |▏                               | 747 kB 60.5 MB/s eta 0:00:04\r\u001B[K     |▏                               | 757 kB 60.5 MB/s eta 0:00:04\r\u001B[K     |▏                               | 768 kB 60.5 MB/s eta 0:00:04\r\u001B[K     |▏                               | 778 kB 60.5 MB/s eta 0:00:04\r\u001B[K     |▏                               | 788 kB 60.5 MB/s eta 0:00:04\r\u001B[K     |▏                               | 798 kB 60.5 MB/s eta 0:00:04\r\u001B[K     |▏                               | 808 kB 60.5 MB/s eta 0:00:04\r\u001B[K     |▏                               | 819 kB 60.5 MB/s eta 0:00:04\r\u001B[K     |▏                               | 829 kB 60.5 MB/s eta 0:00:04\r\u001B[K     |▏                               | 839 kB 60.5 MB/s eta 0:00:04\r\u001B[K     |▏                               | 849 kB 60.5 MB/s eta 0:00:04\r\u001B[K     |▏                               | 860 kB 60.5 MB/s eta 0:00:04\r\u001B[K     |▏                               | 870 kB 60.5 MB/s eta 0:00:04\r\u001B[K     |▏                               | 880 kB 60.5 MB/s eta 0:00:04\r\u001B[K     |▏                               | 890 kB 60.5 MB/s eta 0:00:04\r\u001B[K     |▏                               | 901 kB 60.5 MB/s eta 0:00:04\r\u001B[K     |▏                               | 911 kB 60.5 MB/s eta 0:00:04\r\u001B[K     |▏                               | 921 kB 60.5 MB/s eta 0:00:04\r\u001B[K     |▏                               | 931 kB 60.5 MB/s eta 0:00:04\r\u001B[K     |▏                               | 942 kB 60.5 MB/s eta 0:00:04\r\u001B[K     |▏                               | 952 kB 60.5 MB/s eta 0:00:04\r\u001B[K     |▏                               | 962 kB 60.5 MB/s eta 0:00:04\r\u001B[K     |▏                               | 972 kB 60.5 MB/s eta 0:00:04\r\u001B[K     |▏                               | 983 kB 60.5 MB/s eta 0:00:04\r\u001B[K     |▏                               | 993 kB 60.5 MB/s eta 0:00:04\r\u001B[K     |▏                               | 1.0 MB 60.5 MB/s eta 0:00:04\r\u001B[K     |▏                               | 1.0 MB 60.5 MB/s eta 0:00:04\r\u001B[K     |▏                               | 1.0 MB 60.5 MB/s eta 0:00:04\r\u001B[K     |▏                               | 1.0 MB 60.5 MB/s eta 0:00:04\r\u001B[K     |▏                               | 1.0 MB 60.5 MB/s eta 0:00:04\r\u001B[K     |▏                               | 1.1 MB 60.5 MB/s eta 0:00:04\r\u001B[K     |▏                               | 1.1 MB 60.5 MB/s eta 0:00:04\r\u001B[K     |▏                               | 1.1 MB 60.5 MB/s eta 0:00:04\r\u001B[K     |▏                               | 1.1 MB 60.5 MB/s eta 0:00:04\r\u001B[K     |▏                               | 1.1 MB 60.5 MB/s eta 0:00:04\r\u001B[K     |▏                               | 1.1 MB 60.5 MB/s eta 0:00:04\r\u001B[K     |▏                               | 1.1 MB 60.5 MB/s eta 0:00:04\r\u001B[K     |▏                               | 1.1 MB 60.5 MB/s eta 0:00:04\r\u001B[K     |▏                               | 1.1 MB 60.5 MB/s eta 0:00:04\r\u001B[K     |▏                               | 1.1 MB 60.5 MB/s eta 0:00:04\r\u001B[K     |▏                               | 1.2 MB 60.5 MB/s eta 0:00:04\r\u001B[K     |▏                               | 1.2 MB 60.5 MB/s eta 0:00:04\r\u001B[K     |▏                               | 1.2 MB 60.5 MB/s eta 0:00:04\r\u001B[K     |▏                               | 1.2 MB 60.5 MB/s eta 0:00:04\r\u001B[K     |▏                               | 1.2 MB 60.5 MB/s eta 0:00:04\r\u001B[K     |▏                               | 1.2 MB 60.5 MB/s eta 0:00:04\r\u001B[K     |▏                               | 1.2 MB 60.5 MB/s eta 0:00:04\r\u001B[K     |▏                               | 1.2 MB 60.5 MB/s eta 0:00:04\r\u001B[K     |▏                               | 1.2 MB 60.5 MB/s eta 0:00:04\r\u001B[K     |▏                               | 1.2 MB 60.5 MB/s eta 0:00:04\r\u001B[K     |▏                               | 1.3 MB 60.5 MB/s eta 0:00:04\r\u001B[K     |▏                               | 1.3 MB 60.5 MB/s eta 0:00:04\r\u001B[K     |▏                               | 1.3 MB 60.5 MB/s eta 0:00:04\r\u001B[K     |▏                               | 1.3 MB 60.5 MB/s eta 0:00:04\r\u001B[K     |▏                               | 1.3 MB 60.5 MB/s eta 0:00:04\r\u001B[K     |▏                               | 1.3 MB 60.5 MB/s eta 0:00:04\r\u001B[K     |▏                               | 1.3 MB 60.5 MB/s eta 0:00:04\r\u001B[K     |▏                               | 1.3 MB 60.5 MB/s eta 0:00:04\r\u001B[K     |▏                               | 1.3 MB 60.5 MB/s eta 0:00:04\r\u001B[K     |▏                               | 1.4 MB 60.5 MB/s eta 0:00:04\r\u001B[K     |▏                               | 1.4 MB 60.5 MB/s eta 0:00:04\r\u001B[K     |▏                               | 1.4 MB 60.5 MB/s eta 0:00:04\r\u001B[K     |▏                               | 1.4 MB 60.5 MB/s eta 0:00:04\r\u001B[K     |▎                               | 1.4 MB 60.5 MB/s eta 0:00:04\r\u001B[K     |▎                               | 1.4 MB 60.5 MB/s eta 0:00:04\r\u001B[K     |▎                               | 1.4 MB 60.5 MB/s eta 0:00:04\r\u001B[K     |▎                               | 1.4 MB 60.5 MB/s eta 0:00:04\r\u001B[K     |▎                               | 1.4 MB 60.5 MB/s eta 0:00:04\r\u001B[K     |▎                               | 1.4 MB 60.5 MB/s eta 0:00:04\r\u001B[K     |▎                               | 1.5 MB 60.5 MB/s eta 0:00:04\r\u001B[K     |▎                               | 1.5 MB 60.5 MB/s eta 0:00:04\r\u001B[K     |▎                               | 1.5 MB 60.5 MB/s eta 0:00:04\r\u001B[K     |▎                               | 1.5 MB 60.5 MB/s eta 0:00:04\r\u001B[K     |▎                               | 1.5 MB 60.5 MB/s eta 0:00:04\r\u001B[K     |▎                               | 1.5 MB 60.5 MB/s eta 0:00:04\r\u001B[K     |▎                               | 1.5 MB 60.5 MB/s eta 0:00:04\r\u001B[K     |▎                               | 1.5 MB 60.5 MB/s eta 0:00:04\r\u001B[K     |▎                               | 1.5 MB 60.5 MB/s eta 0:00:04\r\u001B[K     |▎                               | 1.5 MB 60.5 MB/s eta 0:00:04\r\u001B[K     |▎                               | 1.6 MB 60.5 MB/s eta 0:00:04\r\u001B[K     |▎                               | 1.6 MB 60.5 MB/s eta 0:00:04\r\u001B[K     |▎                               | 1.6 MB 60.5 MB/s eta 0:00:04\r\u001B[K     |▎                               | 1.6 MB 60.5 MB/s eta 0:00:04\r\u001B[K     |▎                               | 1.6 MB 60.5 MB/s eta 0:00:04\r\u001B[K     |▎                               | 1.6 MB 60.5 MB/s eta 0:00:04\r\u001B[K     |▎                               | 1.6 MB 60.5 MB/s eta 0:00:04\r\u001B[K     |▎                               | 1.6 MB 60.5 MB/s eta 0:00:04\r\u001B[K     |▎                               | 1.6 MB 60.5 MB/s eta 0:00:04\r\u001B[K     |▎                               | 1.6 MB 60.5 MB/s eta 0:00:04\r\u001B[K     |▎                               | 1.7 MB 60.5 MB/s eta 0:00:04\r\u001B[K     |▎                               | 1.7 MB 60.5 MB/s eta 0:00:04\r\u001B[K     |▎                               | 1.7 MB 60.5 MB/s eta 0:00:04\r\u001B[K     |▎                               | 1.7 MB 60.5 MB/s eta 0:00:04\r\u001B[K     |▎                               | 1.7 MB 60.5 MB/s eta 0:00:04\r\u001B[K     |▎                               | 1.7 MB 60.5 MB/s eta 0:00:04\r\u001B[K     |▎                               | 1.7 MB 60.5 MB/s eta 0:00:04\r\u001B[K     |▎                               | 1.7 MB 60.5 MB/s eta 0:00:04\r\u001B[K     |▎                               | 1.7 MB 60.5 MB/s eta 0:00:04\r\u001B[K     |▎                               | 1.8 MB 60.5 MB/s eta 0:00:04\r\u001B[K     |▎                               | 1.8 MB 60.5 MB/s eta 0:00:04\r\u001B[K     |▎                               | 1.8 MB 60.5 MB/s eta 0:00:04\r\u001B[K     |▎                               | 1.8 MB 60.5 MB/s eta 0:00:04\r\u001B[K     |▎                               | 1.8 MB 60.5 MB/s eta 0:00:04\r\u001B[K     |▎                               | 1.8 MB 60.5 MB/s eta 0:00:04\r\u001B[K     |▎                               | 1.8 MB 60.5 MB/s eta 0:00:04\r\u001B[K     |▎                               | 1.8 MB 60.5 MB/s eta 0:00:04\r\u001B[K     |▎                               | 1.8 MB 60.5 MB/s eta 0:00:04\r\u001B[K     |▎                               | 1.8 MB 60.5 MB/s eta 0:00:04\r\u001B[K     |▎                               | 1.9 MB 60.5 MB/s eta 0:00:04\r\u001B[K     |▎                               | 1.9 MB 60.5 MB/s eta 0:00:04\r\u001B[K     |▎                               | 1.9 MB 60.5 MB/s eta 0:00:04\r\u001B[K     |▎                               | 1.9 MB 60.5 MB/s eta 0:00:04\r\u001B[K     |▎                               | 1.9 MB 60.5 MB/s eta 0:00:04\r\u001B[K     |▎                               | 1.9 MB 60.5 MB/s eta 0:00:04\r\u001B[K     |▎                               | 1.9 MB 60.5 MB/s eta 0:00:04\r\u001B[K     |▎                               | 1.9 MB 60.5 MB/s eta 0:00:04\r\u001B[K     |▎                               | 1.9 MB 60.5 MB/s eta 0:00:04\r\u001B[K     |▎                               | 1.9 MB 60.5 MB/s eta 0:00:04\r\u001B[K     |▎                               | 2.0 MB 60.5 MB/s eta 0:00:04\r\u001B[K     |▎                               | 2.0 MB 60.5 MB/s eta 0:00:04\r\u001B[K     |▎                               | 2.0 MB 60.5 MB/s eta 0:00:04\r\u001B[K     |▎                               | 2.0 MB 60.5 MB/s eta 0:00:04\r\u001B[K     |▎                               | 2.0 MB 60.5 MB/s eta 0:00:04\r\u001B[K     |▎                               | 2.0 MB 60.5 MB/s eta 0:00:04\r\u001B[K     |▎                               | 2.0 MB 60.5 MB/s eta 0:00:04\r\u001B[K     |▎                               | 2.0 MB 60.5 MB/s eta 0:00:04\r\u001B[K     |▎                               | 2.0 MB 60.5 MB/s eta 0:00:04\r\u001B[K     |▎                               | 2.0 MB 60.5 MB/s eta 0:00:04\r\u001B[K     |▎                               | 2.1 MB 60.5 MB/s eta 0:00:04\r\u001B[K     |▎                               | 2.1 MB 60.5 MB/s eta 0:00:04\r\u001B[K     |▎                               | 2.1 MB 60.5 MB/s eta 0:00:04\r\u001B[K     |▍                               | 2.1 MB 60.5 MB/s eta 0:00:04\r\u001B[K     |▍                               | 2.1 MB 60.5 MB/s eta 0:00:04\r\u001B[K     |▍                               | 2.1 MB 60.5 MB/s eta 0:00:04\r\u001B[K     |▍                               | 2.1 MB 60.5 MB/s eta 0:00:04\r\u001B[K     |▍                               | 2.1 MB 60.5 MB/s eta 0:00:04\r\u001B[K     |▍                               | 2.1 MB 60.5 MB/s eta 0:00:04\r\u001B[K     |▍                               | 2.2 MB 60.5 MB/s eta 0:00:04\r\u001B[K     |▍                               | 2.2 MB 60.5 MB/s eta 0:00:04\r\u001B[K     |▍                               | 2.2 MB 60.5 MB/s eta 0:00:04\r\u001B[K     |▍                               | 2.2 MB 60.5 MB/s eta 0:00:04\r\u001B[K     |▍                               | 2.2 MB 60.5 MB/s eta 0:00:04\r\u001B[K     |▍                               | 2.2 MB 60.5 MB/s eta 0:00:04\r\u001B[K     |▍                               | 2.2 MB 60.5 MB/s eta 0:00:04\r\u001B[K     |▍                               | 2.2 MB 60.5 MB/s eta 0:00:04\r\u001B[K     |▍                               | 2.2 MB 60.5 MB/s eta 0:00:04\r\u001B[K     |▍                               | 2.2 MB 60.5 MB/s eta 0:00:04\r\u001B[K     |▍                               | 2.3 MB 60.5 MB/s eta 0:00:04\r\u001B[K     |▍                               | 2.3 MB 60.5 MB/s eta 0:00:04\r\u001B[K     |▍                               | 2.3 MB 60.5 MB/s eta 0:00:04\r\u001B[K     |▍                               | 2.3 MB 60.5 MB/s eta 0:00:04\r\u001B[K     |▍                               | 2.3 MB 60.5 MB/s eta 0:00:04\r\u001B[K     |▍                               | 2.3 MB 60.5 MB/s eta 0:00:04\r\u001B[K     |▍                               | 2.3 MB 60.5 MB/s eta 0:00:04\r\u001B[K     |▍                               | 2.3 MB 60.5 MB/s eta 0:00:04\r\u001B[K     |▍                               | 2.3 MB 60.5 MB/s eta 0:00:04\r\u001B[K     |▍                               | 2.3 MB 60.5 MB/s eta 0:00:04\r\u001B[K     |▍                               | 2.4 MB 60.5 MB/s eta 0:00:04\r\u001B[K     |▍                               | 2.4 MB 60.5 MB/s eta 0:00:04\r\u001B[K     |▍                               | 2.4 MB 60.5 MB/s eta 0:00:04\r\u001B[K     |▍                               | 2.4 MB 60.5 MB/s eta 0:00:04\r\u001B[K     |▍                               | 2.4 MB 60.5 MB/s eta 0:00:04\r\u001B[K     |▍                               | 2.4 MB 60.5 MB/s eta 0:00:04\r\u001B[K     |▍                               | 2.4 MB 60.5 MB/s eta 0:00:04\r\u001B[K     |▍                               | 2.4 MB 60.5 MB/s eta 0:00:04\r\u001B[K     |▍                               | 2.4 MB 60.5 MB/s eta 0:00:04\r\u001B[K     |▍                               | 2.4 MB 60.5 MB/s eta 0:00:04\r\u001B[K     |▍                               | 2.5 MB 60.5 MB/s eta 0:00:04\r\u001B[K     |▍                               | 2.5 MB 60.5 MB/s eta 0:00:04\r\u001B[K     |▍                               | 2.5 MB 60.5 MB/s eta 0:00:04\r\u001B[K     |▍                               | 2.5 MB 60.5 MB/s eta 0:00:04\r\u001B[K     |▍                               | 2.5 MB 60.5 MB/s eta 0:00:04\r\u001B[K     |▍                               | 2.5 MB 60.5 MB/s eta 0:00:04\r\u001B[K     |▍                               | 2.5 MB 60.5 MB/s eta 0:00:04\r\u001B[K     |▍                               | 2.5 MB 60.5 MB/s eta 0:00:04\r\u001B[K     |▍                               | 2.5 MB 60.5 MB/s eta 0:00:04\r\u001B[K     |▍                               | 2.5 MB 60.5 MB/s eta 0:00:04\r\u001B[K     |▍                               | 2.6 MB 60.5 MB/s eta 0:00:04\r\u001B[K     |▍                               | 2.6 MB 60.5 MB/s eta 0:00:04\r\u001B[K     |▍                               | 2.6 MB 60.5 MB/s eta 0:00:04\r\u001B[K     |▍                               | 2.6 MB 60.5 MB/s eta 0:00:04\r\u001B[K     |▍                               | 2.6 MB 60.5 MB/s eta 0:00:04\r\u001B[K     |▍              \n\n*** WARNING: max output size exceeded, skipping output. ***\n\neta 0:00:01\r\u001B[K     |██████████████████████████████  | 39.6 MB 66.4 MB/s eta 0:00:01\r\u001B[K     |██████████████████████████████  | 39.6 MB 66.4 MB/s eta 0:00:01\r\u001B[K     |██████████████████████████████  | 39.6 MB 66.4 MB/s eta 0:00:01\r\u001B[K     |██████████████████████████████▏ | 39.6 MB 66.4 MB/s eta 0:00:01\r\u001B[K     |██████████████████████████████▏ | 39.6 MB 66.4 MB/s eta 0:00:01\r\u001B[K     |██████████████████████████████▏ | 39.7 MB 66.4 MB/s eta 0:00:01\r\u001B[K     |██████████████████████████████▏ | 39.7 MB 66.4 MB/s eta 0:00:01\r\u001B[K     |██████████████████████████████▏ | 39.7 MB 66.4 MB/s eta 0:00:01\r\u001B[K     |██████████████████████████████▏ | 39.7 MB 66.4 MB/s eta 0:00:01\r\u001B[K     |██████████████████████████████▏ | 39.7 MB 66.4 MB/s eta 0:00:01\r\u001B[K     |██████████████████████████████▏ | 39.7 MB 66.4 MB/s eta 0:00:01\r\u001B[K     |██████████████████████████████▏ | 39.7 MB 66.4 MB/s eta 0:00:01\r\u001B[K     |██████████████████████████████▏ | 39.7 MB 66.4 MB/s eta 0:00:01\r\u001B[K     |██████████████████████████████▏ | 39.7 MB 66.4 MB/s eta 0:00:01\r\u001B[K     |██████████████████████████████▏ | 39.8 MB 66.4 MB/s eta 0:00:01\r\u001B[K     |██████████████████████████████▏ | 39.8 MB 66.4 MB/s eta 0:00:01\r\u001B[K     |██████████████████████████████▏ | 39.8 MB 66.4 MB/s eta 0:00:01\r\u001B[K     |██████████████████████████████▎ | 39.8 MB 66.4 MB/s eta 0:00:01\r\u001B[K     |██████████████████████████████▎ | 39.8 MB 66.4 MB/s eta 0:00:01\r\u001B[K     |██████████████████████████████▎ | 39.8 MB 66.4 MB/s eta 0:00:01\r\u001B[K     |██████████████████████████████▎ | 39.8 MB 66.4 MB/s eta 0:00:01\r\u001B[K     |██████████████████████████████▎ | 39.8 MB 66.4 MB/s eta 0:00:01\r\u001B[K     |██████████████████████████████▎ | 39.8 MB 66.4 MB/s eta 0:00:01\r\u001B[K     |██████████████████████████████▎ | 39.8 MB 66.4 MB/s eta 0:00:01\r\u001B[K     |██████████████████████████████▎ | 39.9 MB 66.4 MB/s eta 0:00:01\r\u001B[K     |██████████████████████████████▎ | 39.9 MB 66.4 MB/s eta 0:00:01\r\u001B[K     |██████████████████████████████▎ | 39.9 MB 66.4 MB/s eta 0:00:01\r\u001B[K     |██████████████████████████████▎ | 39.9 MB 66.4 MB/s eta 0:00:01\r\u001B[K     |██████████████████████████████▎ | 39.9 MB 66.4 MB/s eta 0:00:01\r\u001B[K     |██████████████████████████████▎ | 39.9 MB 66.4 MB/s eta 0:00:01\r\u001B[K     |██████████████████████████████▎ | 39.9 MB 66.4 MB/s eta 0:00:01\r\u001B[K     |██████████████████████████████▍ | 39.9 MB 66.4 MB/s eta 0:00:01\r\u001B[K     |██████████████████████████████▍ | 39.9 MB 66.4 MB/s eta 0:00:01\r\u001B[K     |██████████████████████████████▍ | 39.9 MB 66.4 MB/s eta 0:00:01\r\u001B[K     |██████████████████████████████▍ | 40.0 MB 66.4 MB/s eta 0:00:01\r\u001B[K     |██████████████████████████████▍ | 40.0 MB 66.4 MB/s eta 0:00:01\r\u001B[K     |██████████████████████████████▍ | 40.0 MB 66.4 MB/s eta 0:00:01\r\u001B[K     |██████████████████████████████▍ | 40.0 MB 66.4 MB/s eta 0:00:01\r\u001B[K     |██████████████████████████████▍ | 40.0 MB 66.4 MB/s eta 0:00:01\r\u001B[K     |██████████████████████████████▍ | 40.0 MB 66.4 MB/s eta 0:00:01\r\u001B[K     |██████████████████████████████▍ | 40.0 MB 66.4 MB/s eta 0:00:01\r\u001B[K     |██████████████████████████████▍ | 40.0 MB 66.4 MB/s eta 0:00:01\r\u001B[K     |██████████████████████████████▍ | 40.0 MB 66.4 MB/s eta 0:00:01\r\u001B[K     |██████████████████████████████▍ | 40.0 MB 66.4 MB/s eta 0:00:01\r\u001B[K     |██████████████████████████████▍ | 40.1 MB 66.4 MB/s eta 0:00:01\r\u001B[K     |██████████████████████████████▍ | 40.1 MB 66.4 MB/s eta 0:00:01\r\u001B[K     |██████████████████████████████▌ | 40.1 MB 66.4 MB/s eta 0:00:01\r\u001B[K     |██████████████████████████████▌ | 40.1 MB 66.4 MB/s eta 0:00:01\r\u001B[K     |██████████████████████████████▌ | 40.1 MB 66.4 MB/s eta 0:00:01\r\u001B[K     |██████████████████████████████▌ | 40.1 MB 66.4 MB/s eta 0:00:01\r\u001B[K     |██████████████████████████████▌ | 40.1 MB 66.4 MB/s eta 0:00:01\r\u001B[K     |██████████████████████████████▌ | 40.1 MB 66.4 MB/s eta 0:00:01\r\u001B[K     |██████████████████████████████▌ | 40.1 MB 66.4 MB/s eta 0:00:01\r\u001B[K     |██████████████████████████████▌ | 40.2 MB 66.4 MB/s eta 0:00:01\r\u001B[K     |██████████████████████████████▌ | 40.2 MB 66.4 MB/s eta 0:00:01\r\u001B[K     |██████████████████████████████▌ | 40.2 MB 66.4 MB/s eta 0:00:01\r\u001B[K     |██████████████████████████████▌ | 40.2 MB 66.4 MB/s eta 0:00:01\r\u001B[K     |██████████████████████████████▌ | 40.2 MB 66.4 MB/s eta 0:00:01\r\u001B[K     |██████████████████████████████▌ | 40.2 MB 66.4 MB/s eta 0:00:01\r\u001B[K     |██████████████████████████████▌ | 40.2 MB 66.4 MB/s eta 0:00:01\r\u001B[K     |██████████████████████████████▋ | 40.2 MB 66.4 MB/s eta 0:00:01\r\u001B[K     |██████████████████████████████▋ | 40.2 MB 66.4 MB/s eta 0:00:01\r\u001B[K     |██████████████████████████████▋ | 40.2 MB 66.4 MB/s eta 0:00:01\r\u001B[K     |██████████████████████████████▋ | 40.3 MB 66.4 MB/s eta 0:00:01\r\u001B[K     |██████████████████████████████▋ | 40.3 MB 66.4 MB/s eta 0:00:01\r\u001B[K     |██████████████████████████████▋ | 40.3 MB 66.4 MB/s eta 0:00:01\r\u001B[K     |██████████████████████████████▋ | 40.3 MB 66.4 MB/s eta 0:00:01\r\u001B[K     |██████████████████████████████▋ | 40.3 MB 66.4 MB/s eta 0:00:01\r\u001B[K     |██████████████████████████████▋ | 40.3 MB 66.4 MB/s eta 0:00:01\r\u001B[K     |██████████████████████████████▋ | 40.3 MB 66.4 MB/s eta 0:00:01\r\u001B[K     |██████████████████████████████▋ | 40.3 MB 66.4 MB/s eta 0:00:01\r\u001B[K     |██████████████████████████████▋ | 40.3 MB 66.4 MB/s eta 0:00:01\r\u001B[K     |██████████████████████████████▋ | 40.3 MB 66.4 MB/s eta 0:00:01\r\u001B[K     |██████████████████████████████▋ | 40.4 MB 66.4 MB/s eta 0:00:01\r\u001B[K     |██████████████████████████████▊ | 40.4 MB 66.4 MB/s eta 0:00:01\r\u001B[K     |██████████████████████████████▊ | 40.4 MB 66.4 MB/s eta 0:00:01\r\u001B[K     |██████████████████████████████▊ | 40.4 MB 66.4 MB/s eta 0:00:01\r\u001B[K     |██████████████████████████████▊ | 40.4 MB 66.4 MB/s eta 0:00:01\r\u001B[K     |██████████████████████████████▊ | 40.4 MB 66.4 MB/s eta 0:00:01\r\u001B[K     |██████████████████████████████▊ | 40.4 MB 66.4 MB/s eta 0:00:01\r\u001B[K     |██████████████████████████████▊ | 40.4 MB 66.4 MB/s eta 0:00:01\r\u001B[K     |██████████████████████████████▊ | 40.4 MB 66.4 MB/s eta 0:00:01\r\u001B[K     |██████████████████████████████▊ | 40.4 MB 66.4 MB/s eta 0:00:01\r\u001B[K     |██████████████████████████████▊ | 40.5 MB 66.4 MB/s eta 0:00:01\r\u001B[K     |██████████████████████████████▊ | 40.5 MB 66.4 MB/s eta 0:00:01\r\u001B[K     |██████████████████████████████▊ | 40.5 MB 66.4 MB/s eta 0:00:01\r\u001B[K     |██████████████████████████████▊ | 40.5 MB 66.4 MB/s eta 0:00:01\r\u001B[K     |██████████████████████████████▊ | 40.5 MB 66.4 MB/s eta 0:00:01\r\u001B[K     |██████████████████████████████▉ | 40.5 MB 66.4 MB/s eta 0:00:01\r\u001B[K     |██████████████████████████████▉ | 40.5 MB 66.4 MB/s eta 0:00:01\r\u001B[K     |██████████████████████████████▉ | 40.5 MB 66.4 MB/s eta 0:00:01\r\u001B[K     |██████████████████████████████▉ | 40.5 MB 66.4 MB/s eta 0:00:01\r\u001B[K     |██████████████████████████████▉ | 40.6 MB 66.4 MB/s eta 0:00:01\r\u001B[K     |██████████████████████████████▉ | 40.6 MB 66.4 MB/s eta 0:00:01\r\u001B[K     |██████████████████████████████▉ | 40.6 MB 66.4 MB/s eta 0:00:01\r\u001B[K     |██████████████████████████████▉ | 40.6 MB 66.4 MB/s eta 0:00:01\r\u001B[K     |██████████████████████████████▉ | 40.6 MB 66.4 MB/s eta 0:00:01\r\u001B[K     |██████████████████████████████▉ | 40.6 MB 66.4 MB/s eta 0:00:01\r\u001B[K     |██████████████████████████████▉ | 40.6 MB 66.4 MB/s eta 0:00:01\r\u001B[K     |██████████████████████████████▉ | 40.6 MB 66.4 MB/s eta 0:00:01\r\u001B[K     |██████████████████████████████▉ | 40.6 MB 66.4 MB/s eta 0:00:01\r\u001B[K     |██████████████████████████████▉ | 40.6 MB 66.4 MB/s eta 0:00:01\r\u001B[K     |██████████████████████████████▉ | 40.7 MB 66.4 MB/s eta 0:00:01\r\u001B[K     |███████████████████████████████ | 40.7 MB 66.4 MB/s eta 0:00:01\r\u001B[K     |███████████████████████████████ | 40.7 MB 66.4 MB/s eta 0:00:01\r\u001B[K     |███████████████████████████████ | 40.7 MB 66.4 MB/s eta 0:00:01\r\u001B[K     |███████████████████████████████ | 40.7 MB 66.4 MB/s eta 0:00:01\r\u001B[K     |███████████████████████████████ | 40.7 MB 66.4 MB/s eta 0:00:01\r\u001B[K     |███████████████████████████████ | 40.7 MB 66.4 MB/s eta 0:00:01\r\u001B[K     |███████████████████████████████ | 40.7 MB 66.4 MB/s eta 0:00:01\r\u001B[K     |███████████████████████████████ | 40.7 MB 66.4 MB/s eta 0:00:01\r\u001B[K     |███████████████████████████████ | 40.7 MB 66.4 MB/s eta 0:00:01\r\u001B[K     |███████████████████████████████ | 40.8 MB 66.4 MB/s eta 0:00:01\r\u001B[K     |███████████████████████████████ | 40.8 MB 66.4 MB/s eta 0:00:01\r\u001B[K     |███████████████████████████████ | 40.8 MB 66.4 MB/s eta 0:00:01\r\u001B[K     |███████████████████████████████ | 40.8 MB 66.4 MB/s eta 0:00:01\r\u001B[K     |███████████████████████████████ | 40.8 MB 66.4 MB/s eta 0:00:01\r\u001B[K     |███████████████████████████████ | 40.8 MB 66.4 MB/s eta 0:00:01\r\u001B[K     |███████████████████████████████ | 40.8 MB 66.4 MB/s eta 0:00:01\r\u001B[K     |███████████████████████████████ | 40.8 MB 66.4 MB/s eta 0:00:01\r\u001B[K     |███████████████████████████████ | 40.8 MB 66.4 MB/s eta 0:00:01\r\u001B[K     |███████████████████████████████ | 40.8 MB 66.4 MB/s eta 0:00:01\r\u001B[K     |███████████████████████████████ | 40.9 MB 66.4 MB/s eta 0:00:01\r\u001B[K     |███████████████████████████████ | 40.9 MB 66.4 MB/s eta 0:00:01\r\u001B[K     |███████████████████████████████ | 40.9 MB 66.4 MB/s eta 0:00:01\r\u001B[K     |███████████████████████████████ | 40.9 MB 66.4 MB/s eta 0:00:01\r\u001B[K     |███████████████████████████████ | 40.9 MB 66.4 MB/s eta 0:00:01\r\u001B[K     |███████████████████████████████ | 40.9 MB 66.4 MB/s eta 0:00:01\r\u001B[K     |███████████████████████████████ | 40.9 MB 66.4 MB/s eta 0:00:01\r\u001B[K     |███████████████████████████████ | 40.9 MB 66.4 MB/s eta 0:00:01\r\u001B[K     |███████████████████████████████ | 40.9 MB 66.4 MB/s eta 0:00:01\r\u001B[K     |███████████████████████████████▏| 40.9 MB 66.4 MB/s eta 0:00:01\r\u001B[K     |███████████████████████████████▏| 41.0 MB 66.4 MB/s eta 0:00:01\r\u001B[K     |███████████████████████████████▏| 41.0 MB 66.4 MB/s eta 0:00:01\r\u001B[K     |███████████████████████████████▏| 41.0 MB 66.4 MB/s eta 0:00:01\r\u001B[K     |███████████████████████████████▏| 41.0 MB 66.4 MB/s eta 0:00:01\r\u001B[K     |███████████████████████████████▏| 41.0 MB 66.4 MB/s eta 0:00:01\r\u001B[K     |███████████████████████████████▏| 41.0 MB 66.4 MB/s eta 0:00:01\r\u001B[K     |███████████████████████████████▏| 41.0 MB 66.4 MB/s eta 0:00:01\r\u001B[K     |███████████████████████████████▏| 41.0 MB 66.4 MB/s eta 0:00:01\r\u001B[K     |███████████████████████████████▏| 41.0 MB 66.4 MB/s eta 0:00:01\r\u001B[K     |███████████████████████████████▏| 41.1 MB 66.4 MB/s eta 0:00:01\r\u001B[K     |███████████████████████████████▏| 41.1 MB 66.4 MB/s eta 0:00:01\r\u001B[K     |███████████████████████████████▏| 41.1 MB 66.4 MB/s eta 0:00:01\r\u001B[K     |███████████████████████████████▏| 41.1 MB 66.4 MB/s eta 0:00:01\r\u001B[K     |███████████████████████████████▏| 41.1 MB 66.4 MB/s eta 0:00:01\r\u001B[K     |███████████████████████████████▎| 41.1 MB 66.4 MB/s eta 0:00:01\r\u001B[K     |███████████████████████████████▎| 41.1 MB 66.4 MB/s eta 0:00:01\r\u001B[K     |███████████████████████████████▎| 41.1 MB 66.4 MB/s eta 0:00:01\r\u001B[K     |███████████████████████████████▎| 41.1 MB 66.4 MB/s eta 0:00:01\r\u001B[K     |███████████████████████████████▎| 41.1 MB 66.4 MB/s eta 0:00:01\r\u001B[K     |███████████████████████████████▎| 41.2 MB 66.4 MB/s eta 0:00:01\r\u001B[K     |███████████████████████████████▎| 41.2 MB 66.4 MB/s eta 0:00:01\r\u001B[K     |███████████████████████████████▎| 41.2 MB 66.4 MB/s eta 0:00:01\r\u001B[K     |███████████████████████████████▎| 41.2 MB 66.4 MB/s eta 0:00:01\r\u001B[K     |███████████████████████████████▎| 41.2 MB 66.4 MB/s eta 0:00:01\r\u001B[K     |███████████████████████████████▎| 41.2 MB 66.4 MB/s eta 0:00:01\r\u001B[K     |███████████████████████████████▎| 41.2 MB 66.4 MB/s eta 0:00:01\r\u001B[K     |███████████████████████████████▎| 41.2 MB 66.4 MB/s eta 0:00:01\r\u001B[K     |███████████████████████████████▎| 41.2 MB 66.4 MB/s eta 0:00:01\r\u001B[K     |███████████████████████████████▍| 41.2 MB 66.4 MB/s eta 0:00:01\r\u001B[K     |███████████████████████████████▍| 41.3 MB 66.4 MB/s eta 0:00:01\r\u001B[K     |███████████████████████████████▍| 41.3 MB 66.4 MB/s eta 0:00:01\r\u001B[K     |███████████████████████████████▍| 41.3 MB 66.4 MB/s eta 0:00:01\r\u001B[K     |███████████████████████████████▍| 41.3 MB 66.4 MB/s eta 0:00:01\r\u001B[K     |███████████████████████████████▍| 41.3 MB 66.4 MB/s eta 0:00:01\r\u001B[K     |███████████████████████████████▍| 41.3 MB 66.4 MB/s eta 0:00:01\r\u001B[K     |███████████████████████████████▍| 41.3 MB 66.4 MB/s eta 0:00:01\r\u001B[K     |███████████████████████████████▍| 41.3 MB 66.4 MB/s eta 0:00:01\r\u001B[K     |███████████████████████████████▍| 41.3 MB 66.4 MB/s eta 0:00:01\r\u001B[K     |███████████████████████████████▍| 41.3 MB 66.4 MB/s eta 0:00:01\r\u001B[K     |███████████████████████████████▍| 41.4 MB 66.4 MB/s eta 0:00:01\r\u001B[K     |███████████████████████████████▍| 41.4 MB 66.4 MB/s eta 0:00:01\r\u001B[K     |███████████████████████████████▍| 41.4 MB 66.4 MB/s eta 0:00:01\r\u001B[K     |███████████████████████████████▌| 41.4 MB 66.4 MB/s eta 0:00:01\r\u001B[K     |███████████████████████████████▌| 41.4 MB 66.4 MB/s eta 0:00:01\r\u001B[K     |███████████████████████████████▌| 41.4 MB 66.4 MB/s eta 0:00:01\r\u001B[K     |███████████████████████████████▌| 41.4 MB 66.4 MB/s eta 0:00:01\r\u001B[K     |███████████████████████████████▌| 41.4 MB 66.4 MB/s eta 0:00:01\r\u001B[K     |███████████████████████████████▌| 41.4 MB 66.4 MB/s eta 0:00:01\r\u001B[K     |███████████████████████████████▌| 41.5 MB 66.4 MB/s eta 0:00:01\r\u001B[K     |███████████████████████████████▌| 41.5 MB 66.4 MB/s eta 0:00:01\r\u001B[K     |███████████████████████████████▌| 41.5 MB 66.4 MB/s eta 0:00:01\r\u001B[K     |███████████████████████████████▌| 41.5 MB 66.4 MB/s eta 0:00:01\r\u001B[K     |███████████████████████████████▌| 41.5 MB 66.4 MB/s eta 0:00:01\r\u001B[K     |███████████████████████████████▌| 41.5 MB 66.4 MB/s eta 0:00:01\r\u001B[K     |███████████████████████████████▌| 41.5 MB 66.4 MB/s eta 0:00:01\r\u001B[K     |███████████████████████████████▌| 41.5 MB 66.4 MB/s eta 0:00:01\r\u001B[K     |███████████████████████████████▋| 41.5 MB 66.4 MB/s eta 0:00:01\r\u001B[K     |███████████████████████████████▋| 41.5 MB 66.4 MB/s eta 0:00:01\r\u001B[K     |███████████████████████████████▋| 41.6 MB 66.4 MB/s eta 0:00:01\r\u001B[K     |███████████████████████████████▋| 41.6 MB 66.4 MB/s eta 0:00:01\r\u001B[K     |███████████████████████████████▋| 41.6 MB 66.4 MB/s eta 0:00:01\r\u001B[K     |███████████████████████████████▋| 41.6 MB 66.4 MB/s eta 0:00:01\r\u001B[K     |███████████████████████████████▋| 41.6 MB 66.4 MB/s eta 0:00:01\r\u001B[K     |███████████████████████████████▋| 41.6 MB 66.4 MB/s eta 0:00:01\r\u001B[K     |███████████████████████████████▋| 41.6 MB 66.4 MB/s eta 0:00:01\r\u001B[K     |███████████████████████████████▋| 41.6 MB 66.4 MB/s eta 0:00:01\r\u001B[K     |███████████████████████████████▋| 41.6 MB 66.4 MB/s eta 0:00:01\r\u001B[K     |███████████████████████████████▋| 41.6 MB 66.4 MB/s eta 0:00:01\r\u001B[K     |███████████████████████████████▋| 41.7 MB 66.4 MB/s eta 0:00:01\r\u001B[K     |███████████████████████████████▋| 41.7 MB 66.4 MB/s eta 0:00:01\r\u001B[K     |███████████████████████████████▋| 41.7 MB 66.4 MB/s eta 0:00:01\r\u001B[K     |███████████████████████████████▊| 41.7 MB 66.4 MB/s eta 0:00:01\r\u001B[K     |███████████████████████████████▊| 41.7 MB 66.4 MB/s eta 0:00:01\r\u001B[K     |███████████████████████████████▊| 41.7 MB 66.4 MB/s eta 0:00:01\r\u001B[K     |███████████████████████████████▊| 41.7 MB 66.4 MB/s eta 0:00:01\r\u001B[K     |███████████████████████████████▊| 41.7 MB 66.4 MB/s eta 0:00:01\r\u001B[K     |███████████████████████████████▊| 41.7 MB 66.4 MB/s eta 0:00:01\r\u001B[K     |███████████████████████████████▊| 41.7 MB 66.4 MB/s eta 0:00:01\r\u001B[K     |███████████████████████████████▊| 41.8 MB 66.4 MB/s eta 0:00:01\r\u001B[K     |███████████████████████████████▊| 41.8 MB 66.4 MB/s eta 0:00:01\r\u001B[K     |███████████████████████████████▊| 41.8 MB 66.4 MB/s eta 0:00:01\r\u001B[K     |███████████████████████████████▊| 41.8 MB 66.4 MB/s eta 0:00:01\r\u001B[K     |███████████████████████████████▊| 41.8 MB 66.4 MB/s eta 0:00:01\r\u001B[K     |███████████████████████████████▊| 41.8 MB 66.4 MB/s eta 0:00:01\r\u001B[K     |███████████████████████████████▊| 41.8 MB 66.4 MB/s eta 0:00:01\r\u001B[K     |███████████████████████████████▉| 41.8 MB 66.4 MB/s eta 0:00:01\r\u001B[K     |███████████████████████████████▉| 41.8 MB 66.4 MB/s eta 0:00:01\r\u001B[K     |███████████████████████████████▉| 41.9 MB 66.4 MB/s eta 0:00:01\r\u001B[K     |███████████████████████████████▉| 41.9 MB 66.4 MB/s eta 0:00:01\r\u001B[K     |███████████████████████████████▉| 41.9 MB 66.4 MB/s eta 0:00:01\r\u001B[K     |███████████████████████████████▉| 41.9 MB 66.4 MB/s eta 0:00:01\r\u001B[K     |███████████████████████████████▉| 41.9 MB 66.4 MB/s eta 0:00:01\r\u001B[K     |███████████████████████████████▉| 41.9 MB 66.4 MB/s eta 0:00:01\r\u001B[K     |███████████████████████████████▉| 41.9 MB 66.4 MB/s eta 0:00:01\r\u001B[K     |███████████████████████████████▉| 41.9 MB 66.4 MB/s eta 0:00:01\r\u001B[K     |███████████████████████████████▉| 41.9 MB 66.4 MB/s eta 0:00:01\r\u001B[K     |███████████████████████████████▉| 41.9 MB 66.4 MB/s eta 0:00:01\r\u001B[K     |███████████████████████████████▉| 42.0 MB 66.4 MB/s eta 0:00:01\r\u001B[K     |███████████████████████████████▉| 42.0 MB 66.4 MB/s eta 0:00:01\r\u001B[K     |████████████████████████████████| 42.0 MB 66.4 MB/s eta 0:00:01\r\u001B[K     |████████████████████████████████| 42.0 MB 66.4 MB/s eta 0:00:01\r\u001B[K     |████████████████████████████████| 42.0 MB 66.4 MB/s eta 0:00:01\r\u001B[K     |████████████████████████████████| 42.0 MB 66.4 MB/s eta 0:00:01\r\u001B[K     |████████████████████████████████| 42.0 MB 66.4 MB/s eta 0:00:01\r\u001B[K     |████████████████████████████████| 42.0 MB 66.4 MB/s eta 0:00:01\r\u001B[K     |████████████████████████████████| 42.0 MB 66.4 MB/s eta 0:00:01\r\u001B[K     |████████████████████████████████| 42.0 MB 66.4 MB/s eta 0:00:01\r\u001B[K     |████████████████████████████████| 42.1 MB 66.4 MB/s eta 0:00:01\r\u001B[K     |████████████████████████████████| 42.1 MB 66.4 MB/s eta 0:00:01\r\u001B[K     |████████████████████████████████| 42.1 MB 66.4 MB/s eta 0:00:01\r\u001B[K     |████████████████████████████████| 42.1 MB 66.4 MB/s eta 0:00:01\r\u001B[K     |████████████████████████████████| 42.1 MB 66.4 MB/s eta 0:00:01\r\u001B[K     |████████████████████████████████| 42.1 MB 66.4 MB/s eta 0:00:01\r\u001B[K     |████████████████████████████████| 42.1 MB 66.4 MB/s eta 0:00:01\r\u001B[K     |████████████████████████████████| 42.1 MB 25 kB/s \r\n\u001B[?25hCollecting mpmath>=0.19\r\n  Downloading https://artifacts.rbi.tech/artifactory/api/pypi/pypi-org-pypi-proxy/packages/packages/43/e3/7d92a15f894aa0c9c4b49b8ee9ac9850d6e63b03c9c32c0367a13ae62209/mpmath-1.3.0-py3-none-any.whl (536 kB)\r\n\u001B[?25l\r\u001B[K     |▋                               | 10 kB 26.7 MB/s eta 0:00:01\r\u001B[K     |█▎                              | 20 kB 33.4 MB/s eta 0:00:01\r\u001B[K     |█▉                              | 30 kB 39.1 MB/s eta 0:00:01\r\u001B[K     |██▌                             | 40 kB 43.0 MB/s eta 0:00:01\r\u001B[K     |███                             | 51 kB 47.2 MB/s eta 0:00:01\r\u001B[K     |███▊                            | 61 kB 50.9 MB/s eta 0:00:01\r\u001B[K     |████▎                           | 71 kB 54.1 MB/s eta 0:00:01\r\u001B[K     |█████                           | 81 kB 56.9 MB/s eta 0:00:01\r\u001B[K     |█████▌                          | 92 kB 59.6 MB/s eta 0:00:01\r\u001B[K     |██████▏                         | 102 kB 61.8 MB/s eta 0:00:01\r\u001B[K     |██████▊                         | 112 kB 61.8 MB/s eta 0:00:01\r\u001B[K     |███████▍                        | 122 kB 61.8 MB/s eta 0:00:01\r\u001B[K     |████████                        | 133 kB 61.8 MB/s eta 0:00:01\r\u001B[K     |████████▋                       | 143 kB 61.8 MB/s eta 0:00:01\r\u001B[K     |█████████▏                      | 153 kB 61.8 MB/s eta 0:00:01\r\u001B[K     |█████████▉                      | 163 kB 61.8 MB/s eta 0:00:01\r\u001B[K     |██████████▍                     | 174 kB 61.8 MB/s eta 0:00:01\r\u001B[K     |███████████                     | 184 kB 61.8 MB/s eta 0:00:01\r\u001B[K     |███████████▋                    | 194 kB 61.8 MB/s eta 0:00:01\r\u001B[K     |████████████▎                   | 204 kB 61.8 MB/s eta 0:00:01\r\u001B[K     |████████████▉                   | 215 kB 61.8 MB/s eta 0:00:01\r\u001B[K     |█████████████▌                  | 225 kB 61.8 MB/s eta 0:00:01\r\u001B[K     |██████████████                  | 235 kB 61.8 MB/s eta 0:00:01\r\u001B[K     |██████████████▊                 | 245 kB 61.8 MB/s eta 0:00:01\r\u001B[K     |███████████████▎                | 256 kB 61.8 MB/s eta 0:00:01\r\u001B[K     |████████████████                | 266 kB 61.8 MB/s eta 0:00:01\r\u001B[K     |████████████████▌               | 276 kB 61.8 MB/s eta 0:00:01\r\u001B[K     |█████████████████▏              | 286 kB 61.8 MB/s eta 0:00:01\r\u001B[K     |█████████████████▊              | 296 kB 61.8 MB/s eta 0:00:01\r\u001B[K     |██████████████████▍             | 307 kB 61.8 MB/s eta 0:00:01\r\u001B[K     |███████████████████             | 317 kB 61.8 MB/s eta 0:00:01\r\u001B[K     |███████████████████▋            | 327 kB 61.8 MB/s eta 0:00:01\r\u001B[K     |████████████████████▏           | 337 kB 61.8 MB/s eta 0:00:01\r\u001B[K     |████████████████████▉           | 348 kB 61.8 MB/s eta 0:00:01\r\u001B[K     |█████████████████████▍          | 358 kB 61.8 MB/s eta 0:00:01\r\u001B[K     |██████████████████████          | 368 kB 61.8 MB/s eta 0:00:01\r\u001B[K     |██████████████████████▋         | 378 kB 61.8 MB/s eta 0:00:01\r\u001B[K     |███████████████████████▎        | 389 kB 61.8 MB/s eta 0:00:01\r\u001B[K     |███████████████████████▉        | 399 kB 61.8 MB/s eta 0:00:01\r\u001B[K     |████████████████████████▌       | 409 kB 61.8 MB/s eta 0:00:01\r\u001B[K     |█████████████████████████       | 419 kB 61.8 MB/s eta 0:00:01\r\u001B[K     |█████████████████████████▊      | 430 kB 61.8 MB/s eta 0:00:01\r\u001B[K     |██████████████████████████▎     | 440 kB 61.8 MB/s eta 0:00:01\r\u001B[K     |███████████████████████████     | 450 kB 61.8 MB/s eta 0:00:01\r\u001B[K     |███████████████████████████▌    | 460 kB 61.8 MB/s eta 0:00:01\r\u001B[K     |████████████████████████████▏   | 471 kB 61.8 MB/s eta 0:00:01\r\u001B[K     |████████████████████████████▊   | 481 kB 61.8 MB/s eta 0:00:01\r\u001B[K     |█████████████████████████████▍  | 491 kB 61.8 MB/s eta 0:00:01\r\u001B[K     |██████████████████████████████  | 501 kB 61.8 MB/s eta 0:00:01\r\u001B[K     |██████████████████████████████▋ | 512 kB 61.8 MB/s eta 0:00:01\r\u001B[K     |███████████████████████████████▏| 522 kB 61.8 MB/s eta 0:00:01\r\u001B[K     |███████████████████████████████▉| 532 kB 61.8 MB/s eta 0:00:01\r\u001B[K     |████████████████████████████████| 536 kB 61.8 MB/s \r\n\u001B[?25hBuilding wheels for collected packages: causalml, pydotplus, future, lit\r\n  Building wheel for causalml (setup.py) ... \u001B[?25l-\b \b\\\b \b|\b \b/\b \b-\b \b\\\b \b|\b \b/\b \b-\b \b\\\b \b|\b \b/\b \b-\b \b\\\b \b|\b \b/\b \b-\b \bdone\r\n\u001B[?25h  Created wheel for causalml: filename=causalml-0.13.0-cp39-cp39-linux_x86_64.whl size=1795514 sha256=f8e7f531c8acb004cd7468f9f277aacfff59cff818cd68ee8e58c22c21314842\r\n  Stored in directory: /root/.cache/pip/wheels/16/ef/d4/7a35226eab82497e4ce41e48f2b5abc71b69d0863b37671e84\r\n  Building wheel for pydotplus (setup.py) ... \u001B[?25l-\b \b\\\b \b|\b \b/\b \b-\b \b\\\b \b|\b \b/\b \bdone\r\n\u001B[?25h  Created wheel for pydotplus: filename=pydotplus-2.0.2-py3-none-any.whl size=24575 sha256=38b01a3a519e87d7cdce0d772b85b367cdd1f2debe41c726588df93c79802ede\r\n  Stored in directory: /root/.cache/pip/wheels/ca/2b/0a/7ce5639f9af8037477db6f113b129bf42c2ccf27bdb880936f\r\n  Building wheel for future (setup.py) ... \u001B[?25l-\b \b\\\b \b|\b \b/\b \b-\b \b\\\b \b|\b \b/\b \b-\b \b\\\b \bdone\r\n\u001B[?25h  Created wheel for future: filename=future-0.18.3-py3-none-any.whl size=492037 sha256=577fb137db924fdb07885f76f242ed77755a770deb1c672feab9d55a5e24cf2e\r\n  Stored in directory: /root/.cache/pip/wheels/63/a8/cf/89d807de0b638ec607f2a2f3e016cd280927c827a6c606e776\r\n  Building wheel for lit (setup.py) ... \u001B[?25l-\b \b\\\b \b|\b \b/\b \b-\b \b\\\b \b|\b \b/\b \bdone\r\n\u001B[?25h  Created wheel for lit: filename=lit-16.0.5-py3-none-any.whl size=88193 sha256=71c0e2562de271944a80d78b6b471b951447877758e6da7133b4dfc6839ec23e\r\n  Stored in directory: /root/.cache/pip/wheels/24/e9/ff/da91bbf6985c2ac0333897aad92aba2d339fe7417cd92610ab\r\nSuccessfully built causalml pydotplus future lit\r\nInstalling collected packages: nvidia-cublas-cu11, mpmath, lit, cmake, triton, sympy, python-utils, nvidia-nvtx-cu11, nvidia-nccl-cu11, nvidia-cusparse-cu11, nvidia-cusolver-cu11, nvidia-curand-cu11, nvidia-cufft-cu11, nvidia-cudnn-cu11, nvidia-cuda-runtime-cu11, nvidia-cuda-nvrtc-cu11, nvidia-cuda-cupti-cu11, networkx, llvmlite, dill, tqdm, torch, slicer, pyro-api, progressbar2, ppft, pox, opt-einsum, numba, multiprocess, future, cloudpickle, xgboost, shap, pyro-ppl, pygam, pydotplus, pathos, lightgbm, graphviz, forestci, causalml\r\nSuccessfully installed causalml-0.13.0 cloudpickle-2.2.1 cmake-3.26.3 dill-0.3.6 forestci-0.6 future-0.18.3 graphviz-0.20.1 lightgbm-3.3.5 lit-16.0.5 llvmlite-0.40.0 mpmath-1.3.0 multiprocess-0.70.14 networkx-3.1 numba-0.57.0 nvidia-cublas-cu11-11.10.3.66 nvidia-cuda-cupti-cu11-11.7.101 nvidia-cuda-nvrtc-cu11-11.7.99 nvidia-cuda-runtime-cu11-11.7.99 nvidia-cudnn-cu11-8.5.0.96 nvidia-cufft-cu11-10.9.0.58 nvidia-curand-cu11-10.2.10.91 nvidia-cusolver-cu11-11.4.0.1 nvidia-cusparse-cu11-11.7.4.91 nvidia-nccl-cu11-2.14.3 nvidia-nvtx-cu11-11.7.91 opt-einsum-3.3.0 pathos-0.2.9 pox-0.3.2 ppft-1.7.6.6 progressbar2-4.2.0 pydotplus-2.0.2 pygam-0.8.0 pyro-api-0.1.2 pyro-ppl-1.8.4 python-utils-3.5.2 shap-0.41.0 slicer-0.0.7 sympy-1.12 torch-2.0.1 tqdm-4.65.0 triton-2.0.0 xgboost-1.7.5\r\n"
     ]
    }
   ],
   "source": [
    "#install package\n",
    "\n",
    "!pip install causalml"
   ]
  },
  {
   "cell_type": "code",
   "execution_count": 0,
   "metadata": {
    "application/vnd.databricks.v1+cell": {
     "cellMetadata": {
      "byteLimit": 2048000,
      "rowLimit": 10000
     },
     "inputWidgets": {},
     "nuid": "7def08f8-c216-435c-8b4b-368eb253bffb",
     "showTitle": false,
     "title": ""
    }
   },
   "outputs": [
    {
     "output_type": "display_data",
     "data": {
      "application/vnd.databricks.v1+bamboolib_hint": "{\"pd.DataFrames\": [], \"version\": \"0.0.1\"}",
      "text/plain": []
     },
     "metadata": {},
     "output_type": "display_data"
    },
    {
     "output_type": "stream",
     "name": "stderr",
     "output_type": "stream",
     "text": [
      "/local_disk0/.ephemeral_nfs/envs/pythonEnv-860cd165-2452-4c7d-82a9-044a74f1a954/lib/python3.9/site-packages/shap/utils/_clustering.py:35: NumbaDeprecationWarning: The 'nopython' keyword argument was not supplied to the 'numba.jit' decorator. The implicit default value for this argument is currently False, but it will be changed to True in Numba 0.59.0. See https://numba.readthedocs.io/en/stable/reference/deprecation.html#deprecation-of-object-mode-fall-back-behaviour-when-using-jit for details.\n  def _pt_shuffle_rec(i, indexes, index_mask, partition_tree, M, pos):\n/local_disk0/.ephemeral_nfs/envs/pythonEnv-860cd165-2452-4c7d-82a9-044a74f1a954/lib/python3.9/site-packages/shap/utils/_clustering.py:54: NumbaDeprecationWarning: The 'nopython' keyword argument was not supplied to the 'numba.jit' decorator. The implicit default value for this argument is currently False, but it will be changed to True in Numba 0.59.0. See https://numba.readthedocs.io/en/stable/reference/deprecation.html#deprecation-of-object-mode-fall-back-behaviour-when-using-jit for details.\n  def delta_minimization_order(all_masks, max_swap_size=100, num_passes=2):\n/local_disk0/.ephemeral_nfs/envs/pythonEnv-860cd165-2452-4c7d-82a9-044a74f1a954/lib/python3.9/site-packages/shap/utils/_clustering.py:63: NumbaDeprecationWarning: The 'nopython' keyword argument was not supplied to the 'numba.jit' decorator. The implicit default value for this argument is currently False, but it will be changed to True in Numba 0.59.0. See https://numba.readthedocs.io/en/stable/reference/deprecation.html#deprecation-of-object-mode-fall-back-behaviour-when-using-jit for details.\n  def _reverse_window(order, start, length):\n/local_disk0/.ephemeral_nfs/envs/pythonEnv-860cd165-2452-4c7d-82a9-044a74f1a954/lib/python3.9/site-packages/shap/utils/_clustering.py:69: NumbaDeprecationWarning: The 'nopython' keyword argument was not supplied to the 'numba.jit' decorator. The implicit default value for this argument is currently False, but it will be changed to True in Numba 0.59.0. See https://numba.readthedocs.io/en/stable/reference/deprecation.html#deprecation-of-object-mode-fall-back-behaviour-when-using-jit for details.\n  def _reverse_window_score_gain(masks, order, start, length):\n/local_disk0/.ephemeral_nfs/envs/pythonEnv-860cd165-2452-4c7d-82a9-044a74f1a954/lib/python3.9/site-packages/shap/utils/_clustering.py:77: NumbaDeprecationWarning: The 'nopython' keyword argument was not supplied to the 'numba.jit' decorator. The implicit default value for this argument is currently False, but it will be changed to True in Numba 0.59.0. See https://numba.readthedocs.io/en/stable/reference/deprecation.html#deprecation-of-object-mode-fall-back-behaviour-when-using-jit for details.\n  def _mask_delta_score(m1, m2):\n/local_disk0/.ephemeral_nfs/envs/pythonEnv-860cd165-2452-4c7d-82a9-044a74f1a954/lib/python3.9/site-packages/shap/links.py:5: NumbaDeprecationWarning: The 'nopython' keyword argument was not supplied to the 'numba.jit' decorator. The implicit default value for this argument is currently False, but it will be changed to True in Numba 0.59.0. See https://numba.readthedocs.io/en/stable/reference/deprecation.html#deprecation-of-object-mode-fall-back-behaviour-when-using-jit for details.\n  def identity(x):\n/local_disk0/.ephemeral_nfs/envs/pythonEnv-860cd165-2452-4c7d-82a9-044a74f1a954/lib/python3.9/site-packages/shap/links.py:10: NumbaDeprecationWarning: The 'nopython' keyword argument was not supplied to the 'numba.jit' decorator. The implicit default value for this argument is currently False, but it will be changed to True in Numba 0.59.0. See https://numba.readthedocs.io/en/stable/reference/deprecation.html#deprecation-of-object-mode-fall-back-behaviour-when-using-jit for details.\n  def _identity_inverse(x):\n/local_disk0/.ephemeral_nfs/envs/pythonEnv-860cd165-2452-4c7d-82a9-044a74f1a954/lib/python3.9/site-packages/shap/links.py:15: NumbaDeprecationWarning: The 'nopython' keyword argument was not supplied to the 'numba.jit' decorator. The implicit default value for this argument is currently False, but it will be changed to True in Numba 0.59.0. See https://numba.readthedocs.io/en/stable/reference/deprecation.html#deprecation-of-object-mode-fall-back-behaviour-when-using-jit for details.\n  def logit(x):\n/local_disk0/.ephemeral_nfs/envs/pythonEnv-860cd165-2452-4c7d-82a9-044a74f1a954/lib/python3.9/site-packages/shap/links.py:20: NumbaDeprecationWarning: The 'nopython' keyword argument was not supplied to the 'numba.jit' decorator. The implicit default value for this argument is currently False, but it will be changed to True in Numba 0.59.0. See https://numba.readthedocs.io/en/stable/reference/deprecation.html#deprecation-of-object-mode-fall-back-behaviour-when-using-jit for details.\n  def _logit_inverse(x):\n/local_disk0/.ephemeral_nfs/envs/pythonEnv-860cd165-2452-4c7d-82a9-044a74f1a954/lib/python3.9/site-packages/shap/utils/_masked_model.py:363: NumbaDeprecationWarning: The 'nopython' keyword argument was not supplied to the 'numba.jit' decorator. The implicit default value for this argument is currently False, but it will be changed to True in Numba 0.59.0. See https://numba.readthedocs.io/en/stable/reference/deprecation.html#deprecation-of-object-mode-fall-back-behaviour-when-using-jit for details.\n  def _build_fixed_single_output(averaged_outs, last_outs, outputs, batch_positions, varying_rows, num_varying_rows, link, linearizing_weights):\n/local_disk0/.ephemeral_nfs/envs/pythonEnv-860cd165-2452-4c7d-82a9-044a74f1a954/lib/python3.9/site-packages/shap/utils/_masked_model.py:385: NumbaDeprecationWarning: The 'nopython' keyword argument was not supplied to the 'numba.jit' decorator. The implicit default value for this argument is currently False, but it will be changed to True in Numba 0.59.0. See https://numba.readthedocs.io/en/stable/reference/deprecation.html#deprecation-of-object-mode-fall-back-behaviour-when-using-jit for details.\n  def _build_fixed_multi_output(averaged_outs, last_outs, outputs, batch_positions, varying_rows, num_varying_rows, link, linearizing_weights):\n/local_disk0/.ephemeral_nfs/envs/pythonEnv-860cd165-2452-4c7d-82a9-044a74f1a954/lib/python3.9/site-packages/shap/utils/_masked_model.py:428: NumbaDeprecationWarning: The 'nopython' keyword argument was not supplied to the 'numba.jit' decorator. The implicit default value for this argument is currently False, but it will be changed to True in Numba 0.59.0. See https://numba.readthedocs.io/en/stable/reference/deprecation.html#deprecation-of-object-mode-fall-back-behaviour-when-using-jit for details.\n  def _init_masks(cluster_matrix, M, indices_row_pos, indptr):\n/local_disk0/.ephemeral_nfs/envs/pythonEnv-860cd165-2452-4c7d-82a9-044a74f1a954/lib/python3.9/site-packages/shap/utils/_masked_model.py:439: NumbaDeprecationWarning: The 'nopython' keyword argument was not supplied to the 'numba.jit' decorator. The implicit default value for this argument is currently False, but it will be changed to True in Numba 0.59.0. See https://numba.readthedocs.io/en/stable/reference/deprecation.html#deprecation-of-object-mode-fall-back-behaviour-when-using-jit for details.\n  def _rec_fill_masks(cluster_matrix, indices_row_pos, indptr, indices, M, ind):\n/local_disk0/.ephemeral_nfs/envs/pythonEnv-860cd165-2452-4c7d-82a9-044a74f1a954/lib/python3.9/site-packages/shap/maskers/_tabular.py:186: NumbaDeprecationWarning: The 'nopython' keyword argument was not supplied to the 'numba.jit' decorator. The implicit default value for this argument is currently False, but it will be changed to True in Numba 0.59.0. See https://numba.readthedocs.io/en/stable/reference/deprecation.html#deprecation-of-object-mode-fall-back-behaviour-when-using-jit for details.\n  def _single_delta_mask(dind, masked_inputs, last_mask, data, x, noop_code):\n/local_disk0/.ephemeral_nfs/envs/pythonEnv-860cd165-2452-4c7d-82a9-044a74f1a954/lib/python3.9/site-packages/shap/maskers/_tabular.py:197: NumbaDeprecationWarning: The 'nopython' keyword argument was not supplied to the 'numba.jit' decorator. The implicit default value for this argument is currently False, but it will be changed to True in Numba 0.59.0. See https://numba.readthedocs.io/en/stable/reference/deprecation.html#deprecation-of-object-mode-fall-back-behaviour-when-using-jit for details.\n  def _delta_masking(masks, x, curr_delta_inds, varying_rows_out,\n/local_disk0/.ephemeral_nfs/envs/pythonEnv-860cd165-2452-4c7d-82a9-044a74f1a954/lib/python3.9/site-packages/shap/maskers/_image.py:175: NumbaDeprecationWarning: The 'nopython' keyword argument was not supplied to the 'numba.jit' decorator. The implicit default value for this argument is currently False, but it will be changed to True in Numba 0.59.0. See https://numba.readthedocs.io/en/stable/reference/deprecation.html#deprecation-of-object-mode-fall-back-behaviour-when-using-jit for details.\n  def _jit_build_partition_tree(xmin, xmax, ymin, ymax, zmin, zmax, total_ywidth, total_zwidth, M, clustering, q):\n/local_disk0/.ephemeral_nfs/envs/pythonEnv-860cd165-2452-4c7d-82a9-044a74f1a954/lib/python3.9/site-packages/shap/explainers/_partition.py:676: NumbaDeprecationWarning: The 'nopython' keyword argument was not supplied to the 'numba.jit' decorator. The implicit default value for this argument is currently False, but it will be changed to True in Numba 0.59.0. See https://numba.readthedocs.io/en/stable/reference/deprecation.html#deprecation-of-object-mode-fall-back-behaviour-when-using-jit for details.\n  def lower_credit(i, value, M, values, clustering):\nThe 'nopython' keyword argument was not supplied to the 'numba.jit' decorator. The implicit default value for this argument is currently False, but it will be changed to True in Numba 0.59.0. See https://numba.readthedocs.io/en/stable/reference/deprecation.html#deprecation-of-object-mode-fall-back-behaviour-when-using-jit for details.\nThe 'nopython' keyword argument was not supplied to the 'numba.jit' decorator. The implicit default value for this argument is currently False, but it will be changed to True in Numba 0.59.0. See https://numba.readthedocs.io/en/stable/reference/deprecation.html#deprecation-of-object-mode-fall-back-behaviour-when-using-jit for details.\nERROR:duecredit:Failed to import duecredit due to No module named 'duecredit'\n"
     ]
    }
   ],
   "source": [
    "#Data processing\n",
    "import pandas as pd\n",
    "import numpy as np\n",
    "\n",
    "#Create synthetic data\n",
    "from causalml.dataset import synthetic_data\n",
    "\n",
    "#Visualization\n",
    "import seaborn as sns\n",
    "\n",
    "#Machine Learning model\n",
    "from lightgbm import LGBMRegressor"
   ]
  },
  {
   "cell_type": "markdown",
   "metadata": {
    "application/vnd.databricks.v1+cell": {
     "cellMetadata": {},
     "inputWidgets": {},
     "nuid": "7faeab03-9c90-466f-aa1d-aeaf5fe9296f",
     "showTitle": false,
     "title": ""
    }
   },
   "source": [
    "Kreiracemo sinteticki skup podataka za uplift model koriscenjem S-Learnera.\n",
    "Koristimo *synthetic_data* metodu iz paketa *causal_ml* i kreiramo skup podataka sa 5 karakteristika, jednom promenljivom koja predstavlja da li je klijent dobio tretman i jednom kontinualnom varijablom ishoda.\n",
    "U odnosu na varijablu *treatment* klijenti su podjednako rasporedjeni."
   ]
  },
  {
   "cell_type": "code",
   "execution_count": 0,
   "metadata": {
    "application/vnd.databricks.v1+cell": {
     "cellMetadata": {
      "byteLimit": 2048000,
      "rowLimit": 10000
     },
     "inputWidgets": {},
     "nuid": "1bf3b055-535d-40db-b22a-d18bd4cdce6a",
     "showTitle": false,
     "title": ""
    }
   },
   "outputs": [
    {
     "output_type": "stream",
     "name": "stdout",
     "output_type": "stream",
     "text": [
      "Out[3]: 1    512\n0    488\nName: treatment, dtype: int64"
     ]
    }
   ],
   "source": [
    "# Set a seed for reproducibility\n",
    "np.random.seed(42)\n",
    "\n",
    "# Create a synthetic dataset\n",
    "y, X, treatment, _, _, _ = synthetic_data(mode=1, n=1000, p=5, sigma=1.0)\n",
    "\n",
    "# Save the data in a pandas dataframe\n",
    "df = pd.DataFrame({'y': y, 'X1': X.T[0], 'X2': X.T[1], 'X3': X.T[2], 'X4': X.T[3], 'X5': X.T[4], 'treatment': treatment})\n",
    "\n",
    "# Check treatment\n",
    "df['treatment'].value_counts()"
   ]
  },
  {
   "cell_type": "markdown",
   "metadata": {
    "application/vnd.databricks.v1+cell": {
     "cellMetadata": {},
     "inputWidgets": {},
     "nuid": "2ad9b150-b1b7-465b-93cb-24b0280ccf0e",
     "showTitle": false,
     "title": ""
    }
   },
   "source": [
    "### S-Learner Treniranje modela\n",
    "\n",
    "S-Learner trenira jedan model masinskog ucenja."
   ]
  },
  {
   "cell_type": "code",
   "execution_count": 0,
   "metadata": {
    "application/vnd.databricks.v1+cell": {
     "cellMetadata": {
      "byteLimit": 2048000,
      "rowLimit": 10000
     },
     "inputWidgets": {},
     "nuid": "df0e869d-6aaa-4a14-bd57-cad6a3ff9a55",
     "showTitle": false,
     "title": ""
    }
   },
   "outputs": [],
   "source": [
    "# Features\n",
    "features = df.loc[:, ['X1', 'X2', 'X3', 'X4', 'X5', 'treatment']]\n",
    "\n",
    "# Dependent variable\n",
    "y = df.loc[:, ['y']]"
   ]
  },
  {
   "cell_type": "markdown",
   "metadata": {
    "application/vnd.databricks.v1+cell": {
     "cellMetadata": {},
     "inputWidgets": {},
     "nuid": "bb6353ec-a750-4568-b440-02946b91f6ec",
     "showTitle": false,
     "title": ""
    }
   },
   "source": [
    "Izbor modela i podesavanje hiperparametara su vazni za performanse S-Learnera. To je zato sto performanse modela uticu na predvidjanje modela, a samim tim i na tacnost procene individualnog efekta tretmana (ITE).\n",
    "\n",
    "Mnogi algoritmi ML se mogu koristiti za izgradju S-Learnera. U ovom primeru cemo koristiti light GBM model."
   ]
  },
  {
   "cell_type": "code",
   "execution_count": 0,
   "metadata": {
    "application/vnd.databricks.v1+cell": {
     "cellMetadata": {
      "byteLimit": 2048000,
      "rowLimit": 10000
     },
     "inputWidgets": {},
     "nuid": "c099dd9a-093f-4613-aa00-b6e4d75776e2",
     "showTitle": false,
     "title": ""
    }
   },
   "outputs": [],
   "source": [
    "# Initiate the light GBM model\n",
    "s_learner = LGBMRegressor()\n",
    "\n",
    "# Fit the model\n",
    "s_learner.fit(features, y);"
   ]
  },
  {
   "cell_type": "markdown",
   "metadata": {
    "application/vnd.databricks.v1+cell": {
     "cellMetadata": {},
     "inputWidgets": {},
     "nuid": "dfa1644b-d70d-40f5-a8ee-4e4bdc09d690",
     "showTitle": false,
     "title": ""
    }
   },
   "source": [
    "### S-Learner Predvidjanje modela\n",
    "\n",
    "Da bi se izvrsila procena efekta tretmana, potrebno je napraviti dva odvojena predvidjanja koristeci obuceni model.\n",
    "\n",
    "U prvom predvidjanju, varijabla tretmana je postavljena na 1 za sve uzorke. Ovo nam daje predvidjene vrednosti ishoda ako su svi uzorci dobili tretman.\n",
    "\n",
    "U drugom predvidjanju, varijabla tretmana je postavljena na 0 za sve uzorke. Ovo nam daje predvidjene vrednosti ishoda ako nijedan od uzoraka nije dobio tretman."
   ]
  },
  {
   "cell_type": "code",
   "execution_count": 0,
   "metadata": {
    "application/vnd.databricks.v1+cell": {
     "cellMetadata": {
      "byteLimit": 2048000,
      "rowLimit": 10000
     },
     "inputWidgets": {},
     "nuid": "ed827aca-b94d-4c59-b102-85a647ef9ef5",
     "showTitle": false,
     "title": ""
    }
   },
   "outputs": [],
   "source": [
    "# Set treatment value to 1\n",
    "with_treatment = features.assign(treatment = 1)\n",
    "# With treatment predictions\n",
    "with_treatment_predict = s_learner.predict(with_treatment)\n",
    "\n",
    "# Set treatment value to 0\n",
    "without_treatment = features.assign(treatment = 0)\n",
    "# With treatment predictions\n",
    "without_treatment_predict = s_learner.predict(without_treatment)"
   ]
  },
  {
   "cell_type": "markdown",
   "metadata": {
    "application/vnd.databricks.v1+cell": {
     "cellMetadata": {},
     "inputWidgets": {},
     "nuid": "d8565dd8-8007-48ca-9550-25e04ffcfe26",
     "showTitle": false,
     "title": ""
    }
   },
   "source": [
    "### S-Learner ITE - Individual Treatment Effect\n",
    "\n",
    "ITE se definise kao razlika izmedju predvidjenih ishoda sa i bez tretmana."
   ]
  },
  {
   "cell_type": "code",
   "execution_count": 0,
   "metadata": {
    "application/vnd.databricks.v1+cell": {
     "cellMetadata": {
      "byteLimit": 2048000,
      "rowLimit": 10000
     },
     "inputWidgets": {},
     "nuid": "b5fca9be-650b-4dc9-a37b-e8744d7fee46",
     "showTitle": false,
     "title": ""
    }
   },
   "outputs": [
    {
     "output_type": "display_data",
     "data": {
      "text/html": [
       "<div>\n",
       "<style scoped>\n",
       "    .dataframe tbody tr th:only-of-type {\n",
       "        vertical-align: middle;\n",
       "    }\n",
       "\n",
       "    .dataframe tbody tr th {\n",
       "        vertical-align: top;\n",
       "    }\n",
       "\n",
       "    .dataframe thead th {\n",
       "        text-align: right;\n",
       "    }\n",
       "</style>\n",
       "<table border=\"1\" class=\"dataframe\">\n",
       "  <thead>\n",
       "    <tr style=\"text-align: right;\">\n",
       "      <th></th>\n",
       "      <th>ITE</th>\n",
       "      <th>with_treatment_predict</th>\n",
       "      <th>without_treatment_predict</th>\n",
       "    </tr>\n",
       "  </thead>\n",
       "  <tbody>\n",
       "    <tr>\n",
       "      <th>0</th>\n",
       "      <td>-0.022509</td>\n",
       "      <td>0.935674</td>\n",
       "      <td>0.958183</td>\n",
       "    </tr>\n",
       "    <tr>\n",
       "      <th>1</th>\n",
       "      <td>-0.560047</td>\n",
       "      <td>0.867569</td>\n",
       "      <td>1.427616</td>\n",
       "    </tr>\n",
       "    <tr>\n",
       "      <th>2</th>\n",
       "      <td>-0.150755</td>\n",
       "      <td>0.667450</td>\n",
       "      <td>0.818205</td>\n",
       "    </tr>\n",
       "    <tr>\n",
       "      <th>3</th>\n",
       "      <td>0.207543</td>\n",
       "      <td>1.372787</td>\n",
       "      <td>1.165244</td>\n",
       "    </tr>\n",
       "    <tr>\n",
       "      <th>4</th>\n",
       "      <td>0.134130</td>\n",
       "      <td>0.366198</td>\n",
       "      <td>0.232068</td>\n",
       "    </tr>\n",
       "  </tbody>\n",
       "</table>\n",
       "</div>"
      ]
     },
     "metadata": {
      "application/vnd.databricks.v1+output": {
       "addedWidgets": {},
       "arguments": {},
       "data": "<div>\n<style scoped>\n    .dataframe tbody tr th:only-of-type {\n        vertical-align: middle;\n    }\n\n    .dataframe tbody tr th {\n        vertical-align: top;\n    }\n\n    .dataframe thead th {\n        text-align: right;\n    }\n</style>\n<table border=\"1\" class=\"dataframe\">\n  <thead>\n    <tr style=\"text-align: right;\">\n      <th></th>\n      <th>ITE</th>\n      <th>with_treatment_predict</th>\n      <th>without_treatment_predict</th>\n    </tr>\n  </thead>\n  <tbody>\n    <tr>\n      <th>0</th>\n      <td>-0.022509</td>\n      <td>0.935674</td>\n      <td>0.958183</td>\n    </tr>\n    <tr>\n      <th>1</th>\n      <td>-0.560047</td>\n      <td>0.867569</td>\n      <td>1.427616</td>\n    </tr>\n    <tr>\n      <th>2</th>\n      <td>-0.150755</td>\n      <td>0.667450</td>\n      <td>0.818205</td>\n    </tr>\n    <tr>\n      <th>3</th>\n      <td>0.207543</td>\n      <td>1.372787</td>\n      <td>1.165244</td>\n    </tr>\n    <tr>\n      <th>4</th>\n      <td>0.134130</td>\n      <td>0.366198</td>\n      <td>0.232068</td>\n    </tr>\n  </tbody>\n</table>\n</div>",
       "datasetInfos": [],
       "metadata": {},
       "removedWidgets": [],
       "textData": null,
       "type": "htmlSandbox"
      }
     },
     "output_type": "display_data"
    }
   ],
   "source": [
    "# ITE\n",
    "ite = with_treatment_predict - without_treatment_predict\n",
    "\n",
    "# Save ITE data in a pandas dataframe\n",
    "ite_df = pd.DataFrame({'ITE': ite, 'with_treatment_predict':with_treatment_predict, 'without_treatment_predict': without_treatment_predict})\n",
    "\n",
    "# Take a look at the data\n",
    "ite_df.head()"
   ]
  },
  {
   "cell_type": "markdown",
   "metadata": {
    "application/vnd.databricks.v1+cell": {
     "cellMetadata": {},
     "inputWidgets": {},
     "nuid": "518b5780-bf79-4da5-b417-7e447150c93f",
     "showTitle": false,
     "title": ""
    }
   },
   "source": [
    "Histogram ITE pokazuje normalnu raspodelu. \n",
    "- Prosecna vrednost efekta tretmana je oko 0.5\n",
    "- Vecinski, uzorci u skupu podataka imaju pozitivan efekat tretmana"
   ]
  },
  {
   "cell_type": "code",
   "execution_count": 0,
   "metadata": {
    "application/vnd.databricks.v1+cell": {
     "cellMetadata": {
      "byteLimit": 2048000,
      "rowLimit": 10000
     },
     "inputWidgets": {},
     "nuid": "5ffeb0de-ac2e-46e5-8781-601d8b8b1568",
     "showTitle": false,
     "title": ""
    }
   },
   "outputs": [
    {
     "output_type": "stream",
     "name": "stdout",
     "output_type": "stream",
     "text": [
      "Out[8]: array([[<AxesSubplot:title={'center':'ITE'}>]], dtype=object)"
     ]
    },
    {
     "output_type": "display_data",
     "data": {
      "image/png": "[encoded data removed]"
     },
     "metadata": {
      "application/vnd.databricks.v1+output": {
       "addedWidgets": {},
       "arguments": {},
       "data": "data:image/png;base64,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\n",
       "datasetInfos": [],
       "metadata": {},
       "removedWidgets": [],
       "type": "image"
      }
     },
     "output_type": "display_data"
    }
   ],
   "source": [
    "# visualization\n",
    "ite_df.hist(column ='ITE', bins=50, grid=True, figsize=(12, 8))"
   ]
  },
  {
   "cell_type": "markdown",
   "metadata": {
    "application/vnd.databricks.v1+cell": {
     "cellMetadata": {},
     "inputWidgets": {},
     "nuid": "f4c098a8-fe4c-41e8-bc6c-3a96d822898b",
     "showTitle": false,
     "title": ""
    }
   },
   "source": [
    "### S-Learner ATE - Average Treatment Effect\n",
    "\n",
    "Prosecan efekat tretmana (ATE) za populaciju je prosek individualnog efekta tretmana."
   ]
  },
  {
   "cell_type": "code",
   "execution_count": 0,
   "metadata": {
    "application/vnd.databricks.v1+cell": {
     "cellMetadata": {
      "byteLimit": 2048000,
      "rowLimit": 10000
     },
     "inputWidgets": {},
     "nuid": "f0fa11b3-9407-4db4-a32d-1c0abb9a7954",
     "showTitle": false,
     "title": ""
    }
   },
   "outputs": [
    {
     "output_type": "stream",
     "name": "stdout",
     "output_type": "stream",
     "text": [
      "The average treatment effect (ATE) is 0.47\n"
     ]
    }
   ],
   "source": [
    "# Calculate ATE\n",
    "ATE = ite.mean()\n",
    "\n",
    "# Print out results\n",
    "print(f'The average treatment effect (ATE) is {ATE:.2f}')"
   ]
  },
  {
   "cell_type": "markdown",
   "metadata": {
    "application/vnd.databricks.v1+cell": {
     "cellMetadata": {},
     "inputWidgets": {},
     "nuid": "7e0a39a2-ba54-4f78-8667-0084cdc39163",
     "showTitle": false,
     "title": ""
    }
   },
   "source": [
    "### Segmentacija klijenata\n",
    "\n",
    "Uplift model deli klijente u 4 grupe na osnovu inkrementalnih promena izazvanih tretmanom koji primenimo nad njima. Uobicajena primena uplift modela je u marketinske svrhe.\n",
    "* Persuadables - lako ubedljivi klijenti/oni koji ce kupiti proizvod ako su tretirani, u suprotnom nece. U nasem slucaju bice definisani kao oni klijenti kojima je ITE > 0.5\n",
    "* Sleeping dogs - klijenti koji ce kupovati proizvod ukoliko ih ne ometamo, ukoliko ih tretiramo nece kupovati. U nasem slucaju su oni sa ITE < -0.5.\n",
    "* Lost Causes - klijenti koji nece kupovati nevezano da li su tretirani ili nisu.\n",
    "* Sure things - klijenti koji ce sigurno kupiti proizvod bez obzira da li su tretirani ili nisu.\n",
    "\n",
    "Poslednja dva slucaja cemo grupisati kao *no_impact* ukoliko je -0.5 < ITE < 0.5. Njihov efekat tretmana je blizu 0, smatramo da kontaktiranjem ovih klijenata mozemo samo da izgubimo resurse."
   ]
  },
  {
   "cell_type": "code",
   "execution_count": 0,
   "metadata": {
    "application/vnd.databricks.v1+cell": {
     "cellMetadata": {
      "byteLimit": 2048000,
      "rowLimit": 10000
     },
     "inputWidgets": {},
     "nuid": "1b90ecb8-e578-46be-8926-fa70e8e273c0",
     "showTitle": false,
     "title": ""
    }
   },
   "outputs": [
    {
     "output_type": "display_data",
     "data": {
      "text/html": [
       "<div>\n",
       "<style scoped>\n",
       "    .dataframe tbody tr th:only-of-type {\n",
       "        vertical-align: middle;\n",
       "    }\n",
       "\n",
       "    .dataframe tbody tr th {\n",
       "        vertical-align: top;\n",
       "    }\n",
       "\n",
       "    .dataframe thead th {\n",
       "        text-align: right;\n",
       "    }\n",
       "</style>\n",
       "<table border=\"1\" class=\"dataframe\">\n",
       "  <thead>\n",
       "    <tr style=\"text-align: right;\">\n",
       "      <th></th>\n",
       "      <th>ITE</th>\n",
       "      <th>with_treatment_predict</th>\n",
       "      <th>without_treatment_predict</th>\n",
       "      <th>segment</th>\n",
       "    </tr>\n",
       "  </thead>\n",
       "  <tbody>\n",
       "    <tr>\n",
       "      <th>0</th>\n",
       "      <td>-0.022509</td>\n",
       "      <td>0.935674</td>\n",
       "      <td>0.958183</td>\n",
       "      <td>no_impact</td>\n",
       "    </tr>\n",
       "    <tr>\n",
       "      <th>1</th>\n",
       "      <td>-0.560047</td>\n",
       "      <td>0.867569</td>\n",
       "      <td>1.427616</td>\n",
       "      <td>sleeping-dog</td>\n",
       "    </tr>\n",
       "    <tr>\n",
       "      <th>2</th>\n",
       "      <td>-0.150755</td>\n",
       "      <td>0.667450</td>\n",
       "      <td>0.818205</td>\n",
       "      <td>no_impact</td>\n",
       "    </tr>\n",
       "    <tr>\n",
       "      <th>3</th>\n",
       "      <td>0.207543</td>\n",
       "      <td>1.372787</td>\n",
       "      <td>1.165244</td>\n",
       "      <td>no_impact</td>\n",
       "    </tr>\n",
       "    <tr>\n",
       "      <th>4</th>\n",
       "      <td>0.134130</td>\n",
       "      <td>0.366198</td>\n",
       "      <td>0.232068</td>\n",
       "      <td>no_impact</td>\n",
       "    </tr>\n",
       "  </tbody>\n",
       "</table>\n",
       "</div>"
      ]
     },
     "metadata": {
      "application/vnd.databricks.v1+output": {
       "addedWidgets": {},
       "arguments": {},
       "data": "<div>\n<style scoped>\n    .dataframe tbody tr th:only-of-type {\n        vertical-align: middle;\n    }\n\n    .dataframe tbody tr th {\n        vertical-align: top;\n    }\n\n    .dataframe thead th {\n        text-align: right;\n    }\n</style>\n<table border=\"1\" class=\"dataframe\">\n  <thead>\n    <tr style=\"text-align: right;\">\n      <th></th>\n      <th>ITE</th>\n      <th>with_treatment_predict</th>\n      <th>without_treatment_predict</th>\n      <th>segment</th>\n    </tr>\n  </thead>\n  <tbody>\n    <tr>\n      <th>0</th>\n      <td>-0.022509</td>\n      <td>0.935674</td>\n      <td>0.958183</td>\n      <td>no_impact</td>\n    </tr>\n    <tr>\n      <th>1</th>\n      <td>-0.560047</td>\n      <td>0.867569</td>\n      <td>1.427616</td>\n      <td>sleeping-dog</td>\n    </tr>\n    <tr>\n      <th>2</th>\n      <td>-0.150755</td>\n      <td>0.667450</td>\n      <td>0.818205</td>\n      <td>no_impact</td>\n    </tr>\n    <tr>\n      <th>3</th>\n      <td>0.207543</td>\n      <td>1.372787</td>\n      <td>1.165244</td>\n      <td>no_impact</td>\n    </tr>\n    <tr>\n      <th>4</th>\n      <td>0.134130</td>\n      <td>0.366198</td>\n      <td>0.232068</td>\n      <td>no_impact</td>\n    </tr>\n  </tbody>\n</table>\n</div>",
       "datasetInfos": [],
       "metadata": {},
       "removedWidgets": [],
       "textData": null,
       "type": "htmlSandbox"
      }
     },
     "output_type": "display_data"
    }
   ],
   "source": [
    "# Create the segmentation function\n",
    "def segmentation(x):\n",
    "  if x < -0.5:\n",
    "    return 'sleeping-dog'\n",
    "  elif x > 0.5:\n",
    "    return 'persuadable'\n",
    "  else:\n",
    "    return 'no_impact'\n",
    "\n",
    "# Apply the function \n",
    "ite_df['segment'] = ite_df['ITE'].apply(segmentation)\n",
    "\n",
    "# Take a look at the data\n",
    "ite_df.head()"
   ]
  },
  {
   "cell_type": "code",
   "execution_count": 0,
   "metadata": {
    "application/vnd.databricks.v1+cell": {
     "cellMetadata": {
      "byteLimit": 2048000,
      "rowLimit": 10000
     },
     "inputWidgets": {},
     "nuid": "2c657487-70b4-43c1-b03a-b6cdd45faca0",
     "showTitle": false,
     "title": ""
    }
   },
   "outputs": [
    {
     "output_type": "stream",
     "name": "stdout",
     "output_type": "stream",
     "text": [
      "Out[11]: <AxesSubplot:xlabel='segment', ylabel='count'>"
     ]
    },
    {
     "output_type": "display_data",
     "data": {
      "image/png": "[encoded data removed]"
     },
     "metadata": {
      "application/vnd.databricks.v1+output": {
       "addedWidgets": {},
       "arguments": {},
       "data": "data:image/png;base64,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\n",
       "datasetInfos": [],
       "metadata": {},
       "removedWidgets": [],
       "type": "image"
      }
     },
     "output_type": "display_data"
    }
   ],
   "source": [
    "# Visualization\n",
    "sns.countplot(x=ite_df['segment'])"
   ]
  },
  {
   "cell_type": "markdown",
   "metadata": {
    "application/vnd.databricks.v1+cell": {
     "cellMetadata": {},
     "inputWidgets": {},
     "nuid": "fd037e6c-49e2-4977-bebd-4f9c4c35dbab",
     "showTitle": false,
     "title": ""
    }
   },
   "source": [
    "Na ovaj nacin se mogu optimizovati marketinske kampanje i klijenti koji bi bili kontaktirani."
   ]
  }
 ],
 "metadata": {
  "application/vnd.databricks.v1+notebook": {
   "dashboards": [],
   "language": "python",
   "notebookMetadata": {
    "pythonIndentUnit": 4
   },
   "notebookName": "S-Learner",
   "widgets": {}
  }
 },
 "nbformat": 4,
 "nbformat_minor": 0
}
