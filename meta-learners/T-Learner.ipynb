{
 "cells": [
  {
   "cell_type": "markdown",
   "metadata": {
    "application/vnd.databricks.v1+cell": {
     "cellMetadata": {},
     "inputWidgets": {},
     "nuid": "e3d49ec4-328e-4d53-bbc4-147e78994997",
     "showTitle": false,
     "title": ""
    }
   },
   "source": [
    "# T Learner\n",
    "\n",
    "T-Learner je meta-learner koji koristi dva modela masinskog ucenja za procenu heterogenog kauzalnog efekta tretmana na individualnom nivou.\n",
    "T-Learner je meta-learner koji koristi dva modela masinskog ucenja za procenu heterogenog kauzalnog efekta tretmana na individualnom nivou.\n",
    "\n",
    "Ovaj algoritam prati tri koraka za procenu individualnog tretmana ITE:\n",
    "* Prvo je potrebno izgraditi dva modela masinskog ucenja, jedan koji koristi tretirane klijente, a drugi koji koristi klijente iz kontrolne grupe.\n",
    "* Nakon toga, predvidjanja ce biti napravljena odvojeno koriscenjem dva modela za tretirane i kontrolne klijente.\n",
    "* Efekat individualnog tretmana ITE bice procenjen dobijanjem razlike izmedju predvidjenog ishoda iz tretiranog modela i iz kontrolnog modela."
   ]
  },
  {
   "cell_type": "code",
   "execution_count": 0,
   "metadata": {
    "application/vnd.databricks.v1+cell": {
     "cellMetadata": {
      "byteLimit": 2048000,
      "rowLimit": 10000
     },
     "inputWidgets": {},
     "nuid": "e20530f8-7dab-4cb1-afff-119c3bf8e3ab",
     "showTitle": false,
     "title": ""
    }
   },
   "outputs": [
    {
     "output_type": "stream",
     "name": "stdout",
     "output_type": "stream",
     "text": [
      "Looking in indexes: https://artifacts.rbi.tech/artifactory/api/pypi/pypi-org-pypi-proxy/simple/\r\nCollecting causalml\r\n  Using cached causalml-0.13.0-cp39-cp39-linux_x86_64.whl\r\nCollecting pathos==0.2.9\r\n  Using cached https://artifacts.rbi.tech/artifactory/api/pypi/pypi-org-pypi-proxy/packages/packages/57/78/3f3a6c8f9447a947af2f2a191f71cc870b0fa673432044f38d966f3fd9c0/pathos-0.2.9-py3-none-any.whl (76 kB)\r\nCollecting lightgbm\r\n  Using cached https://artifacts.rbi.tech/artifactory/api/pypi/pypi-org-pypi-proxy/packages/packages/38/5c/d9773cf0ea7938f3b777eaacc6f9d58f69ca76a667771364ffefed9095b4/lightgbm-3.3.5-py3-none-manylinux1_x86_64.whl (2.0 MB)\r\nRequirement already satisfied: pip>=10.0 in /local_disk0/.ephemeral_nfs/envs/pythonEnv-df8f0948-5cca-4b02-ae13-745df791f85c/lib/python3.9/site-packages (from causalml) (21.2.4)\r\nRequirement already satisfied: pandas>=0.24.1 in /databricks/python3/lib/python3.9/site-packages (from causalml) (1.4.2)\r\nRequirement already satisfied: packaging in /databricks/python3/lib/python3.9/site-packages (from causalml) (21.3)\r\nCollecting graphviz\r\n  Using cached https://artifacts.rbi.tech/artifactory/api/pypi/pypi-org-pypi-proxy/packages/packages/de/5e/fcbb22c68208d39edff467809d06c9d81d7d27426460ebc598e55130c1aa/graphviz-0.20.1-py3-none-any.whl (47 kB)\r\nCollecting pyro-ppl\r\n  Using cached https://artifacts.rbi.tech/artifactory/api/pypi/pypi-org-pypi-proxy/packages/packages/b5/b1/ccceeae368b7e2b5504229e74ad584e4b8071faeef23b0e888d1c9d8ef3d/pyro_ppl-1.8.4-py3-none-any.whl (730 kB)\r\nCollecting torch\r\n  Using cached https://artifacts.rbi.tech/artifactory/api/pypi/pypi-org-pypi-proxy/packages/packages/e5/9a/ce0fe125f226ffce8deba6a18bd8d0b9f589aa236780a83a6d70b5525f56/torch-2.0.1-cp39-cp39-manylinux1_x86_64.whl (619.9 MB)\r\nCollecting shap\r\n  Using cached https://artifacts.rbi.tech/artifactory/api/pypi/pypi-org-pypi-proxy/packages/packages/3a/50/7f3d45aca875252d3e07e9aefbf726e7614ff8c4919c08f5c99284d83e7c/shap-0.41.0-cp39-cp39-manylinux_2_12_x86_64.manylinux2010_x86_64.whl (572 kB)\r\nRequirement already satisfied: matplotlib in /databricks/python3/lib/python3.9/site-packages (from causalml) (3.5.1)\r\nRequirement already satisfied: Cython>=0.28.0 in /databricks/python3/lib/python3.9/site-packages (from causalml) (0.29.28)\r\nRequirement already satisfied: numpy>=1.18.5 in /databricks/python3/lib/python3.9/site-packages (from causalml) (1.21.5)\r\nCollecting tqdm\r\n  Using cached https://artifacts.rbi.tech/artifactory/api/pypi/pypi-org-pypi-proxy/packages/packages/e6/02/a2cff6306177ae6bc73bc0665065de51dfb3b9db7373e122e2735faf0d97/tqdm-4.65.0-py3-none-any.whl (77 kB)\r\nCollecting dill\r\n  Using cached https://artifacts.rbi.tech/artifactory/api/pypi/pypi-org-pypi-proxy/packages/packages/be/e3/a84bf2e561beed15813080d693b4b27573262433fced9c1d1fea59e60553/dill-0.3.6-py3-none-any.whl (110 kB)\r\nRequirement already satisfied: setuptools>=41.0.0 in /databricks/python3/lib/python3.9/site-packages (from causalml) (61.2.0)\r\nCollecting xgboost\r\n  Using cached https://artifacts.rbi.tech/artifactory/api/pypi/pypi-org-pypi-proxy/packages/packages/7e/94/164786127eed50283df0b62a3da9521695163b1596a1667e3856438da6e7/xgboost-1.7.5-py3-none-manylinux2014_x86_64.whl (200.3 MB)\r\nCollecting pygam\r\n  Using cached https://artifacts.rbi.tech/artifactory/api/pypi/pypi-org-pypi-proxy/packages/packages/1a/5b/9357e294997efc17c661355bdd2f12aa21d5631e57d7e650393c79168e60/pygam-0.9.0-py3-none-any.whl (522 kB)\r\nCollecting pydotplus\r\n  Using cached pydotplus-2.0.2-py3-none-any.whl\r\nRequirement already satisfied: scipy>=1.4.1 in /databricks/python3/lib/python3.9/site-packages (from causalml) (1.7.3)\r\nCollecting forestci==0.6\r\n  Using cached https://artifacts.rbi.tech/artifactory/api/pypi/pypi-org-pypi-proxy/packages/packages/b3/08/02f77e94d3b8c4a1b5ae48b4bf12689ba63f75b558b67fad10d407c6252e/forestci-0.6-py3-none-any.whl (12 kB)\r\nRequirement already satisfied: seaborn in /databricks/python3/lib/python3.9/site-packages (from causalml) (0.11.2)\r\nRequirement already satisfied: scikit-learn==1.0.2 in /databricks/python3/lib/python3.9/site-packages (from causalml) (1.0.2)\r\nRequirement already satisfied: statsmodels>=0.9.0 in /databricks/python3/lib/python3.9/site-packages (from causalml) (0.13.2)\r\nCollecting multiprocess>=0.70.13\r\n  Using cached https://artifacts.rbi.tech/artifactory/api/pypi/pypi-org-pypi-proxy/packages/packages/6a/f4/fbeb03ef7abdda54db4a6a75c971b88ab73d724ff09e3275cc1e99f1c946/multiprocess-0.70.14-py39-none-any.whl (132 kB)\r\nCollecting pox>=0.3.1\r\n  Using cached https://artifacts.rbi.tech/artifactory/api/pypi/pypi-org-pypi-proxy/packages/packages/7d/ee/93fb2380de1458a50c44b8aa65c6f111df1103c3d4fbd74b70f51745e081/pox-0.3.2-py3-none-any.whl (29 kB)\r\nCollecting ppft>=1.7.6.5\r\n  Using cached https://artifacts.rbi.tech/artifactory/api/pypi/pypi-org-pypi-proxy/packages/packages/0f/c1/dd740386023b1472d2635db9d8f7107024d9931cc8c01b37b48a85eb3811/ppft-1.7.6.6-py3-none-any.whl (52 kB)\r\nRequirement already satisfied: threadpoolctl>=2.0.0 in /databricks/python3/lib/python3.9/site-packages (from scikit-learn==1.0.2->causalml) (2.2.0)\r\nRequirement already satisfied: joblib>=0.11 in /databricks/python3/lib/python3.9/site-packages (from scikit-learn==1.0.2->causalml) (1.1.1)\r\nRequirement already satisfied: python-dateutil>=2.8.1 in /databricks/python3/lib/python3.9/site-packages (from pandas>=0.24.1->causalml) (2.8.2)\r\nRequirement already satisfied: pytz>=2020.1 in /databricks/python3/lib/python3.9/site-packages (from pandas>=0.24.1->causalml) (2021.3)\r\nRequirement already satisfied: six>=1.5 in /databricks/python3/lib/python3.9/site-packages (from python-dateutil>=2.8.1->pandas>=0.24.1->causalml) (1.16.0)\r\nRequirement already satisfied: patsy>=0.5.2 in /databricks/python3/lib/python3.9/site-packages (from statsmodels>=0.9.0->causalml) (0.5.2)\r\nRequirement already satisfied: pyparsing!=3.0.5,>=2.0.2 in /databricks/python3/lib/python3.9/site-packages (from packaging->causalml) (3.0.4)\r\nRequirement already satisfied: wheel in /databricks/python3/lib/python3.9/site-packages (from lightgbm->causalml) (0.37.0)\r\nRequirement already satisfied: fonttools>=4.22.0 in /databricks/python3/lib/python3.9/site-packages (from matplotlib->causalml) (4.25.0)\r\nRequirement already satisfied: kiwisolver>=1.0.1 in /databricks/python3/lib/python3.9/site-packages (from matplotlib->causalml) (1.3.2)\r\nRequirement already satisfied: cycler>=0.10 in /databricks/python3/lib/python3.9/site-packages (from matplotlib->causalml) (0.11.0)\r\nRequirement already satisfied: pillow>=6.2.0 in /databricks/python3/lib/python3.9/site-packages (from matplotlib->causalml) (9.0.1)\r\nCollecting pygam\r\n  Using cached https://artifacts.rbi.tech/artifactory/api/pypi/pypi-org-pypi-proxy/packages/packages/db/d6/adf91b9f1b242576302153f77fd91548fdd41e64768ced68472982a9c4a9/pygam-0.8.1-py3-none-any.whl (522 kB)\r\n  Using cached https://artifacts.rbi.tech/artifactory/api/pypi/pypi-org-pypi-proxy/packages/packages/13/be/775033ef08a8945bec6ad7973b161ca909f852442e0d7cfb8d1a214de1ac/pygam-0.8.0-py2.py3-none-any.whl (1.8 MB)\r\nCollecting future\r\n  Using cached future-0.18.3-py3-none-any.whl\r\nCollecting progressbar2\r\n  Using cached https://artifacts.rbi.tech/artifactory/api/pypi/pypi-org-pypi-proxy/packages/packages/8b/de/a23d9e1141a3503f52d8b22694a7ca19a4706c8e0c74d1f0cdb207e8699d/progressbar2-4.2.0-py2.py3-none-any.whl (27 kB)\r\nCollecting python-utils>=3.0.0\r\n  Using cached https://artifacts.rbi.tech/artifactory/api/pypi/pypi-org-pypi-proxy/packages/packages/79/80/4276fba30da6ed26165b67093ce4a2ca78b701a55920d39e59cc82ee9639/python_utils-3.5.2-py2.py3-none-any.whl (24 kB)\r\nCollecting opt-einsum>=2.3.2\r\n  Using cached https://artifacts.rbi.tech/artifactory/api/pypi/pypi-org-pypi-proxy/packages/packages/bc/19/404708a7e54ad2798907210462fd950c3442ea51acc8790f3da48d2bee8b/opt_einsum-3.3.0-py3-none-any.whl (65 kB)\r\nCollecting pyro-api>=0.1.1\r\n  Using cached https://artifacts.rbi.tech/artifactory/api/pypi/pypi-org-pypi-proxy/packages/packages/fc/81/957ae78e6398460a7230b0eb9b8f1cb954c5e913e868e48d89324c68cec7/pyro_api-0.1.2-py3-none-any.whl (11 kB)\r\nCollecting nvidia-cuda-nvrtc-cu11==11.7.99\r\n  Using cached https://artifacts.rbi.tech/artifactory/api/pypi/pypi-org-pypi-proxy/packages/packages/ef/25/922c5996aada6611b79b53985af7999fc629aee1d5d001b6a22431e18fec/nvidia_cuda_nvrtc_cu11-11.7.99-2-py3-none-manylinux1_x86_64.whl (21.0 MB)\r\nRequirement already satisfied: jinja2 in /databricks/python3/lib/python3.9/site-packages (from torch->causalml) (2.11.3)\r\nRequirement already satisfied: filelock in /usr/local/lib/python3.9/dist-packages (from torch->causalml) (3.9.0)\r\nCollecting nvidia-curand-cu11==10.2.10.91\r\n  Using cached https://artifacts.rbi.tech/artifactory/api/pypi/pypi-org-pypi-proxy/packages/packages/8f/11/af78d54b2420e64a4dd19e704f5bb69dcb5a6a3138b4465d6a48cdf59a21/nvidia_curand_cu11-10.2.10.91-py3-none-manylinux1_x86_64.whl (54.6 MB)\r\nCollecting nvidia-cuda-runtime-cu11==11.7.99\r\n  Using cached https://artifacts.rbi.tech/artifactory/api/pypi/pypi-org-pypi-proxy/packages/packages/36/92/89cf558b514125d2ebd8344dd2f0533404b416486ff681d5434a5832a019/nvidia_cuda_runtime_cu11-11.7.99-py3-none-manylinux1_x86_64.whl (849 kB)\r\nCollecting nvidia-cuda-cupti-cu11==11.7.101\r\n  Using cached https://artifacts.rbi.tech/artifactory/api/pypi/pypi-org-pypi-proxy/packages/packages/e6/9d/dd0cdcd800e642e3c82ee3b5987c751afd4f3fb9cc2752517f42c3bc6e49/nvidia_cuda_cupti_cu11-11.7.101-py3-none-manylinux1_x86_64.whl (11.8 MB)\r\nCollecting nvidia-cusparse-cu11==11.7.4.91\r\n  Using cached https://artifacts.rbi.tech/artifactory/api/pypi/pypi-org-pypi-proxy/packages/packages/ea/6f/6d032cc1bb7db88a989ddce3f4968419a7edeafda362847f42f614b1f845/nvidia_cusparse_cu11-11.7.4.91-py3-none-manylinux1_x86_64.whl (173.2 MB)\r\nCollecting nvidia-cublas-cu11==11.10.3.66\r\n  Using cached https://artifacts.rbi.tech/artifactory/api/pypi/pypi-org-pypi-proxy/packages/packages/ce/41/fdeb62b5437996e841d83d7d2714ca75b886547ee8017ee2fe6ea409d983/nvidia_cublas_cu11-11.10.3.66-py3-none-manylinux1_x86_64.whl (317.1 MB)\r\nCollecting nvidia-cusolver-cu11==11.4.0.1\r\n  Using cached https://artifacts.rbi.tech/artifactory/api/pypi/pypi-org-pypi-proxy/packages/packages/3e/77/66149e3153b19312fb782ea367f3f950123b93916a45538b573fe373570a/nvidia_cusolver_cu11-11.4.0.1-2-py3-none-manylinux1_x86_64.whl (102.6 MB)\r\nCollecting nvidia-nccl-cu11==2.14.3\r\n  Using cached https://artifacts.rbi.tech/artifactory/api/pypi/pypi-org-pypi-proxy/packages/packages/55/92/914cdb650b6a5d1478f83148597a25e90ea37d739bd563c5096b0e8a5f43/nvidia_nccl_cu11-2.14.3-py3-none-manylinux1_x86_64.whl (177.1 MB)\r\nCollecting triton==2.0.0\r\n  Using cached https://artifacts.rbi.tech/artifactory/api/pypi/pypi-org-pypi-proxy/packages/packages/77/ac/28b74ec1177c730d0da8803eaff5e5025bd532bcf07cadb0fcf661abed97/triton-2.0.0-1-cp39-cp39-manylinux2014_x86_64.manylinux_2_17_x86_64.whl (63.3 MB)\r\nRequirement already satisfied: typing-extensions in /databricks/python3/lib/python3.9/site-packages (from torch->causalml) (4.1.1)\r\nCollecting sympy\r\n  Using cached https://artifacts.rbi.tech/artifactory/api/pypi/pypi-org-pypi-proxy/packages/packages/d2/05/e6600db80270777c4a64238a98d442f0fd07cc8915be2a1c16da7f2b9e74/sympy-1.12-py3-none-any.whl (5.7 MB)\r\nCollecting nvidia-nvtx-cu11==11.7.91\r\n  Using cached https://artifacts.rbi.tech/artifactory/api/pypi/pypi-org-pypi-proxy/packages/packages/23/d5/09493ff0e64fd77523afbbb075108f27a13790479efe86b9ffb4587671b5/nvidia_nvtx_cu11-11.7.91-py3-none-manylinux1_x86_64.whl (98 kB)\r\nCollecting nvidia-cufft-cu11==10.9.0.58\r\n  Using cached https://artifacts.rbi.tech/artifactory/api/pypi/pypi-org-pypi-proxy/packages/packages/74/79/b912a77e38e41f15a0581a59f5c3548d1ddfdda3225936fb67c342719e7a/nvidia_cufft_cu11-10.9.0.58-py3-none-manylinux1_x86_64.whl (168.4 MB)\r\nCollecting networkx\r\n  Using cached https://artifacts.rbi.tech/artifactory/api/pypi/pypi-org-pypi-proxy/packages/packages/a8/05/9d4f9b78ead6b2661d6e8ea772e111fc4a9fbd866ad0c81906c11206b55e/networkx-3.1-py3-none-any.whl (2.1 MB)\r\nCollecting nvidia-cudnn-cu11==8.5.0.96\r\n  Using cached https://artifacts.rbi.tech/artifactory/api/pypi/pypi-org-pypi-proxy/packages/packages/dc/30/66d4347d6e864334da5bb1c7571305e501dcb11b9155971421bb7bb5315f/nvidia_cudnn_cu11-8.5.0.96-2-py3-none-manylinux1_x86_64.whl (557.1 MB)\r\nCollecting lit\r\n  Using cached lit-16.0.5-py3-none-any.whl\r\nCollecting cmake\r\n  Using cached https://artifacts.rbi.tech/artifactory/api/pypi/pypi-org-pypi-proxy/packages/packages/1d/de/48d485d12285cd53e322fb7bdb263778820984d4be54c2bb2fb5eced5e87/cmake-3.26.3-py2.py3-none-manylinux2014_x86_64.manylinux_2_17_x86_64.whl (24.0 MB)\r\nRequirement already satisfied: MarkupSafe>=0.23 in /databricks/python3/lib/python3.9/site-packages (from jinja2->torch->causalml) (2.0.1)\r\nCollecting numba\r\n  Using cached https://artifacts.rbi.tech/artifactory/api/pypi/pypi-org-pypi-proxy/packages/packages/3c/15/be35b3e600845799474b915f91d3654e35575c8e0672b9889190fa8ff1e0/numba-0.57.0-cp39-cp39-manylinux2014_x86_64.manylinux_2_17_x86_64.whl (3.6 MB)\r\nCollecting cloudpickle\r\n  Using cached https://artifacts.rbi.tech/artifactory/api/pypi/pypi-org-pypi-proxy/packages/packages/15/80/44286939ca215e88fa827b2aeb6fa3fd2b4a7af322485c7170d6f9fd96e0/cloudpickle-2.2.1-py3-none-any.whl (25 kB)\r\nCollecting slicer==0.0.7\r\n  Using cached https://artifacts.rbi.tech/artifactory/api/pypi/pypi-org-pypi-proxy/packages/packages/78/c2/b3f55dfdb8af9812fdb9baf70cacf3b9e82e505b2bd4324d588888b81202/slicer-0.0.7-py3-none-any.whl (14 kB)\r\nCollecting llvmlite<0.41,>=0.40.0dev0\r\n  Using cached https://artifacts.rbi.tech/artifactory/api/pypi/pypi-org-pypi-proxy/packages/packages/cd/0a/09f8adda09f9330bfd9285c947e29e0080e649aa12aa8328d4993dbf97dd/llvmlite-0.40.0-cp39-cp39-manylinux_2_17_x86_64.manylinux2014_x86_64.whl (42.1 MB)\r\nCollecting mpmath>=0.19\r\n  Using cached https://artifacts.rbi.tech/artifactory/api/pypi/pypi-org-pypi-proxy/packages/packages/43/e3/7d92a15f894aa0c9c4b49b8ee9ac9850d6e63b03c9c32c0367a13ae62209/mpmath-1.3.0-py3-none-any.whl (536 kB)\r\nInstalling collected packages: nvidia-cublas-cu11, mpmath, lit, cmake, triton, sympy, python-utils, nvidia-nvtx-cu11, nvidia-nccl-cu11, nvidia-cusparse-cu11, nvidia-cusolver-cu11, nvidia-curand-cu11, nvidia-cufft-cu11, nvidia-cudnn-cu11, nvidia-cuda-runtime-cu11, nvidia-cuda-nvrtc-cu11, nvidia-cuda-cupti-cu11, networkx, llvmlite, dill, tqdm, torch, slicer, pyro-api, progressbar2, ppft, pox, opt-einsum, numba, multiprocess, future, cloudpickle, xgboost, shap, pyro-ppl, pygam, pydotplus, pathos, lightgbm, graphviz, forestci, causalml\r\nSuccessfully installed causalml-0.13.0 cloudpickle-2.2.1 cmake-3.26.3 dill-0.3.6 forestci-0.6 future-0.18.3 graphviz-0.20.1 lightgbm-3.3.5 lit-16.0.5 llvmlite-0.40.0 mpmath-1.3.0 multiprocess-0.70.14 networkx-3.1 numba-0.57.0 nvidia-cublas-cu11-11.10.3.66 nvidia-cuda-cupti-cu11-11.7.101 nvidia-cuda-nvrtc-cu11-11.7.99 nvidia-cuda-runtime-cu11-11.7.99 nvidia-cudnn-cu11-8.5.0.96 nvidia-cufft-cu11-10.9.0.58 nvidia-curand-cu11-10.2.10.91 nvidia-cusolver-cu11-11.4.0.1 nvidia-cusparse-cu11-11.7.4.91 nvidia-nccl-cu11-2.14.3 nvidia-nvtx-cu11-11.7.91 opt-einsum-3.3.0 pathos-0.2.9 pox-0.3.2 ppft-1.7.6.6 progressbar2-4.2.0 pydotplus-2.0.2 pygam-0.8.0 pyro-api-0.1.2 pyro-ppl-1.8.4 python-utils-3.5.2 shap-0.41.0 slicer-0.0.7 sympy-1.12 torch-2.0.1 tqdm-4.65.0 triton-2.0.0 xgboost-1.7.5\r\n"
     ]
    }
   ],
   "source": [
    "!pip install causalml"
   ]
  },
  {
   "cell_type": "code",
   "execution_count": 0,
   "metadata": {
    "application/vnd.databricks.v1+cell": {
     "cellMetadata": {
      "byteLimit": 2048000,
      "rowLimit": 10000
     },
     "inputWidgets": {},
     "nuid": "366b17cf-bf9f-440e-b0cd-df61e79f2aef",
     "showTitle": false,
     "title": ""
    }
   },
   "outputs": [
    {
     "output_type": "stream",
     "name": "stderr",
     "output_type": "stream",
     "text": [
      "/local_disk0/.ephemeral_nfs/envs/pythonEnv-df8f0948-5cca-4b02-ae13-745df791f85c/lib/python3.9/site-packages/shap/utils/_clustering.py:35: NumbaDeprecationWarning: The 'nopython' keyword argument was not supplied to the 'numba.jit' decorator. The implicit default value for this argument is currently False, but it will be changed to True in Numba 0.59.0. See https://numba.readthedocs.io/en/stable/reference/deprecation.html#deprecation-of-object-mode-fall-back-behaviour-when-using-jit for details.\n  def _pt_shuffle_rec(i, indexes, index_mask, partition_tree, M, pos):\n/local_disk0/.ephemeral_nfs/envs/pythonEnv-df8f0948-5cca-4b02-ae13-745df791f85c/lib/python3.9/site-packages/shap/utils/_clustering.py:54: NumbaDeprecationWarning: The 'nopython' keyword argument was not supplied to the 'numba.jit' decorator. The implicit default value for this argument is currently False, but it will be changed to True in Numba 0.59.0. See https://numba.readthedocs.io/en/stable/reference/deprecation.html#deprecation-of-object-mode-fall-back-behaviour-when-using-jit for details.\n  def delta_minimization_order(all_masks, max_swap_size=100, num_passes=2):\n/local_disk0/.ephemeral_nfs/envs/pythonEnv-df8f0948-5cca-4b02-ae13-745df791f85c/lib/python3.9/site-packages/shap/utils/_clustering.py:63: NumbaDeprecationWarning: The 'nopython' keyword argument was not supplied to the 'numba.jit' decorator. The implicit default value for this argument is currently False, but it will be changed to True in Numba 0.59.0. See https://numba.readthedocs.io/en/stable/reference/deprecation.html#deprecation-of-object-mode-fall-back-behaviour-when-using-jit for details.\n  def _reverse_window(order, start, length):\n/local_disk0/.ephemeral_nfs/envs/pythonEnv-df8f0948-5cca-4b02-ae13-745df791f85c/lib/python3.9/site-packages/shap/utils/_clustering.py:69: NumbaDeprecationWarning: The 'nopython' keyword argument was not supplied to the 'numba.jit' decorator. The implicit default value for this argument is currently False, but it will be changed to True in Numba 0.59.0. See https://numba.readthedocs.io/en/stable/reference/deprecation.html#deprecation-of-object-mode-fall-back-behaviour-when-using-jit for details.\n  def _reverse_window_score_gain(masks, order, start, length):\n/local_disk0/.ephemeral_nfs/envs/pythonEnv-df8f0948-5cca-4b02-ae13-745df791f85c/lib/python3.9/site-packages/shap/utils/_clustering.py:77: NumbaDeprecationWarning: The 'nopython' keyword argument was not supplied to the 'numba.jit' decorator. The implicit default value for this argument is currently False, but it will be changed to True in Numba 0.59.0. See https://numba.readthedocs.io/en/stable/reference/deprecation.html#deprecation-of-object-mode-fall-back-behaviour-when-using-jit for details.\n  def _mask_delta_score(m1, m2):\n/local_disk0/.ephemeral_nfs/envs/pythonEnv-df8f0948-5cca-4b02-ae13-745df791f85c/lib/python3.9/site-packages/shap/links.py:5: NumbaDeprecationWarning: The 'nopython' keyword argument was not supplied to the 'numba.jit' decorator. The implicit default value for this argument is currently False, but it will be changed to True in Numba 0.59.0. See https://numba.readthedocs.io/en/stable/reference/deprecation.html#deprecation-of-object-mode-fall-back-behaviour-when-using-jit for details.\n  def identity(x):\n/local_disk0/.ephemeral_nfs/envs/pythonEnv-df8f0948-5cca-4b02-ae13-745df791f85c/lib/python3.9/site-packages/shap/links.py:10: NumbaDeprecationWarning: The 'nopython' keyword argument was not supplied to the 'numba.jit' decorator. The implicit default value for this argument is currently False, but it will be changed to True in Numba 0.59.0. See https://numba.readthedocs.io/en/stable/reference/deprecation.html#deprecation-of-object-mode-fall-back-behaviour-when-using-jit for details.\n  def _identity_inverse(x):\n/local_disk0/.ephemeral_nfs/envs/pythonEnv-df8f0948-5cca-4b02-ae13-745df791f85c/lib/python3.9/site-packages/shap/links.py:15: NumbaDeprecationWarning: The 'nopython' keyword argument was not supplied to the 'numba.jit' decorator. The implicit default value for this argument is currently False, but it will be changed to True in Numba 0.59.0. See https://numba.readthedocs.io/en/stable/reference/deprecation.html#deprecation-of-object-mode-fall-back-behaviour-when-using-jit for details.\n  def logit(x):\n/local_disk0/.ephemeral_nfs/envs/pythonEnv-df8f0948-5cca-4b02-ae13-745df791f85c/lib/python3.9/site-packages/shap/links.py:20: NumbaDeprecationWarning: The 'nopython' keyword argument was not supplied to the 'numba.jit' decorator. The implicit default value for this argument is currently False, but it will be changed to True in Numba 0.59.0. See https://numba.readthedocs.io/en/stable/reference/deprecation.html#deprecation-of-object-mode-fall-back-behaviour-when-using-jit for details.\n  def _logit_inverse(x):\n/local_disk0/.ephemeral_nfs/envs/pythonEnv-df8f0948-5cca-4b02-ae13-745df791f85c/lib/python3.9/site-packages/shap/utils/_masked_model.py:363: NumbaDeprecationWarning: The 'nopython' keyword argument was not supplied to the 'numba.jit' decorator. The implicit default value for this argument is currently False, but it will be changed to True in Numba 0.59.0. See https://numba.readthedocs.io/en/stable/reference/deprecation.html#deprecation-of-object-mode-fall-back-behaviour-when-using-jit for details.\n  def _build_fixed_single_output(averaged_outs, last_outs, outputs, batch_positions, varying_rows, num_varying_rows, link, linearizing_weights):\n/local_disk0/.ephemeral_nfs/envs/pythonEnv-df8f0948-5cca-4b02-ae13-745df791f85c/lib/python3.9/site-packages/shap/utils/_masked_model.py:385: NumbaDeprecationWarning: The 'nopython' keyword argument was not supplied to the 'numba.jit' decorator. The implicit default value for this argument is currently False, but it will be changed to True in Numba 0.59.0. See https://numba.readthedocs.io/en/stable/reference/deprecation.html#deprecation-of-object-mode-fall-back-behaviour-when-using-jit for details.\n  def _build_fixed_multi_output(averaged_outs, last_outs, outputs, batch_positions, varying_rows, num_varying_rows, link, linearizing_weights):\n/local_disk0/.ephemeral_nfs/envs/pythonEnv-df8f0948-5cca-4b02-ae13-745df791f85c/lib/python3.9/site-packages/shap/utils/_masked_model.py:428: NumbaDeprecationWarning: The 'nopython' keyword argument was not supplied to the 'numba.jit' decorator. The implicit default value for this argument is currently False, but it will be changed to True in Numba 0.59.0. See https://numba.readthedocs.io/en/stable/reference/deprecation.html#deprecation-of-object-mode-fall-back-behaviour-when-using-jit for details.\n  def _init_masks(cluster_matrix, M, indices_row_pos, indptr):\n/local_disk0/.ephemeral_nfs/envs/pythonEnv-df8f0948-5cca-4b02-ae13-745df791f85c/lib/python3.9/site-packages/shap/utils/_masked_model.py:439: NumbaDeprecationWarning: The 'nopython' keyword argument was not supplied to the 'numba.jit' decorator. The implicit default value for this argument is currently False, but it will be changed to True in Numba 0.59.0. See https://numba.readthedocs.io/en/stable/reference/deprecation.html#deprecation-of-object-mode-fall-back-behaviour-when-using-jit for details.\n  def _rec_fill_masks(cluster_matrix, indices_row_pos, indptr, indices, M, ind):\n/local_disk0/.ephemeral_nfs/envs/pythonEnv-df8f0948-5cca-4b02-ae13-745df791f85c/lib/python3.9/site-packages/shap/maskers/_tabular.py:186: NumbaDeprecationWarning: The 'nopython' keyword argument was not supplied to the 'numba.jit' decorator. The implicit default value for this argument is currently False, but it will be changed to True in Numba 0.59.0. See https://numba.readthedocs.io/en/stable/reference/deprecation.html#deprecation-of-object-mode-fall-back-behaviour-when-using-jit for details.\n  def _single_delta_mask(dind, masked_inputs, last_mask, data, x, noop_code):\n/local_disk0/.ephemeral_nfs/envs/pythonEnv-df8f0948-5cca-4b02-ae13-745df791f85c/lib/python3.9/site-packages/shap/maskers/_tabular.py:197: NumbaDeprecationWarning: The 'nopython' keyword argument was not supplied to the 'numba.jit' decorator. The implicit default value for this argument is currently False, but it will be changed to True in Numba 0.59.0. See https://numba.readthedocs.io/en/stable/reference/deprecation.html#deprecation-of-object-mode-fall-back-behaviour-when-using-jit for details.\n  def _delta_masking(masks, x, curr_delta_inds, varying_rows_out,\n/local_disk0/.ephemeral_nfs/envs/pythonEnv-df8f0948-5cca-4b02-ae13-745df791f85c/lib/python3.9/site-packages/shap/maskers/_image.py:175: NumbaDeprecationWarning: The 'nopython' keyword argument was not supplied to the 'numba.jit' decorator. The implicit default value for this argument is currently False, but it will be changed to True in Numba 0.59.0. See https://numba.readthedocs.io/en/stable/reference/deprecation.html#deprecation-of-object-mode-fall-back-behaviour-when-using-jit for details.\n  def _jit_build_partition_tree(xmin, xmax, ymin, ymax, zmin, zmax, total_ywidth, total_zwidth, M, clustering, q):\n/local_disk0/.ephemeral_nfs/envs/pythonEnv-df8f0948-5cca-4b02-ae13-745df791f85c/lib/python3.9/site-packages/shap/explainers/_partition.py:676: NumbaDeprecationWarning: The 'nopython' keyword argument was not supplied to the 'numba.jit' decorator. The implicit default value for this argument is currently False, but it will be changed to True in Numba 0.59.0. See https://numba.readthedocs.io/en/stable/reference/deprecation.html#deprecation-of-object-mode-fall-back-behaviour-when-using-jit for details.\n  def lower_credit(i, value, M, values, clustering):\nThe 'nopython' keyword argument was not supplied to the 'numba.jit' decorator. The implicit default value for this argument is currently False, but it will be changed to True in Numba 0.59.0. See https://numba.readthedocs.io/en/stable/reference/deprecation.html#deprecation-of-object-mode-fall-back-behaviour-when-using-jit for details.\nThe 'nopython' keyword argument was not supplied to the 'numba.jit' decorator. The implicit default value for this argument is currently False, but it will be changed to True in Numba 0.59.0. See https://numba.readthedocs.io/en/stable/reference/deprecation.html#deprecation-of-object-mode-fall-back-behaviour-when-using-jit for details.\nERROR:duecredit:Failed to import duecredit due to No module named 'duecredit'\n"
     ]
    }
   ],
   "source": [
    "# Data processing\n",
    "import pandas as pd\n",
    "import numpy as np\n",
    "\n",
    "# Create synthetic data\n",
    "from causalml.dataset import synthetic_data\n",
    "\n",
    "# Visualization\n",
    "import seaborn as sns\n",
    "\n",
    "# Machine learning model\n",
    "from lightgbm import LGBMRegressor"
   ]
  },
  {
   "cell_type": "markdown",
   "metadata": {
    "application/vnd.databricks.v1+cell": {
     "cellMetadata": {},
     "inputWidgets": {},
     "nuid": "cece5439-9e8e-414b-b6ef-7b64050c6a38",
     "showTitle": false,
     "title": ""
    }
   },
   "source": [
    "### Kreiranje skupa podataka\n",
    "\n",
    "Kreiran je sinteticki skup podataka koji sadrzi 5 varijabli o klijentu, jednu namensku kolonu koja predstavlja da li je klijent u tretiranoj ili kontrolnoj grupi i jednu kontinualnu varijablu za ishod."
   ]
  },
  {
   "cell_type": "code",
   "execution_count": 0,
   "metadata": {
    "application/vnd.databricks.v1+cell": {
     "cellMetadata": {
      "byteLimit": 2048000,
      "rowLimit": 10000
     },
     "inputWidgets": {},
     "nuid": "0a60af35-cec2-4bb2-911b-84ed32f7c018",
     "showTitle": false,
     "title": ""
    }
   },
   "outputs": [
    {
     "output_type": "stream",
     "name": "stdout",
     "output_type": "stream",
     "text": [
      "Out[4]: 1    2582\n0    2418\nName: treatment, dtype: int64"
     ]
    }
   ],
   "source": [
    "# Set a seed for reproducibility\n",
    "np.random.seed(42)\n",
    "\n",
    "# Create a synthetic dataset\n",
    "y, X, treatment, _, _, _ = synthetic_data(mode=1, n=5000, p=5, sigma=1.0)\n",
    "\n",
    "# Save the data in a pandas dataframe\n",
    "df = pd.DataFrame({'y': y, 'X1': X.T[0], 'X2': X.T[1], 'X3': X.T[2], 'X4': X.T[3], 'X5': X.T[4], 'treatment': treatment})\n",
    "\n",
    "# Check treatment\n",
    "df['treatment'].value_counts()"
   ]
  },
  {
   "cell_type": "markdown",
   "metadata": {
    "application/vnd.databricks.v1+cell": {
     "cellMetadata": {},
     "inputWidgets": {},
     "nuid": "193888f9-a05a-4733-9fdf-2bc99cc58aa8",
     "showTitle": false,
     "title": ""
    }
   },
   "source": [
    "### Procesiranje podataka\n",
    "\n",
    "* Podelicemo skup podataka na 2 bazirano na vrednosti *treatment* varijable.\n",
    "* Varijable i ciljna promenljiva se odvojeno kreiraju za tretirani i kontrolni skup."
   ]
  },
  {
   "cell_type": "code",
   "execution_count": 0,
   "metadata": {
    "application/vnd.databricks.v1+cell": {
     "cellMetadata": {
      "byteLimit": 2048000,
      "rowLimit": 10000
     },
     "inputWidgets": {},
     "nuid": "70430519-35fb-45db-944e-20fcdc2a5c0b",
     "showTitle": false,
     "title": ""
    }
   },
   "outputs": [
    {
     "output_type": "stream",
     "name": "stdout",
     "output_type": "stream",
     "text": [
      "The feature maxtrix has 2582 records and 5 features.\nThe dependent variable has 2582 records.\nThe feature maxtrix has 2418 records and 5 features.\nThe dependent variable has 2418 records.\n"
     ]
    }
   ],
   "source": [
    "# Keep only the treated units\n",
    "df_treated = df[df['treatment'] == 1]\n",
    "# Features\n",
    "features_treated = df_treated.loc[:, ['X1', 'X2', 'X3', 'X4', 'X5']]\n",
    "# Dependent variable\n",
    "y_treated = df_treated.loc[:, ['y']]\n",
    "# Print data shape\n",
    "print(f'The feature maxtrix has {features_treated.shape[0]} records and {features_treated.shape[1]} features.')\n",
    "print(f'The dependent variable has {y_treated.shape[0]} records.')\n",
    "\n",
    "\n",
    "# Keep only the control units\n",
    "df_control = df[df['treatment'] == 0]\n",
    "# Features\n",
    "features_control = df_control.loc[:, ['X1', 'X2', 'X3', 'X4', 'X5']]\n",
    "# Dependent variable\n",
    "y_control = df_control.loc[:, ['y']]\n",
    "# Print data shape\n",
    "print(f'The feature maxtrix has {features_control.shape[0]} records and {features_control.shape[1]} features.')\n",
    "print(f'The dependent variable has {y_control.shape[0]} records.')\n"
   ]
  },
  {
   "cell_type": "code",
   "execution_count": 0,
   "metadata": {
    "application/vnd.databricks.v1+cell": {
     "cellMetadata": {
      "byteLimit": 2048000,
      "rowLimit": 10000
     },
     "inputWidgets": {},
     "nuid": "20a06960-6816-47d0-8b64-8269e7f0a8f6",
     "showTitle": false,
     "title": ""
    }
   },
   "outputs": [],
   "source": [
    "# Features for all the samples\n",
    "features = df.loc[:, ['X1', 'X2', 'X3', 'X4', 'X5']]"
   ]
  },
  {
   "cell_type": "markdown",
   "metadata": {
    "application/vnd.databricks.v1+cell": {
     "cellMetadata": {},
     "inputWidgets": {},
     "nuid": "e80278ea-c5a2-4952-a2e3-bf53f3896886",
     "showTitle": false,
     "title": ""
    }
   },
   "source": [
    "### Treniranje modela\n",
    "\n",
    "Izbor modela i podesavanje hiperparametara su vazni za performanse T-Learnera. To je zato sto performanse modela uticu na predvidjanje modela, a samim tim i na tacnost procene individualnog efekta tretmana (ITE).\n",
    "\n",
    "Mnogi algoritmi ML se mogu koristiti za izgradju T-Learnera. U ovom primeru cemo koristiti light GBM model."
   ]
  },
  {
   "cell_type": "code",
   "execution_count": 0,
   "metadata": {
    "application/vnd.databricks.v1+cell": {
     "cellMetadata": {
      "byteLimit": 2048000,
      "rowLimit": 10000
     },
     "inputWidgets": {},
     "nuid": "1020db26-ea89-4f55-8ac3-5232a016f74e",
     "showTitle": false,
     "title": ""
    }
   },
   "outputs": [],
   "source": [
    "# Light GBM model for the treated\n",
    "t_treated = LGBMRegressor().fit(features_treated, y_treated)\n",
    "# Light GBM model for the control\n",
    "t_control = LGBMRegressor().fit(features_control, y_control)"
   ]
  },
  {
   "cell_type": "markdown",
   "metadata": {
    "application/vnd.databricks.v1+cell": {
     "cellMetadata": {},
     "inputWidgets": {},
     "nuid": "978e5779-3ac3-405d-8d46-bdc2f45881aa",
     "showTitle": false,
     "title": ""
    }
   },
   "source": [
    "### Predvidjanje modela\n",
    "\n",
    "Da bismo izracunali ocenu efekta tretmana, treba napraviti 2 odvojena skupa predvidjanja pomocu modela:\n",
    "- U prvom predvidjanju, tretirani model se koristi za predvidjanje svih uzoraka. Ovo nam daje ocekivani ishod u slucaju da su svi uzorci primili tretman.\n",
    "- U drugom predvidjanju, kontrolni model se koristi za predvidjanje svih uzoraka. Ovo nam daje ocekivani ishod u slucaju da su svi uzorci u kontrolnoj grupi."
   ]
  },
  {
   "cell_type": "code",
   "execution_count": 0,
   "metadata": {
    "application/vnd.databricks.v1+cell": {
     "cellMetadata": {
      "byteLimit": 2048000,
      "rowLimit": 10000
     },
     "inputWidgets": {},
     "nuid": "9335e61c-4617-4278-bc22-d34cd28d59bc",
     "showTitle": false,
     "title": ""
    }
   },
   "outputs": [],
   "source": [
    "# With treatment predictions\n",
    "with_treatment_predict = t_treated.predict(features)\n",
    "# With treatment predictions\n",
    "without_treatment_predict = t_control.predict(features)"
   ]
  },
  {
   "cell_type": "markdown",
   "metadata": {
    "application/vnd.databricks.v1+cell": {
     "cellMetadata": {},
     "inputWidgets": {},
     "nuid": "d2e369a3-db05-40a7-b698-299daf35a86a",
     "showTitle": false,
     "title": ""
    }
   },
   "source": [
    "### T Learner ITE i ATE\n",
    "\n",
    "ITE se definise kao razlika izmedju predvidjenih ishoda sa i bez tretmana.\n",
    "\n",
    "Prosecan efekat tretmana (ATE) za populaciju je prosek individualnog efekta tretmana."
   ]
  },
  {
   "cell_type": "code",
   "execution_count": 0,
   "metadata": {
    "application/vnd.databricks.v1+cell": {
     "cellMetadata": {
      "byteLimit": 2048000,
      "rowLimit": 10000
     },
     "inputWidgets": {},
     "nuid": "d63300f8-50cb-4671-ba9a-addf389356f1",
     "showTitle": false,
     "title": ""
    }
   },
   "outputs": [
    {
     "output_type": "display_data",
     "data": {
      "text/html": [
       "<div>\n",
       "<style scoped>\n",
       "    .dataframe tbody tr th:only-of-type {\n",
       "        vertical-align: middle;\n",
       "    }\n",
       "\n",
       "    .dataframe tbody tr th {\n",
       "        vertical-align: top;\n",
       "    }\n",
       "\n",
       "    .dataframe thead th {\n",
       "        text-align: right;\n",
       "    }\n",
       "</style>\n",
       "<table border=\"1\" class=\"dataframe\">\n",
       "  <thead>\n",
       "    <tr style=\"text-align: right;\">\n",
       "      <th></th>\n",
       "      <th>ITE</th>\n",
       "      <th>with_treatment_predict</th>\n",
       "      <th>without_treatment_predict</th>\n",
       "    </tr>\n",
       "  </thead>\n",
       "  <tbody>\n",
       "    <tr>\n",
       "      <th>0</th>\n",
       "      <td>1.226934</td>\n",
       "      <td>1.838433</td>\n",
       "      <td>0.611499</td>\n",
       "    </tr>\n",
       "    <tr>\n",
       "      <th>1</th>\n",
       "      <td>-0.888494</td>\n",
       "      <td>1.246431</td>\n",
       "      <td>2.134924</td>\n",
       "    </tr>\n",
       "    <tr>\n",
       "      <th>2</th>\n",
       "      <td>0.761041</td>\n",
       "      <td>1.922170</td>\n",
       "      <td>1.161129</td>\n",
       "    </tr>\n",
       "    <tr>\n",
       "      <th>3</th>\n",
       "      <td>1.079736</td>\n",
       "      <td>1.361647</td>\n",
       "      <td>0.281911</td>\n",
       "    </tr>\n",
       "    <tr>\n",
       "      <th>4</th>\n",
       "      <td>0.935339</td>\n",
       "      <td>1.363661</td>\n",
       "      <td>0.428322</td>\n",
       "    </tr>\n",
       "  </tbody>\n",
       "</table>\n",
       "</div>"
      ]
     },
     "metadata": {
      "application/vnd.databricks.v1+output": {
       "addedWidgets": {},
       "arguments": {},
       "data": "<div>\n<style scoped>\n    .dataframe tbody tr th:only-of-type {\n        vertical-align: middle;\n    }\n\n    .dataframe tbody tr th {\n        vertical-align: top;\n    }\n\n    .dataframe thead th {\n        text-align: right;\n    }\n</style>\n<table border=\"1\" class=\"dataframe\">\n  <thead>\n    <tr style=\"text-align: right;\">\n      <th></th>\n      <th>ITE</th>\n      <th>with_treatment_predict</th>\n      <th>without_treatment_predict</th>\n    </tr>\n  </thead>\n  <tbody>\n    <tr>\n      <th>0</th>\n      <td>1.226934</td>\n      <td>1.838433</td>\n      <td>0.611499</td>\n    </tr>\n    <tr>\n      <th>1</th>\n      <td>-0.888494</td>\n      <td>1.246431</td>\n      <td>2.134924</td>\n    </tr>\n    <tr>\n      <th>2</th>\n      <td>0.761041</td>\n      <td>1.922170</td>\n      <td>1.161129</td>\n    </tr>\n    <tr>\n      <th>3</th>\n      <td>1.079736</td>\n      <td>1.361647</td>\n      <td>0.281911</td>\n    </tr>\n    <tr>\n      <th>4</th>\n      <td>0.935339</td>\n      <td>1.363661</td>\n      <td>0.428322</td>\n    </tr>\n  </tbody>\n</table>\n</div>",
       "datasetInfos": [],
       "metadata": {},
       "removedWidgets": [],
       "textData": null,
       "type": "htmlSandbox"
      }
     },
     "output_type": "display_data"
    }
   ],
   "source": [
    "# ITE\n",
    "ite = with_treatment_predict - without_treatment_predict\n",
    "# Save ITE data in a pandas dataframe\n",
    "ite_df = pd.DataFrame({'ITE': ite, 'with_treatment_predict':with_treatment_predict, 'without_treatment_predict': without_treatment_predict})\n",
    "# Take a look at the data\n",
    "ite_df.head()"
   ]
  },
  {
   "cell_type": "markdown",
   "metadata": {
    "application/vnd.databricks.v1+cell": {
     "cellMetadata": {},
     "inputWidgets": {},
     "nuid": "02b4b27c-d138-4161-96ff-5c46744eae3e",
     "showTitle": false,
     "title": ""
    }
   },
   "source": [
    "Histogram ITE pokazuje normalnu raspodelu. \n",
    "- Prosecna vrednost efekta tretmana je oko 0.5\n",
    "- Vecinski, uzorci u skupu podataka imaju pozitivan efekat tretmana"
   ]
  },
  {
   "cell_type": "code",
   "execution_count": 0,
   "metadata": {
    "application/vnd.databricks.v1+cell": {
     "cellMetadata": {
      "byteLimit": 2048000,
      "rowLimit": 10000
     },
     "inputWidgets": {},
     "nuid": "021a86d7-8bf1-481b-832d-b944026290c6",
     "showTitle": false,
     "title": ""
    }
   },
   "outputs": [
    {
     "output_type": "stream",
     "name": "stdout",
     "output_type": "stream",
     "text": [
      "Out[10]: array([[<AxesSubplot:title={'center':'ITE'}>]], dtype=object)"
     ]
    },
    {
     "output_type": "display_data",
     "data": {
      "image/png": "[encoded data removed]"
     },
     "metadata": {
      "application/vnd.databricks.v1+output": {
       "addedWidgets": {},
       "arguments": {},
       "data": "data:image/png;base64,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\n",
       "datasetInfos": [],
       "metadata": {},
       "removedWidgets": [],
       "type": "image"
      }
     },
     "output_type": "display_data"
    }
   ],
   "source": [
    "# visualization\n",
    "ite_df.hist(column ='ITE', bins=50, grid=True, figsize=(12, 8))"
   ]
  },
  {
   "cell_type": "code",
   "execution_count": 0,
   "metadata": {
    "application/vnd.databricks.v1+cell": {
     "cellMetadata": {
      "byteLimit": 2048000,
      "rowLimit": 10000
     },
     "inputWidgets": {},
     "nuid": "bedc00cc-e73c-489d-b47d-6258666783bd",
     "showTitle": false,
     "title": ""
    }
   },
   "outputs": [
    {
     "output_type": "stream",
     "name": "stdout",
     "output_type": "stream",
     "text": [
      "The average treatment effect (ATE) is 0.58\n"
     ]
    }
   ],
   "source": [
    "# Calculate ATE\n",
    "ATE = ite.mean()\n",
    "# Print out results\n",
    "print(f'The average treatment effect (ATE) is {ATE:.2f}')"
   ]
  },
  {
   "cell_type": "markdown",
   "metadata": {
    "application/vnd.databricks.v1+cell": {
     "cellMetadata": {},
     "inputWidgets": {},
     "nuid": "69086262-610a-4abf-8e33-a0686ff42eba",
     "showTitle": false,
     "title": ""
    }
   },
   "source": [
    "### Segmentacija klijenata\n",
    "\n",
    "Uplift model deli klijente u 4 grupe na osnovu inkrementalnih promena izazvanih tretmanom koji primenimo nad njima. Uobicajena primena uplift modela je u marketinske svrhe.\n",
    "* Persuadables - lako ubedljivi klijenti/oni koji ce kupiti proizvod ako su tretirani, u suprotnom nece. U nasem slucaju bice definisani kao oni klijenti kojima je ITE > 0.5\n",
    "* Sleeping dogs - klijenti koji ce kupovati proizvod ukoliko ih ne ometamo, ukoliko ih tretiramo nece kupovati. U nasem slucaju su oni sa ITE < -0.5.\n",
    "* Lost Causes - klijenti koji nece kupovati nevezano da li su tretirani ili nisu.\n",
    "* Sure things - klijenti koji ce sigurno kupiti proizvod bez obzira da li su tretirani ili nisu.\n",
    "\n",
    "Poslednja dva slucaja cemo grupisati kao *no_impact* ukoliko je -0.5 < ITE < 0.5. Njihov efekat tretmana je blizu 0, smatramo da kontaktiranjem ovih klijenata mozemo samo da izgubimo resurse."
   ]
  },
  {
   "cell_type": "code",
   "execution_count": 0,
   "metadata": {
    "application/vnd.databricks.v1+cell": {
     "cellMetadata": {
      "byteLimit": 2048000,
      "rowLimit": 10000
     },
     "inputWidgets": {},
     "nuid": "9417d848-d256-48cd-b6c2-671e5179e828",
     "showTitle": false,
     "title": ""
    }
   },
   "outputs": [
    {
     "output_type": "display_data",
     "data": {
      "text/html": [
       "<div>\n",
       "<style scoped>\n",
       "    .dataframe tbody tr th:only-of-type {\n",
       "        vertical-align: middle;\n",
       "    }\n",
       "\n",
       "    .dataframe tbody tr th {\n",
       "        vertical-align: top;\n",
       "    }\n",
       "\n",
       "    .dataframe thead th {\n",
       "        text-align: right;\n",
       "    }\n",
       "</style>\n",
       "<table border=\"1\" class=\"dataframe\">\n",
       "  <thead>\n",
       "    <tr style=\"text-align: right;\">\n",
       "      <th></th>\n",
       "      <th>ITE</th>\n",
       "      <th>with_treatment_predict</th>\n",
       "      <th>without_treatment_predict</th>\n",
       "      <th>segment</th>\n",
       "    </tr>\n",
       "  </thead>\n",
       "  <tbody>\n",
       "    <tr>\n",
       "      <th>0</th>\n",
       "      <td>1.226934</td>\n",
       "      <td>1.838433</td>\n",
       "      <td>0.611499</td>\n",
       "      <td>persuadable</td>\n",
       "    </tr>\n",
       "    <tr>\n",
       "      <th>1</th>\n",
       "      <td>-0.888494</td>\n",
       "      <td>1.246431</td>\n",
       "      <td>2.134924</td>\n",
       "      <td>sleeping-dog</td>\n",
       "    </tr>\n",
       "    <tr>\n",
       "      <th>2</th>\n",
       "      <td>0.761041</td>\n",
       "      <td>1.922170</td>\n",
       "      <td>1.161129</td>\n",
       "      <td>persuadable</td>\n",
       "    </tr>\n",
       "    <tr>\n",
       "      <th>3</th>\n",
       "      <td>1.079736</td>\n",
       "      <td>1.361647</td>\n",
       "      <td>0.281911</td>\n",
       "      <td>persuadable</td>\n",
       "    </tr>\n",
       "    <tr>\n",
       "      <th>4</th>\n",
       "      <td>0.935339</td>\n",
       "      <td>1.363661</td>\n",
       "      <td>0.428322</td>\n",
       "      <td>persuadable</td>\n",
       "    </tr>\n",
       "  </tbody>\n",
       "</table>\n",
       "</div>"
      ]
     },
     "metadata": {
      "application/vnd.databricks.v1+output": {
       "addedWidgets": {},
       "arguments": {},
       "data": "<div>\n<style scoped>\n    .dataframe tbody tr th:only-of-type {\n        vertical-align: middle;\n    }\n\n    .dataframe tbody tr th {\n        vertical-align: top;\n    }\n\n    .dataframe thead th {\n        text-align: right;\n    }\n</style>\n<table border=\"1\" class=\"dataframe\">\n  <thead>\n    <tr style=\"text-align: right;\">\n      <th></th>\n      <th>ITE</th>\n      <th>with_treatment_predict</th>\n      <th>without_treatment_predict</th>\n      <th>segment</th>\n    </tr>\n  </thead>\n  <tbody>\n    <tr>\n      <th>0</th>\n      <td>1.226934</td>\n      <td>1.838433</td>\n      <td>0.611499</td>\n      <td>persuadable</td>\n    </tr>\n    <tr>\n      <th>1</th>\n      <td>-0.888494</td>\n      <td>1.246431</td>\n      <td>2.134924</td>\n      <td>sleeping-dog</td>\n    </tr>\n    <tr>\n      <th>2</th>\n      <td>0.761041</td>\n      <td>1.922170</td>\n      <td>1.161129</td>\n      <td>persuadable</td>\n    </tr>\n    <tr>\n      <th>3</th>\n      <td>1.079736</td>\n      <td>1.361647</td>\n      <td>0.281911</td>\n      <td>persuadable</td>\n    </tr>\n    <tr>\n      <th>4</th>\n      <td>0.935339</td>\n      <td>1.363661</td>\n      <td>0.428322</td>\n      <td>persuadable</td>\n    </tr>\n  </tbody>\n</table>\n</div>",
       "datasetInfos": [],
       "metadata": {},
       "removedWidgets": [],
       "textData": null,
       "type": "htmlSandbox"
      }
     },
     "output_type": "display_data"
    }
   ],
   "source": [
    "# Create the segmentation function\n",
    "def segmentation(x):\n",
    "  if x < -0.5:\n",
    "    return 'sleeping-dog'\n",
    "  elif x > 0.5:\n",
    "    return 'persuadable'\n",
    "  else:\n",
    "    return 'no_impact'\n",
    "\n",
    "# Apply the function \n",
    "ite_df['segment'] = ite_df['ITE'].apply(segmentation)\n",
    "\n",
    "# Take a look at the data\n",
    "ite_df.head()"
   ]
  },
  {
   "cell_type": "code",
   "execution_count": 0,
   "metadata": {
    "application/vnd.databricks.v1+cell": {
     "cellMetadata": {
      "byteLimit": 2048000,
      "rowLimit": 10000
     },
     "inputWidgets": {},
     "nuid": "7e552818-51bf-41ed-96ae-5dd1e4a3747e",
     "showTitle": false,
     "title": ""
    }
   },
   "outputs": [
    {
     "output_type": "stream",
     "name": "stdout",
     "output_type": "stream",
     "text": [
      "Out[13]: <AxesSubplot:xlabel='segment', ylabel='count'>"
     ]
    },
    {
     "output_type": "display_data",
     "data": {
      "image/png": "[encoded data removed]"
     },
     "metadata": {
      "application/vnd.databricks.v1+output": {
       "addedWidgets": {},
       "arguments": {},
       "data": "data:image/png;base64,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\n",
       "datasetInfos": [],
       "metadata": {},
       "removedWidgets": [],
       "type": "image"
      }
     },
     "output_type": "display_data"
    }
   ],
   "source": [
    "# Visualization\n",
    "sns.countplot(x=ite_df['segment'])"
   ]
  }
 ],
 "metadata": {
  "application/vnd.databricks.v1+notebook": {
   "dashboards": [],
   "language": "python",
   "notebookMetadata": {
    "pythonIndentUnit": 4
   },
   "notebookName": "T-Learner",
   "widgets": {}
  }
 },
 "nbformat": 4,
 "nbformat_minor": 0
}
