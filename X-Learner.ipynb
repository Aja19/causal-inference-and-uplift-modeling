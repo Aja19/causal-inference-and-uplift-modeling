{
 "cells": [
  {
   "cell_type": "markdown",
   "metadata": {
    "application/vnd.databricks.v1+cell": {
     "cellMetadata": {},
     "inputWidgets": {},
     "nuid": "1ec8cb68-8033-4c04-a195-25728b770776",
     "showTitle": false,
     "title": ""
    }
   },
   "source": [
    "# X-Learner\n",
    "\n",
    "X-Learner je meta-learner koji predstavlja poboljsanje T-Learnera. U poredjenju sa njim, ovaj je bolji za nebalansirane tretiranu i kontrolnu grupu.\n",
    "\n",
    "X-Learner se sastoji od 3 faze, i svaka faza ima model(e) koji predvidjaju razlicite zavisne varijable.\n",
    "1. Prva faza: Ista je kao T-Learner. Prave se 2 ML modela koji predvidjaju ishod, jedan koristi tretirane klijente a drugi kontrolne.\n",
    "Nakon sto su modeli napravljeni, ITE se racuna.\n",
    "  - Za klijente koji su dobili tretman, imputovani ITE je stvarni ishod minus counterfactual ishod predvidjen kontrolnim modelom iz prve faze.\n",
    "  - Za klijente iz kontrolne grupe, imputovani ITE je counterfactual ishod predvidjen tretiranim modelom iz prve faze minus stvarni ishod.\n",
    "2. Druga faza: Pravimo 2 ML modela koji predvidjaju imputovanu vrednost ITE, jedan model se trenira na tretiranim podacima, a drugi na kontrolnim.\n",
    "3. Treca faza: kreira propensity model za predvidjanje sklonosti da se dobije tretman. Predvidjeni rezultat se koristi kao tezina za izracunavanje efekta individualnog tretmana ITE.\n",
    "Konacno ITE ce biti procenjen koriscenjem tezinskog proseka predvidjanja modela u drugoj fazi, koristeci rezultate kao tezine."
   ]
  },
  {
   "cell_type": "code",
   "execution_count": 0,
   "metadata": {
    "application/vnd.databricks.v1+cell": {
     "cellMetadata": {
      "byteLimit": 2048000,
      "rowLimit": 10000
     },
     "inputWidgets": {},
     "nuid": "c3b84d8f-709b-4a83-bcd9-fe64d9254984",
     "showTitle": false,
     "title": ""
    }
   },
   "outputs": [
    {
     "output_type": "stream",
     "name": "stdout",
     "output_type": "stream",
     "text": [
      "Looking in indexes: https://artifacts.rbi.tech/artifactory/api/pypi/pypi-org-pypi-proxy/simple/\r\nCollecting causalml\r\n  Downloading https://artifacts.rbi.tech/artifactory/api/pypi/pypi-org-pypi-proxy/packages/packages/59/e5/1e4958c2e1b335c1ff87fdac03c90a81776e4bd5030e24a0a6db7cf02edd/causalml-0.13.0.tar.gz (535 kB)\r\n\u001B[?25l\r\u001B[K     |▋                               | 10 kB 24.0 MB/s eta 0:00:01\r\u001B[K     |█▎                              | 20 kB 28.3 MB/s eta 0:00:01\r\u001B[K     |█▉                              | 30 kB 35.5 MB/s eta 0:00:01\r\u001B[K     |██▌                             | 40 kB 41.0 MB/s eta 0:00:01\r\u001B[K     |███                             | 51 kB 44.1 MB/s eta 0:00:01\r\u001B[K     |███▊                            | 61 kB 47.3 MB/s eta 0:00:01\r\u001B[K     |████▎                           | 71 kB 36.1 MB/s eta 0:00:01\r\u001B[K     |█████                           | 81 kB 38.5 MB/s eta 0:00:01\r\u001B[K     |█████▌                          | 92 kB 40.3 MB/s eta 0:00:01\r\u001B[K     |██████▏                         | 102 kB 41.8 MB/s eta 0:00:01\r\u001B[K     |██████▊                         | 112 kB 41.8 MB/s eta 0:00:01\r\u001B[K     |███████▍                        | 122 kB 41.8 MB/s eta 0:00:01\r\u001B[K     |████████                        | 133 kB 41.8 MB/s eta 0:00:01\r\u001B[K     |████████▋                       | 143 kB 41.8 MB/s eta 0:00:01\r\u001B[K     |█████████▏                      | 153 kB 41.8 MB/s eta 0:00:01\r\u001B[K     |█████████▉                      | 163 kB 41.8 MB/s eta 0:00:01\r\u001B[K     |██████████▍                     | 174 kB 41.8 MB/s eta 0:00:01\r\u001B[K     |███████████                     | 184 kB 41.8 MB/s eta 0:00:01\r\u001B[K     |███████████▋                    | 194 kB 41.8 MB/s eta 0:00:01\r\u001B[K     |████████████▎                   | 204 kB 41.8 MB/s eta 0:00:01\r\u001B[K     |████████████▉                   | 215 kB 41.8 MB/s eta 0:00:01\r\u001B[K     |█████████████▌                  | 225 kB 41.8 MB/s eta 0:00:01\r\u001B[K     |██████████████                  | 235 kB 41.8 MB/s eta 0:00:01\r\u001B[K     |██████████████▊                 | 245 kB 41.8 MB/s eta 0:00:01\r\u001B[K     |███████████████▎                | 256 kB 41.8 MB/s eta 0:00:01\r\u001B[K     |████████████████                | 266 kB 41.8 MB/s eta 0:00:01\r\u001B[K     |████████████████▌               | 276 kB 41.8 MB/s eta 0:00:01\r\u001B[K     |█████████████████▏              | 286 kB 41.8 MB/s eta 0:00:01\r\u001B[K     |█████████████████▊              | 296 kB 41.8 MB/s eta 0:00:01\r\u001B[K     |██████████████████▍             | 307 kB 41.8 MB/s eta 0:00:01\r\u001B[K     |███████████████████             | 317 kB 41.8 MB/s eta 0:00:01\r\u001B[K     |███████████████████▋            | 327 kB 41.8 MB/s eta 0:00:01\r\u001B[K     |████████████████████▏           | 337 kB 41.8 MB/s eta 0:00:01\r\u001B[K     |████████████████████▉           | 348 kB 41.8 MB/s eta 0:00:01\r\u001B[K     |█████████████████████▍          | 358 kB 41.8 MB/s eta 0:00:01\r\u001B[K     |██████████████████████          | 368 kB 41.8 MB/s eta 0:00:01\r\u001B[K     |██████████████████████▋         | 378 kB 41.8 MB/s eta 0:00:01\r\u001B[K     |███████████████████████▎        | 389 kB 41.8 MB/s eta 0:00:01\r\u001B[K     |███████████████████████▉        | 399 kB 41.8 MB/s eta 0:00:01\r\u001B[K     |████████████████████████▌       | 409 kB 41.8 MB/s eta 0:00:01\r\u001B[K     |█████████████████████████       | 419 kB 41.8 MB/s eta 0:00:01\r\u001B[K     |█████████████████████████▊      | 430 kB 41.8 MB/s eta 0:00:01\r\u001B[K     |██████████████████████████▎     | 440 kB 41.8 MB/s eta 0:00:01\r\u001B[K     |███████████████████████████     | 450 kB 41.8 MB/s eta 0:00:01\r\u001B[K     |███████████████████████████▌    | 460 kB 41.8 MB/s eta 0:00:01\r\u001B[K     |████████████████████████████▏   | 471 kB 41.8 MB/s eta 0:00:01\r\u001B[K     |████████████████████████████▊   | 481 kB 41.8 MB/s eta 0:00:01\r\u001B[K     |█████████████████████████████▍  | 491 kB 41.8 MB/s eta 0:00:01\r\u001B[K     |██████████████████████████████  | 501 kB 41.8 MB/s eta 0:00:01\r\u001B[K     |██████████████████████████████▋ | 512 kB 41.8 MB/s eta 0:00:01\r\u001B[K     |███████████████████████████████▏| 522 kB 41.8 MB/s eta 0:00:01\r\u001B[K     |███████████████████████████████▉| 532 kB 41.8 MB/s eta 0:00:01\r\u001B[K     |████████████████████████████████| 535 kB 41.8 MB/s \r\n\u001B[?25hRequirement already satisfied: setuptools>=41.0.0 in /databricks/python3/lib/python3.9/site-packages (from causalml) (61.2.0)\r\nCollecting forestci==0.6\r\n  Downloading https://artifacts.rbi.tech/artifactory/api/pypi/pypi-org-pypi-proxy/packages/packages/b3/08/02f77e94d3b8c4a1b5ae48b4bf12689ba63f75b558b67fad10d407c6252e/forestci-0.6-py3-none-any.whl (12 kB)\r\nCollecting pathos==0.2.9\r\n  Downloading https://artifacts.rbi.tech/artifactory/api/pypi/pypi-org-pypi-proxy/packages/packages/57/78/3f3a6c8f9447a947af2f2a191f71cc870b0fa673432044f38d966f3fd9c0/pathos-0.2.9-py3-none-any.whl (76 kB)\r\n\u001B[?25l\r\u001B[K     |████▎                           | 10 kB 22.6 MB/s eta 0:00:01\r\u001B[K     |████████▌                       | 20 kB 26.8 MB/s eta 0:00:01\r\u001B[K     |████████████▉                   | 30 kB 31.7 MB/s eta 0:00:01\r\u001B[K     |█████████████████               | 40 kB 35.3 MB/s eta 0:00:01\r\u001B[K     |█████████████████████▎          | 51 kB 37.1 MB/s eta 0:00:01\r\u001B[K     |█████████████████████████▋      | 61 kB 40.1 MB/s eta 0:00:01\r\u001B[K     |█████████████████████████████▉  | 71 kB 42.5 MB/s eta 0:00:01\r\u001B[K     |████████████████████████████████| 76 kB 5.5 MB/s \r\n\u001B[?25hRequirement already satisfied: pip>=10.0 in /local_disk0/.ephemeral_nfs/envs/pythonEnv-e693d872-bdd0-491a-b9b3-0d0b5a07dc03/lib/python3.9/site-packages (from causalml) (21.2.4)\r\nRequirement already satisfied: numpy>=1.18.5 in /databricks/python3/lib/python3.9/site-packages (from causalml) (1.21.5)\r\nRequirement already satisfied: scipy>=1.4.1 in /databricks/python3/lib/python3.9/site-packages (from causalml) (1.7.3)\r\nRequirement already satisfied: matplotlib in /databricks/python3/lib/python3.9/site-packages (from causalml) (3.5.1)\r\nRequirement already satisfied: pandas>=0.24.1 in /databricks/python3/lib/python3.9/site-packages (from causalml) (1.4.2)\r\nRequirement already satisfied: scikit-learn==1.0.2 in /databricks/python3/lib/python3.9/site-packages (from causalml) (1.0.2)\r\nRequirement already satisfied: statsmodels>=0.9.0 in /databricks/python3/lib/python3.9/site-packages (from causalml) (0.13.2)\r\nRequirement already satisfied: seaborn in /databricks/python3/lib/python3.9/site-packages (from causalml) (0.11.2)\r\nRequirement already satisfied: Cython>=0.28.0 in /databricks/python3/lib/python3.9/site-packages (from causalml) (0.29.28)\r\nCollecting xgboost\r\n  Downloading https://artifacts.rbi.tech/artifactory/api/pypi/pypi-org-pypi-proxy/packages/packages/7e/94/164786127eed50283df0b62a3da9521695163b1596a1667e3856438da6e7/xgboost-1.7.5-py3-none-manylinux2014_x86_64.whl (200.3 MB)\r\n\u001B[?25l\r\u001B[K     |                                | 10 kB 20.6 MB/s eta 0:00:10\r\u001B[K     |                                | 20 kB 25.3 MB/s eta 0:00:08\r\u001B[K     |                                | 30 kB 30.6 MB/s eta 0:00:07\r\u001B[K     |                                | 40 kB 34.3 MB/s eta 0:00:06\r\u001B[K     |                                | 51 kB 37.8 MB/s eta 0:00:06\r\u001B[K     |                                | 61 kB 40.5 MB/s eta 0:00:05\r\u001B[K     |                                | 71 kB 42.3 MB/s eta 0:00:05\r\u001B[K     |                                | 81 kB 42.1 MB/s eta 0:00:05\r\u001B[K     |                                | 92 kB 43.5 MB/s eta 0:00:05\r\u001B[K     |                                | 102 kB 45.1 MB/s eta 0:00:05\r\u001B[K     |                                | 112 kB 45.1 MB/s eta 0:00:05\r\u001B[K     |                                | 122 kB 45.1 MB/s eta 0:00:05\r\u001B[K     |                                | 133 kB 45.1 MB/s eta 0:00:05\r\u001B[K     |                                | 143 kB 45.1 MB/s eta 0:00:05\r\u001B[K     |                                | 153 kB 45.1 MB/s eta 0:00:05\r\u001B[K     |                                | 163 kB 45.1 MB/s eta 0:00:05\r\u001B[K     |                                | 174 kB 45.1 MB/s eta 0:00:05\r\u001B[K     |                                | 184 kB 45.1 MB/s eta 0:00:05\r\u001B[K     |                                | 194 kB 45.1 MB/s eta 0:00:05\r\u001B[K     |                                | 204 kB 45.1 MB/s eta 0:00:05\r\u001B[K     |                                | 215 kB 45.1 MB/s eta 0:00:05\r\u001B[K     |                                | 225 kB 45.1 MB/s eta 0:00:05\r\u001B[K     |                                | 235 kB 45.1 MB/s eta 0:00:05\r\u001B[K     |                                | 245 kB 45.1 MB/s eta 0:00:05\r\u001B[K     |                                | 256 kB 45.1 MB/s eta 0:00:05\r\u001B[K     |                                | 266 kB 45.1 MB/s eta 0:00:05\r\u001B[K     |                                | 276 kB 45.1 MB/s eta 0:00:05\r\u001B[K     |                                | 286 kB 45.1 MB/s eta 0:00:05\r\u001B[K     |                                | 296 kB 45.1 MB/s eta 0:00:05\r\u001B[K     |                                | 307 kB 45.1 MB/s eta 0:00:05\r\u001B[K     |                                | 317 kB 45.1 MB/s eta 0:00:05\r\u001B[K     |                                | 327 kB 45.1 MB/s eta 0:00:05\r\u001B[K     |                                | 337 kB 45.1 MB/s eta 0:00:05\r\u001B[K     |                                | 348 kB 45.1 MB/s eta 0:00:05\r\u001B[K     |                                | 358 kB 45.1 MB/s eta 0:00:05\r\u001B[K     |                                | 368 kB 45.1 MB/s eta 0:00:05\r\u001B[K     |                                | 378 kB 45.1 MB/s eta 0:00:05\r\u001B[K     |                                | 389 kB 45.1 MB/s eta 0:00:05\r\u001B[K     |                                | 399 kB 45.1 MB/s eta 0:00:05\r\u001B[K     |                                | 409 kB 45.1 MB/s eta 0:00:05\r\u001B[K     |                                | 419 kB 45.1 MB/s eta 0:00:05\r\u001B[K     |                                | 430 kB 45.1 MB/s eta 0:00:05\r\u001B[K     |                                | 440 kB 45.1 MB/s eta 0:00:05\r\u001B[K     |                                | 450 kB 45.1 MB/s eta 0:00:05\r\u001B[K     |                                | 460 kB 45.1 MB/s eta 0:00:05\r\u001B[K     |                                | 471 kB 45.1 MB/s eta 0:00:05\r\u001B[K     |                                | 481 kB 45.1 MB/s eta 0:00:05\r\u001B[K     |                                | 491 kB 45.1 MB/s eta 0:00:05\r\u001B[K     |                                | 501 kB 45.1 MB/s eta 0:00:05\r\u001B[K     |                                | 512 kB 45.1 MB/s eta 0:00:05\r\u001B[K     |                                | 522 kB 45.1 MB/s eta 0:00:05\r\u001B[K     |                                | 532 kB 45.1 MB/s eta 0:00:05\r\u001B[K     |                                | 542 kB 45.1 MB/s eta 0:00:05\r\u001B[K     |                                | 552 kB 45.1 MB/s eta 0:00:05\r\u001B[K     |                                | 563 kB 45.1 MB/s eta 0:00:05\r\u001B[K     |                                | 573 kB 45.1 MB/s eta 0:00:05\r\u001B[K     |                                | 583 kB 45.1 MB/s eta 0:00:05\r\u001B[K     |                                | 593 kB 45.1 MB/s eta 0:00:05\r\u001B[K     |                                | 604 kB 45.1 MB/s eta 0:00:05\r\u001B[K     |                                | 614 kB 45.1 MB/s eta 0:00:05\r\u001B[K     |                                | 624 kB 45.1 MB/s eta 0:00:05\r\u001B[K     |                                | 634 kB 45.1 MB/s eta 0:00:05\r\u001B[K     |                                | 645 kB 45.1 MB/s eta 0:00:05\r\u001B[K     |                                | 655 kB 45.1 MB/s eta 0:00:05\r\u001B[K     |                                | 665 kB 45.1 MB/s eta 0:00:05\r\u001B[K     |                                | 675 kB 45.1 MB/s eta 0:00:05\r\u001B[K     |                                | 686 kB 45.1 MB/s eta 0:00:05\r\u001B[K     |▏                               | 696 kB 45.1 MB/s eta 0:00:05\r\u001B[K     |▏                               | 706 kB 45.1 MB/s eta 0:00:05\r\u001B[K     |▏                               | 716 kB 45.1 MB/s eta 0:00:05\r\u001B[K     |▏                               | 727 kB 45.1 MB/s eta 0:00:05\r\u001B[K     |▏                               | 737 kB 45.1 MB/s eta 0:00:05\r\u001B[K     |▏                               | 747 kB 45.1 MB/s eta 0:00:05\r\u001B[K     |▏                               | 757 kB 45.1 MB/s eta 0:00:05\r\u001B[K     |▏                               | 768 kB 45.1 MB/s eta 0:00:05\r\u001B[K     |▏                               | 778 kB 45.1 MB/s eta 0:00:05\r\u001B[K     |▏                               | 788 kB 45.1 MB/s eta 0:00:05\r\u001B[K     |▏                               | 798 kB 45.1 MB/s eta 0:00:05\r\u001B[K     |▏                               | 808 kB 45.1 MB/s eta 0:00:05\r\u001B[K     |▏                               | 819 kB 45.1 MB/s eta 0:00:05\r\u001B[K     |▏                               | 829 kB 45.1 MB/s eta 0:00:05\r\u001B[K     |▏                               | 839 kB 45.1 MB/s eta 0:00:05\r\u001B[K     |▏                               | 849 kB 45.1 MB/s eta 0:00:05\r\u001B[K     |▏                               | 860 kB 45.1 MB/s eta 0:00:05\r\u001B[K     |▏                               | 870 kB 45.1 MB/s eta 0:00:05\r\u001B[K     |▏                               | 880 kB 45.1 MB/s eta 0:00:05\r\u001B[K     |▏                               | 890 kB 45.1 MB/s eta 0:00:05\r\u001B[K     |▏                               | 901 kB 45.1 MB/s eta 0:00:05\r\u001B[K     |▏                               | 911 kB 45.1 MB/s eta 0:00:05\r\u001B[K     |▏                               | 921 kB 45.1 MB/s eta 0:00:05\r\u001B[K     |▏                               | 931 kB 45.1 MB/s eta 0:00:05\r\u001B[K     |▏                               | 942 kB 45.1 MB/s eta 0:00:05\r\u001B[K     |▏                               | 952 kB 45.1 MB/s eta 0:00:05\r\u001B[K     |▏                               | 962 kB 45.1 MB/s eta 0:00:05\r\u001B[K     |▏                               | 972 kB 45.1 MB/s eta 0:00:05\r\u001B[K     |▏                               | 983 kB 45.1 MB/s eta 0:00:05\r\u001B[K     |▏                               | 993 kB 45.1 MB/s eta 0:00:05\r\u001B[K     |▏                               | 1.0 MB 45.1 MB/s eta 0:00:05\r\u001B[K     |▏                               | 1.0 MB 45.1 MB/s eta 0:00:05\r\u001B[K     |▏                               | 1.0 MB 45.1 MB/s eta 0:00:05\r\u001B[K     |▏                               | 1.0 MB 45.1 MB/s eta 0:00:05\r\u001B[K     |▏                               | 1.0 MB 45.1 MB/s eta 0:00:05\r\u001B[K     |▏                               | 1.1 MB 45.1 MB/s eta 0:00:05\r\u001B[K     |▏                               | 1.1 MB 45.1 MB/s eta 0:00:05\r\u001B[K     |▏                               | 1.1 MB 45.1 MB/s eta 0:00:05\r\u001B[K     |▏                               | 1.1 MB 45.1 MB/s eta 0:00:05\r\u001B[K     |▏                               | 1.1 MB 45.1 MB/s eta 0:00:05\r\u001B[K     |▏                               | 1.1 MB 45.1 MB/s eta 0:00:05\r\u001B[K     |▏                               | 1.1 MB 45.1 MB/s eta 0:00:05\r\u001B[K     |▏                               | 1.1 MB 45.1 MB/s eta 0:00:05\r\u001B[K     |▏                               | 1.1 MB 45.1 MB/s eta 0:00:05\r\u001B[K     |▏                               | 1.1 MB 45.1 MB/s eta 0:00:05\r\u001B[K     |▏                               | 1.2 MB 45.1 MB/s eta 0:00:05\r\u001B[K     |▏                               | 1.2 MB 45.1 MB/s eta 0:00:05\r\u001B[K     |▏                               | 1.2 MB 45.1 MB/s eta 0:00:05\r\u001B[K     |▏                               | 1.2 MB 45.1 MB/s eta 0:00:05\r\u001B[K     |▏                               | 1.2 MB 45.1 MB/s eta 0:00:05\r\u001B[K     |▏                               | 1.2 MB 45.1 MB/s eta 0:00:05\r\u001B[K     |▏                               | 1.2 MB 45.1 MB/s eta 0:00:05\r\u001B[K     |▏                               | 1.2 MB 45.1 MB/s eta 0:00:05\r\u001B[K     |▏                               | 1.2 MB 45.1 MB/s eta 0:00:05\r\u001B[K     |▏                               | 1.2 MB 45.1 MB/s eta 0:00:05\r\u001B[K     |▏                               | 1.3 MB 45.1 MB/s eta 0:00:05\r\u001B[K     |▏                               | 1.3 MB 45.1 MB/s eta 0:00:05\r\u001B[K     |▏                               | 1.3 MB 45.1 MB/s eta 0:00:05\r\u001B[K     |▏                               | 1.3 MB 45.1 MB/s eta 0:00:05\r\u001B[K     |▏                               | 1.3 MB 45.1 MB/s eta 0:00:05\r\u001B[K     |▏                               | 1.3 MB 45.1 MB/s eta 0:00:05\r\u001B[K     |▏                               | 1.3 MB 45.1 MB/s eta 0:00:05\r\u001B[K     |▏                               | 1.3 MB 45.1 MB/s eta 0:00:05\r\u001B[K     |▏                               | 1.3 MB 45.1 MB/s eta 0:00:05\r\u001B[K     |▏                               | 1.4 MB 45.1 MB/s eta 0:00:05\r\u001B[K     |▏                               | 1.4 MB 45.1 MB/s eta 0:00:05\r\u001B[K     |▏                               | 1.4 MB 45.1 MB/s eta 0:00:05\r\u001B[K     |▏                               | 1.4 MB 45.1 MB/s eta 0:00:05\r\u001B[K     |▎                               | 1.4 MB 45.1 MB/s eta 0:00:05\r\u001B[K     |▎                               | 1.4 MB 45.1 MB/s eta 0:00:05\r\u001B[K     |▎                               | 1.4 MB 45.1 MB/s eta 0:00:05\r\u001B[K     |▎                               | 1.4 MB 45.1 MB/s eta 0:00:05\r\u001B[K     |▎                               | 1.4 MB 45.1 MB/s eta 0:00:05\r\u001B[K     |▎                               | 1.4 MB 45.1 MB/s eta 0:00:05\r\u001B[K     |▎                               | 1.5 MB 45.1 MB/s eta 0:00:05\r\u001B[K     |▎                               | 1.5 MB 45.1 MB/s eta 0:00:05\r\u001B[K     |▎                               | 1.5 MB 45.1 MB/s eta 0:00:05\r\u001B[K     |▎                               | 1.5 MB 45.1 MB/s eta 0:00:05\r\u001B[K     |▎                               | 1.5 MB 45.1 MB/s eta 0:00:05\r\u001B[K     |▎                               | 1.5 MB 45.1 MB/s eta 0:00:05\r\u001B[K     |▎                               | 1.5 MB 45.1 MB/s eta 0:00:05\r\u001B[K     |▎                               | 1.5 MB 45.1 MB/s eta 0:00:05\r\u001B[K     |▎                               | 1.5 MB 45.1 MB/s eta 0:00:05\r\u001B[K     |▎                               | 1.5 MB 45.1 MB/s eta 0:00:05\r\u001B[K     |▎                               | 1.6 MB 45.1 MB/s eta 0:00:05\r\u001B[K     |▎                               | 1.6 MB 45.1 MB/s eta 0:00:05\r\u001B[K     |▎                               | 1.6 MB 45.1 MB/s eta 0:00:05\r\u001B[K     |▎                               | 1.6 MB 45.1 MB/s eta 0:00:05\r\u001B[K     |▎                               | 1.6 MB 45.1 MB/s eta 0:00:05\r\u001B[K     |▎                               | 1.6 MB 45.1 MB/s eta 0:00:05\r\u001B[K     |▎                               | 1.6 MB 45.1 MB/s eta 0:00:05\r\u001B[K     |▎                               | 1.6 MB 45.1 MB/s eta 0:00:05\r\u001B[K     |▎                               | 1.6 MB 45.1 MB/s eta 0:00:05\r\u001B[K     |▎                               | 1.6 MB 45.1 MB/s eta 0:00:05\r\u001B[K     |▎                               | 1.7 MB 45.1 MB/s eta 0:00:05\r\u001B[K     |▎                               | 1.7 MB 45.1 MB/s eta 0:00:05\r\u001B[K     |▎                               | 1.7 MB 45.1 MB/s eta 0:00:05\r\u001B[K     |▎                               | 1.7 MB 45.1 MB/s eta 0:00:05\r\u001B[K     |▎                               | 1.7 MB 45.1 MB/s eta 0:00:05\r\u001B[K     |▎                               | 1.7 MB 45.1 MB/s eta 0:00:05\r\u001B[K     |▎                               | 1.7 MB 45.1 MB/s eta 0:00:05\r\u001B[K     |▎                               | 1.7 MB 45.1 MB/s eta 0:00:05\r\u001B[K     |▎                               | 1.7 MB 45.1 MB/s eta 0:00:05\r\u001B[K     |▎                               | 1.8 MB 45.1 MB/s eta 0:00:05\r\u001B[K     |▎                               | 1.8 MB 45.1 MB/s eta 0:00:05\r\u001B[K     |▎                               | 1.8 MB 45.1 MB/s eta 0:00:05\r\u001B[K     |▎                               | 1.8 MB 45.1 MB/s eta 0:00:05\r\u001B[K     |▎                               | 1.8 MB 45.1 MB/s eta 0:00:05\r\u001B[K     |▎                               | 1.8 MB 45.1 MB/s eta 0:00:05\r\u001B[K     |▎                               | 1.8 MB 45.1 MB/s eta 0:00:05\r\u001B[K     |▎                               | 1.8 MB 45.1 MB/s eta 0:00:05\r\u001B[K     |▎                               | 1.8 MB 45.1 MB/s eta 0:00:05\r\u001B[K     |▎                               | 1.8 MB 45.1 MB/s eta 0:00:05\r\u001B[K     |▎                               | 1.9 MB 45.1 MB/s eta 0:00:05\r\u001B[K     |▎                               | 1.9 MB 45.1 MB/s eta 0:00:05\r\u001B[K     |▎                               | 1.9 MB 45.1 MB/s eta 0:00:05\r\u001B[K     |▎                               | 1.9 MB 45.1 MB/s eta 0:00:05\r\u001B[K     |▎                               | 1.9 MB 45.1 MB/s eta 0:00:05\r\u001B[K     |▎                               | 1.9 MB 45.1 MB/s eta 0:00:05\r\u001B[K     |▎                               | 1.9 MB 45.1 MB/s eta 0:00:05\r\u001B[K     |▎                               | 1.9 MB 45.1 MB/s eta 0:00:05\r\u001B[K     |▎                               | 1.9 MB 45.1 MB/s eta 0:00:05\r\u001B[K     |▎                               | 1.9 MB 45.1 MB/s eta 0:00:05\r\u001B[K     |▎                               | 2.0 MB 45.1 MB/s eta 0:00:05\r\u001B[K     |▎                               | 2.0 MB 45.1 MB/s eta 0:00:05\r\u001B[K     |▎                               | 2.0 MB 45.1 MB/s eta 0:00:05\r\u001B[K     |▎                               | 2.0 MB 45.1 MB/s eta 0:00:05\r\u001B[K     |▎                               | 2.0 MB 45.1 MB/s eta 0:00:05\r\u001B[K     |▎                               | 2.0 MB 45.1 MB/s eta 0:00:05\r\u001B[K     |▎                               | 2.0 MB 45.1 MB/s eta 0:00:05\r\u001B[K     |▎                               | 2.0 MB 45.1 MB/s eta 0:00:05\r\u001B[K     |▎                               | 2.0 MB 45.1 MB/s eta 0:00:05\r\u001B[K     |▎                               | 2.0 MB 45.1 MB/s eta 0:00:05\r\u001B[K     |▎                               | 2.1 MB 45.1 MB/s eta 0:00:05\r\u001B[K     |▎                               | 2.1 MB 45.1 MB/s eta 0:00:05\r\u001B[K     |▎                               | 2.1 MB 45.1 MB/s eta 0:00:05\r\u001B[K     |▍                               | 2.1 MB 45.1 MB/s eta 0:00:05\r\u001B[K     |▍                               | 2.1 MB 45.1 MB/s eta 0:00:05\r\u001B[K     |▍                               | 2.1 MB 45.1 MB/s eta 0:00:05\r\u001B[K     |▍                               | 2.1 MB 45.1 MB/s eta 0:00:05\r\u001B[K     |▍                               | 2.1 MB 45.1 MB/s eta 0:00:05\r\u001B[K     |▍                               | 2.1 MB 45.1 MB/s eta 0:00:05\r\u001B[K     |▍                               | 2.2 MB 45.1 MB/s eta 0:00:05\r\u001B[K     |▍                               | 2.2 MB 45.1 MB/s eta 0:00:05\r\u001B[K     |▍                               | 2.2 MB 45.1 MB/s eta 0:00:05\r\u001B[K     |▍                               | 2.2 MB 45.1 MB/s eta 0:00:05\r\u001B[K     |▍                               | 2.2 MB 45.1 MB/s eta 0:00:05\r\u001B[K     |▍                               | 2.2 MB 45.1 MB/s eta 0:00:05\r\u001B[K     |▍                               | 2.2 MB 45.1 MB/s eta 0:00:05\r\u001B[K     |▍                               | 2.2 MB 45.1 MB/s eta 0:00:05\r\u001B[K     |▍                               | 2.2 MB 45.1 MB/s eta 0:00:05\r\u001B[K     |▍                               | 2.2 MB 45.1 MB/s eta 0:00:05\r\u001B[K     |▍                               | 2.3 MB 45.1 MB/s eta 0:00:05\r\u001B[K     |▍                               | 2.3 MB 45.1 MB/s eta 0:00:05\r\u001B[K     |▍                               | 2.3 MB 45.1 MB/s eta 0:00:05\r\u001B[K     |▍                               | 2.3 MB 45.1 MB/s eta 0:00:05\r\u001B[K     |▍                               | 2.3 MB 45.1 MB/s eta 0:00:05\r\u001B[K     |▍                               | 2.3 MB 45.1 MB/s eta 0:00:05\r\u001B[K     |▍                               | 2.3 MB 45.1 MB/s eta 0:00:05\r\u001B[K     |▍                               | 2.3 MB 45.1 MB/s eta 0:00:05\r\u001B[K     |▍                               | 2.3 MB 45.1 MB/s eta 0:00:05\r\u001B[K     |▍                               | 2.3 MB 45.1 MB/s eta 0:00:05\r\u001B[K     |▍                               | 2.4 MB 45.1 MB/s eta 0:00:05\r\u001B[K     |▍                               | 2.4 MB 45.1 MB/s eta 0:00:05\r\u001B[K     |▍                               | 2.4 MB 45.1 MB/s eta 0:00:05\r\u001B[K     |▍                               | 2.4 MB 45.1 MB/s eta 0:00:05\r\u001B[K     |▍                               | 2.4 MB 45.1 MB/s eta 0:00:05\r\u001B[K     |▍                               | 2.4 MB 45.1 MB/s eta 0:00:05\r\u001B[K     |▍                               | 2.4 MB 45.1 MB/s eta 0:00:05\r\u001B[K     |▍                               | 2.4 MB 45.1 MB/s eta 0:00:05\r\u001B[K     |▍                               | 2.4 MB 45.1 MB/s eta 0:00:05\r\u001B[K     |▍                               | 2.4 MB 45.1 MB/s eta 0:00:05\r\u001B[K     |▍                               | 2.5 MB 45.1 MB/s eta 0:00:05\r\u001B[K     |▍                               | 2.5 MB 45.1 MB/s eta 0:00:05\r\u001B[K     |▍                               | 2.5 MB 45.1 MB/s eta 0:00:05\r\u001B[K     |▍                               | 2.5 MB 45.1 MB/s eta 0:00:05\r\u001B[K     |▍                               | 2.5 MB 45.1 MB/s eta 0:00:05\r\u001B[K     |▍                               | 2.5 MB 45.1 MB/s eta 0:00:05\r\u001B[K     |▍                               | 2.5 MB 45.1 MB/s eta 0:00:05\r\u001B[K     |▍                               | 2.5 MB 45.1 MB/s eta 0:00:05\r\u001B[K     |▍                               | 2.5 MB 45.1 MB/s eta 0:00:05\r\u001B[K     |▍                               | 2.5 MB 45.1 MB/s eta 0:00:05\r\u001B[K     |▍                               | 2.6 MB 45.1 MB/s eta 0:00:05\r\u001B[K     |▍                               | 2.6 MB 45.1 MB/s eta 0:00:05\r\u001B[K     |▍                               | 2.6 MB 45.1 MB/s eta 0:00:05\r\u001B[K     |▍                               | 2.6 MB 45.1 MB/s eta 0:00:05\r\u001B[K     |▍                               | 2.6 MB 45.1 MB/s eta 0:00:05\r\u001B[K     |▍              \n\n*** WARNING: max output size exceeded, skipping output. ***\n\n:01\r\u001B[K     |██████████████████████████████  | 39.6 MB 57.3 MB/s eta 0:00:01\r\u001B[K     |██████████████████████████████  | 39.6 MB 57.3 MB/s eta 0:00:01\r\u001B[K     |██████████████████████████████  | 39.6 MB 57.3 MB/s eta 0:00:01\r\u001B[K     |██████████████████████████████▏ | 39.6 MB 57.3 MB/s eta 0:00:01\r\u001B[K     |██████████████████████████████▏ | 39.6 MB 57.3 MB/s eta 0:00:01\r\u001B[K     |██████████████████████████████▏ | 39.7 MB 57.3 MB/s eta 0:00:01\r\u001B[K     |██████████████████████████████▏ | 39.7 MB 57.3 MB/s eta 0:00:01\r\u001B[K     |██████████████████████████████▏ | 39.7 MB 57.3 MB/s eta 0:00:01\r\u001B[K     |██████████████████████████████▏ | 39.7 MB 57.3 MB/s eta 0:00:01\r\u001B[K     |██████████████████████████████▏ | 39.7 MB 57.3 MB/s eta 0:00:01\r\u001B[K     |██████████████████████████████▏ | 39.7 MB 57.3 MB/s eta 0:00:01\r\u001B[K     |██████████████████████████████▏ | 39.7 MB 57.3 MB/s eta 0:00:01\r\u001B[K     |██████████████████████████████▏ | 39.7 MB 57.3 MB/s eta 0:00:01\r\u001B[K     |██████████████████████████████▏ | 39.7 MB 57.3 MB/s eta 0:00:01\r\u001B[K     |██████████████████████████████▏ | 39.8 MB 57.3 MB/s eta 0:00:01\r\u001B[K     |██████████████████████████████▏ | 39.8 MB 57.3 MB/s eta 0:00:01\r\u001B[K     |██████████████████████████████▏ | 39.8 MB 57.3 MB/s eta 0:00:01\r\u001B[K     |██████████████████████████████▎ | 39.8 MB 57.3 MB/s eta 0:00:01\r\u001B[K     |██████████████████████████████▎ | 39.8 MB 57.3 MB/s eta 0:00:01\r\u001B[K     |██████████████████████████████▎ | 39.8 MB 57.3 MB/s eta 0:00:01\r\u001B[K     |██████████████████████████████▎ | 39.8 MB 57.3 MB/s eta 0:00:01\r\u001B[K     |██████████████████████████████▎ | 39.8 MB 57.3 MB/s eta 0:00:01\r\u001B[K     |██████████████████████████████▎ | 39.8 MB 57.3 MB/s eta 0:00:01\r\u001B[K     |██████████████████████████████▎ | 39.8 MB 57.3 MB/s eta 0:00:01\r\u001B[K     |██████████████████████████████▎ | 39.9 MB 57.3 MB/s eta 0:00:01\r\u001B[K     |██████████████████████████████▎ | 39.9 MB 57.3 MB/s eta 0:00:01\r\u001B[K     |██████████████████████████████▎ | 39.9 MB 57.3 MB/s eta 0:00:01\r\u001B[K     |██████████████████████████████▎ | 39.9 MB 57.3 MB/s eta 0:00:01\r\u001B[K     |██████████████████████████████▎ | 39.9 MB 57.3 MB/s eta 0:00:01\r\u001B[K     |██████████████████████████████▎ | 39.9 MB 57.3 MB/s eta 0:00:01\r\u001B[K     |██████████████████████████████▎ | 39.9 MB 57.3 MB/s eta 0:00:01\r\u001B[K     |██████████████████████████████▍ | 39.9 MB 57.3 MB/s eta 0:00:01\r\u001B[K     |██████████████████████████████▍ | 39.9 MB 57.3 MB/s eta 0:00:01\r\u001B[K     |██████████████████████████████▍ | 39.9 MB 57.3 MB/s eta 0:00:01\r\u001B[K     |██████████████████████████████▍ | 40.0 MB 57.3 MB/s eta 0:00:01\r\u001B[K     |██████████████████████████████▍ | 40.0 MB 57.3 MB/s eta 0:00:01\r\u001B[K     |██████████████████████████████▍ | 40.0 MB 57.3 MB/s eta 0:00:01\r\u001B[K     |██████████████████████████████▍ | 40.0 MB 57.3 MB/s eta 0:00:01\r\u001B[K     |██████████████████████████████▍ | 40.0 MB 57.3 MB/s eta 0:00:01\r\u001B[K     |██████████████████████████████▍ | 40.0 MB 57.3 MB/s eta 0:00:01\r\u001B[K     |██████████████████████████████▍ | 40.0 MB 57.3 MB/s eta 0:00:01\r\u001B[K     |██████████████████████████████▍ | 40.0 MB 57.3 MB/s eta 0:00:01\r\u001B[K     |██████████████████████████████▍ | 40.0 MB 57.3 MB/s eta 0:00:01\r\u001B[K     |██████████████████████████████▍ | 40.0 MB 57.3 MB/s eta 0:00:01\r\u001B[K     |██████████████████████████████▍ | 40.1 MB 57.3 MB/s eta 0:00:01\r\u001B[K     |██████████████████████████████▍ | 40.1 MB 57.3 MB/s eta 0:00:01\r\u001B[K     |██████████████████████████████▌ | 40.1 MB 57.3 MB/s eta 0:00:01\r\u001B[K     |██████████████████████████████▌ | 40.1 MB 57.3 MB/s eta 0:00:01\r\u001B[K     |██████████████████████████████▌ | 40.1 MB 57.3 MB/s eta 0:00:01\r\u001B[K     |██████████████████████████████▌ | 40.1 MB 57.3 MB/s eta 0:00:01\r\u001B[K     |██████████████████████████████▌ | 40.1 MB 57.3 MB/s eta 0:00:01\r\u001B[K     |██████████████████████████████▌ | 40.1 MB 57.3 MB/s eta 0:00:01\r\u001B[K     |██████████████████████████████▌ | 40.1 MB 57.3 MB/s eta 0:00:01\r\u001B[K     |██████████████████████████████▌ | 40.2 MB 57.3 MB/s eta 0:00:01\r\u001B[K     |██████████████████████████████▌ | 40.2 MB 57.3 MB/s eta 0:00:01\r\u001B[K     |██████████████████████████████▌ | 40.2 MB 57.3 MB/s eta 0:00:01\r\u001B[K     |██████████████████████████████▌ | 40.2 MB 57.3 MB/s eta 0:00:01\r\u001B[K     |██████████████████████████████▌ | 40.2 MB 57.3 MB/s eta 0:00:01\r\u001B[K     |██████████████████████████████▌ | 40.2 MB 57.3 MB/s eta 0:00:01\r\u001B[K     |██████████████████████████████▌ | 40.2 MB 57.3 MB/s eta 0:00:01\r\u001B[K     |██████████████████████████████▋ | 40.2 MB 57.3 MB/s eta 0:00:01\r\u001B[K     |██████████████████████████████▋ | 40.2 MB 57.3 MB/s eta 0:00:01\r\u001B[K     |██████████████████████████████▋ | 40.2 MB 57.3 MB/s eta 0:00:01\r\u001B[K     |██████████████████████████████▋ | 40.3 MB 57.3 MB/s eta 0:00:01\r\u001B[K     |██████████████████████████████▋ | 40.3 MB 57.3 MB/s eta 0:00:01\r\u001B[K     |██████████████████████████████▋ | 40.3 MB 57.3 MB/s eta 0:00:01\r\u001B[K     |██████████████████████████████▋ | 40.3 MB 57.3 MB/s eta 0:00:01\r\u001B[K     |██████████████████████████████▋ | 40.3 MB 57.3 MB/s eta 0:00:01\r\u001B[K     |██████████████████████████████▋ | 40.3 MB 57.3 MB/s eta 0:00:01\r\u001B[K     |██████████████████████████████▋ | 40.3 MB 57.3 MB/s eta 0:00:01\r\u001B[K     |██████████████████████████████▋ | 40.3 MB 57.3 MB/s eta 0:00:01\r\u001B[K     |██████████████████████████████▋ | 40.3 MB 57.3 MB/s eta 0:00:01\r\u001B[K     |██████████████████████████████▋ | 40.3 MB 57.3 MB/s eta 0:00:01\r\u001B[K     |██████████████████████████████▋ | 40.4 MB 57.3 MB/s eta 0:00:01\r\u001B[K     |██████████████████████████████▊ | 40.4 MB 57.3 MB/s eta 0:00:01\r\u001B[K     |██████████████████████████████▊ | 40.4 MB 57.3 MB/s eta 0:00:01\r\u001B[K     |██████████████████████████████▊ | 40.4 MB 57.3 MB/s eta 0:00:01\r\u001B[K     |██████████████████████████████▊ | 40.4 MB 57.3 MB/s eta 0:00:01\r\u001B[K     |██████████████████████████████▊ | 40.4 MB 57.3 MB/s eta 0:00:01\r\u001B[K     |██████████████████████████████▊ | 40.4 MB 57.3 MB/s eta 0:00:01\r\u001B[K     |██████████████████████████████▊ | 40.4 MB 57.3 MB/s eta 0:00:01\r\u001B[K     |██████████████████████████████▊ | 40.4 MB 57.3 MB/s eta 0:00:01\r\u001B[K     |██████████████████████████████▊ | 40.4 MB 57.3 MB/s eta 0:00:01\r\u001B[K     |██████████████████████████████▊ | 40.5 MB 57.3 MB/s eta 0:00:01\r\u001B[K     |██████████████████████████████▊ | 40.5 MB 57.3 MB/s eta 0:00:01\r\u001B[K     |██████████████████████████████▊ | 40.5 MB 57.3 MB/s eta 0:00:01\r\u001B[K     |██████████████████████████████▊ | 40.5 MB 57.3 MB/s eta 0:00:01\r\u001B[K     |██████████████████████████████▊ | 40.5 MB 57.3 MB/s eta 0:00:01\r\u001B[K     |██████████████████████████████▉ | 40.5 MB 57.3 MB/s eta 0:00:01\r\u001B[K     |██████████████████████████████▉ | 40.5 MB 57.3 MB/s eta 0:00:01\r\u001B[K     |██████████████████████████████▉ | 40.5 MB 57.3 MB/s eta 0:00:01\r\u001B[K     |██████████████████████████████▉ | 40.5 MB 57.3 MB/s eta 0:00:01\r\u001B[K     |██████████████████████████████▉ | 40.6 MB 57.3 MB/s eta 0:00:01\r\u001B[K     |██████████████████████████████▉ | 40.6 MB 57.3 MB/s eta 0:00:01\r\u001B[K     |██████████████████████████████▉ | 40.6 MB 57.3 MB/s eta 0:00:01\r\u001B[K     |██████████████████████████████▉ | 40.6 MB 57.3 MB/s eta 0:00:01\r\u001B[K     |██████████████████████████████▉ | 40.6 MB 57.3 MB/s eta 0:00:01\r\u001B[K     |██████████████████████████████▉ | 40.6 MB 57.3 MB/s eta 0:00:01\r\u001B[K     |██████████████████████████████▉ | 40.6 MB 57.3 MB/s eta 0:00:01\r\u001B[K     |██████████████████████████████▉ | 40.6 MB 57.3 MB/s eta 0:00:01\r\u001B[K     |██████████████████████████████▉ | 40.6 MB 57.3 MB/s eta 0:00:01\r\u001B[K     |██████████████████████████████▉ | 40.6 MB 57.3 MB/s eta 0:00:01\r\u001B[K     |██████████████████████████████▉ | 40.7 MB 57.3 MB/s eta 0:00:01\r\u001B[K     |███████████████████████████████ | 40.7 MB 57.3 MB/s eta 0:00:01\r\u001B[K     |███████████████████████████████ | 40.7 MB 57.3 MB/s eta 0:00:01\r\u001B[K     |███████████████████████████████ | 40.7 MB 57.3 MB/s eta 0:00:01\r\u001B[K     |███████████████████████████████ | 40.7 MB 57.3 MB/s eta 0:00:01\r\u001B[K     |███████████████████████████████ | 40.7 MB 57.3 MB/s eta 0:00:01\r\u001B[K     |███████████████████████████████ | 40.7 MB 57.3 MB/s eta 0:00:01\r\u001B[K     |███████████████████████████████ | 40.7 MB 57.3 MB/s eta 0:00:01\r\u001B[K     |███████████████████████████████ | 40.7 MB 57.3 MB/s eta 0:00:01\r\u001B[K     |███████████████████████████████ | 40.7 MB 57.3 MB/s eta 0:00:01\r\u001B[K     |███████████████████████████████ | 40.8 MB 57.3 MB/s eta 0:00:01\r\u001B[K     |███████████████████████████████ | 40.8 MB 57.3 MB/s eta 0:00:01\r\u001B[K     |███████████████████████████████ | 40.8 MB 57.3 MB/s eta 0:00:01\r\u001B[K     |███████████████████████████████ | 40.8 MB 57.3 MB/s eta 0:00:01\r\u001B[K     |███████████████████████████████ | 40.8 MB 57.3 MB/s eta 0:00:01\r\u001B[K     |███████████████████████████████ | 40.8 MB 57.3 MB/s eta 0:00:01\r\u001B[K     |███████████████████████████████ | 40.8 MB 57.3 MB/s eta 0:00:01\r\u001B[K     |███████████████████████████████ | 40.8 MB 57.3 MB/s eta 0:00:01\r\u001B[K     |███████████████████████████████ | 40.8 MB 57.3 MB/s eta 0:00:01\r\u001B[K     |███████████████████████████████ | 40.8 MB 57.3 MB/s eta 0:00:01\r\u001B[K     |███████████████████████████████ | 40.9 MB 57.3 MB/s eta 0:00:01\r\u001B[K     |███████████████████████████████ | 40.9 MB 57.3 MB/s eta 0:00:01\r\u001B[K     |███████████████████████████████ | 40.9 MB 57.3 MB/s eta 0:00:01\r\u001B[K     |███████████████████████████████ | 40.9 MB 57.3 MB/s eta 0:00:01\r\u001B[K     |███████████████████████████████ | 40.9 MB 57.3 MB/s eta 0:00:01\r\u001B[K     |███████████████████████████████ | 40.9 MB 57.3 MB/s eta 0:00:01\r\u001B[K     |███████████████████████████████ | 40.9 MB 57.3 MB/s eta 0:00:01\r\u001B[K     |███████████████████████████████ | 40.9 MB 57.3 MB/s eta 0:00:01\r\u001B[K     |███████████████████████████████ | 40.9 MB 57.3 MB/s eta 0:00:01\r\u001B[K     |███████████████████████████████▏| 40.9 MB 57.3 MB/s eta 0:00:01\r\u001B[K     |███████████████████████████████▏| 41.0 MB 57.3 MB/s eta 0:00:01\r\u001B[K     |███████████████████████████████▏| 41.0 MB 57.3 MB/s eta 0:00:01\r\u001B[K     |███████████████████████████████▏| 41.0 MB 57.3 MB/s eta 0:00:01\r\u001B[K     |███████████████████████████████▏| 41.0 MB 57.3 MB/s eta 0:00:01\r\u001B[K     |███████████████████████████████▏| 41.0 MB 57.3 MB/s eta 0:00:01\r\u001B[K     |███████████████████████████████▏| 41.0 MB 57.3 MB/s eta 0:00:01\r\u001B[K     |███████████████████████████████▏| 41.0 MB 57.3 MB/s eta 0:00:01\r\u001B[K     |███████████████████████████████▏| 41.0 MB 57.3 MB/s eta 0:00:01\r\u001B[K     |███████████████████████████████▏| 41.0 MB 57.3 MB/s eta 0:00:01\r\u001B[K     |███████████████████████████████▏| 41.1 MB 57.3 MB/s eta 0:00:01\r\u001B[K     |███████████████████████████████▏| 41.1 MB 57.3 MB/s eta 0:00:01\r\u001B[K     |███████████████████████████████▏| 41.1 MB 57.3 MB/s eta 0:00:01\r\u001B[K     |███████████████████████████████▏| 41.1 MB 57.3 MB/s eta 0:00:01\r\u001B[K     |███████████████████████████████▏| 41.1 MB 57.3 MB/s eta 0:00:01\r\u001B[K     |███████████████████████████████▎| 41.1 MB 57.3 MB/s eta 0:00:01\r\u001B[K     |███████████████████████████████▎| 41.1 MB 57.3 MB/s eta 0:00:01\r\u001B[K     |███████████████████████████████▎| 41.1 MB 57.3 MB/s eta 0:00:01\r\u001B[K     |███████████████████████████████▎| 41.1 MB 57.3 MB/s eta 0:00:01\r\u001B[K     |███████████████████████████████▎| 41.1 MB 57.3 MB/s eta 0:00:01\r\u001B[K     |███████████████████████████████▎| 41.2 MB 57.3 MB/s eta 0:00:01\r\u001B[K     |███████████████████████████████▎| 41.2 MB 57.3 MB/s eta 0:00:01\r\u001B[K     |███████████████████████████████▎| 41.2 MB 57.3 MB/s eta 0:00:01\r\u001B[K     |███████████████████████████████▎| 41.2 MB 57.3 MB/s eta 0:00:01\r\u001B[K     |███████████████████████████████▎| 41.2 MB 57.3 MB/s eta 0:00:01\r\u001B[K     |███████████████████████████████▎| 41.2 MB 57.3 MB/s eta 0:00:01\r\u001B[K     |███████████████████████████████▎| 41.2 MB 57.3 MB/s eta 0:00:01\r\u001B[K     |███████████████████████████████▎| 41.2 MB 57.3 MB/s eta 0:00:01\r\u001B[K     |███████████████████████████████▎| 41.2 MB 57.3 MB/s eta 0:00:01\r\u001B[K     |███████████████████████████████▍| 41.2 MB 57.3 MB/s eta 0:00:01\r\u001B[K     |███████████████████████████████▍| 41.3 MB 57.3 MB/s eta 0:00:01\r\u001B[K     |███████████████████████████████▍| 41.3 MB 57.3 MB/s eta 0:00:01\r\u001B[K     |███████████████████████████████▍| 41.3 MB 57.3 MB/s eta 0:00:01\r\u001B[K     |███████████████████████████████▍| 41.3 MB 57.3 MB/s eta 0:00:01\r\u001B[K     |███████████████████████████████▍| 41.3 MB 57.3 MB/s eta 0:00:01\r\u001B[K     |███████████████████████████████▍| 41.3 MB 57.3 MB/s eta 0:00:01\r\u001B[K     |███████████████████████████████▍| 41.3 MB 57.3 MB/s eta 0:00:01\r\u001B[K     |███████████████████████████████▍| 41.3 MB 57.3 MB/s eta 0:00:01\r\u001B[K     |███████████████████████████████▍| 41.3 MB 57.3 MB/s eta 0:00:01\r\u001B[K     |███████████████████████████████▍| 41.3 MB 57.3 MB/s eta 0:00:01\r\u001B[K     |███████████████████████████████▍| 41.4 MB 57.3 MB/s eta 0:00:01\r\u001B[K     |███████████████████████████████▍| 41.4 MB 57.3 MB/s eta 0:00:01\r\u001B[K     |███████████████████████████████▍| 41.4 MB 57.3 MB/s eta 0:00:01\r\u001B[K     |███████████████████████████████▌| 41.4 MB 57.3 MB/s eta 0:00:01\r\u001B[K     |███████████████████████████████▌| 41.4 MB 57.3 MB/s eta 0:00:01\r\u001B[K     |███████████████████████████████▌| 41.4 MB 57.3 MB/s eta 0:00:01\r\u001B[K     |███████████████████████████████▌| 41.4 MB 57.3 MB/s eta 0:00:01\r\u001B[K     |███████████████████████████████▌| 41.4 MB 57.3 MB/s eta 0:00:01\r\u001B[K     |███████████████████████████████▌| 41.4 MB 57.3 MB/s eta 0:00:01\r\u001B[K     |███████████████████████████████▌| 41.5 MB 57.3 MB/s eta 0:00:01\r\u001B[K     |███████████████████████████████▌| 41.5 MB 57.3 MB/s eta 0:00:01\r\u001B[K     |███████████████████████████████▌| 41.5 MB 57.3 MB/s eta 0:00:01\r\u001B[K     |███████████████████████████████▌| 41.5 MB 57.3 MB/s eta 0:00:01\r\u001B[K     |███████████████████████████████▌| 41.5 MB 57.3 MB/s eta 0:00:01\r\u001B[K     |███████████████████████████████▌| 41.5 MB 57.3 MB/s eta 0:00:01\r\u001B[K     |███████████████████████████████▌| 41.5 MB 57.3 MB/s eta 0:00:01\r\u001B[K     |███████████████████████████████▌| 41.5 MB 57.3 MB/s eta 0:00:01\r\u001B[K     |███████████████████████████████▋| 41.5 MB 57.3 MB/s eta 0:00:01\r\u001B[K     |███████████████████████████████▋| 41.5 MB 57.3 MB/s eta 0:00:01\r\u001B[K     |███████████████████████████████▋| 41.6 MB 57.3 MB/s eta 0:00:01\r\u001B[K     |███████████████████████████████▋| 41.6 MB 57.3 MB/s eta 0:00:01\r\u001B[K     |███████████████████████████████▋| 41.6 MB 57.3 MB/s eta 0:00:01\r\u001B[K     |███████████████████████████████▋| 41.6 MB 57.3 MB/s eta 0:00:01\r\u001B[K     |███████████████████████████████▋| 41.6 MB 57.3 MB/s eta 0:00:01\r\u001B[K     |███████████████████████████████▋| 41.6 MB 57.3 MB/s eta 0:00:01\r\u001B[K     |███████████████████████████████▋| 41.6 MB 57.3 MB/s eta 0:00:01\r\u001B[K     |███████████████████████████████▋| 41.6 MB 57.3 MB/s eta 0:00:01\r\u001B[K     |███████████████████████████████▋| 41.6 MB 57.3 MB/s eta 0:00:01\r\u001B[K     |███████████████████████████████▋| 41.6 MB 57.3 MB/s eta 0:00:01\r\u001B[K     |███████████████████████████████▋| 41.7 MB 57.3 MB/s eta 0:00:01\r\u001B[K     |███████████████████████████████▋| 41.7 MB 57.3 MB/s eta 0:00:01\r\u001B[K     |███████████████████████████████▋| 41.7 MB 57.3 MB/s eta 0:00:01\r\u001B[K     |███████████████████████████████▊| 41.7 MB 57.3 MB/s eta 0:00:01\r\u001B[K     |███████████████████████████████▊| 41.7 MB 57.3 MB/s eta 0:00:01\r\u001B[K     |███████████████████████████████▊| 41.7 MB 57.3 MB/s eta 0:00:01\r\u001B[K     |███████████████████████████████▊| 41.7 MB 57.3 MB/s eta 0:00:01\r\u001B[K     |███████████████████████████████▊| 41.7 MB 57.3 MB/s eta 0:00:01\r\u001B[K     |███████████████████████████████▊| 41.7 MB 57.3 MB/s eta 0:00:01\r\u001B[K     |███████████████████████████████▊| 41.7 MB 57.3 MB/s eta 0:00:01\r\u001B[K     |███████████████████████████████▊| 41.8 MB 57.3 MB/s eta 0:00:01\r\u001B[K     |███████████████████████████████▊| 41.8 MB 57.3 MB/s eta 0:00:01\r\u001B[K     |███████████████████████████████▊| 41.8 MB 57.3 MB/s eta 0:00:01\r\u001B[K     |███████████████████████████████▊| 41.8 MB 57.3 MB/s eta 0:00:01\r\u001B[K     |███████████████████████████████▊| 41.8 MB 57.3 MB/s eta 0:00:01\r\u001B[K     |███████████████████████████████▊| 41.8 MB 57.3 MB/s eta 0:00:01\r\u001B[K     |███████████████████████████████▊| 41.8 MB 57.3 MB/s eta 0:00:01\r\u001B[K     |███████████████████████████████▉| 41.8 MB 57.3 MB/s eta 0:00:01\r\u001B[K     |███████████████████████████████▉| 41.8 MB 57.3 MB/s eta 0:00:01\r\u001B[K     |███████████████████████████████▉| 41.9 MB 57.3 MB/s eta 0:00:01\r\u001B[K     |███████████████████████████████▉| 41.9 MB 57.3 MB/s eta 0:00:01\r\u001B[K     |███████████████████████████████▉| 41.9 MB 57.3 MB/s eta 0:00:01\r\u001B[K     |███████████████████████████████▉| 41.9 MB 57.3 MB/s eta 0:00:01\r\u001B[K     |███████████████████████████████▉| 41.9 MB 57.3 MB/s eta 0:00:01\r\u001B[K     |███████████████████████████████▉| 41.9 MB 57.3 MB/s eta 0:00:01\r\u001B[K     |███████████████████████████████▉| 41.9 MB 57.3 MB/s eta 0:00:01\r\u001B[K     |███████████████████████████████▉| 41.9 MB 57.3 MB/s eta 0:00:01\r\u001B[K     |███████████████████████████████▉| 41.9 MB 57.3 MB/s eta 0:00:01\r\u001B[K     |███████████████████████████████▉| 41.9 MB 57.3 MB/s eta 0:00:01\r\u001B[K     |███████████████████████████████▉| 42.0 MB 57.3 MB/s eta 0:00:01\r\u001B[K     |███████████████████████████████▉| 42.0 MB 57.3 MB/s eta 0:00:01\r\u001B[K     |████████████████████████████████| 42.0 MB 57.3 MB/s eta 0:00:01\r\u001B[K     |████████████████████████████████| 42.0 MB 57.3 MB/s eta 0:00:01\r\u001B[K     |████████████████████████████████| 42.0 MB 57.3 MB/s eta 0:00:01\r\u001B[K     |████████████████████████████████| 42.0 MB 57.3 MB/s eta 0:00:01\r\u001B[K     |████████████████████████████████| 42.0 MB 57.3 MB/s eta 0:00:01\r\u001B[K     |████████████████████████████████| 42.0 MB 57.3 MB/s eta 0:00:01\r\u001B[K     |████████████████████████████████| 42.0 MB 57.3 MB/s eta 0:00:01\r\u001B[K     |████████████████████████████████| 42.0 MB 57.3 MB/s eta 0:00:01\r\u001B[K     |████████████████████████████████| 42.1 MB 57.3 MB/s eta 0:00:01\r\u001B[K     |████████████████████████████████| 42.1 MB 57.3 MB/s eta 0:00:01\r\u001B[K     |████████████████████████████████| 42.1 MB 57.3 MB/s eta 0:00:01\r\u001B[K     |████████████████████████████████| 42.1 MB 57.3 MB/s eta 0:00:01\r\u001B[K     |████████████████████████████████| 42.1 MB 57.3 MB/s eta 0:00:01\r\u001B[K     |████████████████████████████████| 42.1 MB 57.3 MB/s eta 0:00:01\r\u001B[K     |████████████████████████████████| 42.1 MB 57.3 MB/s eta 0:00:01\r\u001B[K     |████████████████████████████████| 42.1 MB 32 kB/s \r\n\u001B[?25hCollecting mpmath>=0.19\r\n  Downloading https://artifacts.rbi.tech/artifactory/api/pypi/pypi-org-pypi-proxy/packages/packages/43/e3/7d92a15f894aa0c9c4b49b8ee9ac9850d6e63b03c9c32c0367a13ae62209/mpmath-1.3.0-py3-none-any.whl (536 kB)\r\n\u001B[?25l\r\u001B[K     |▋                               | 10 kB 23.8 MB/s eta 0:00:01\r\u001B[K     |█▎                              | 20 kB 26.5 MB/s eta 0:00:01\r\u001B[K     |█▉                              | 30 kB 32.6 MB/s eta 0:00:01\r\u001B[K     |██▌                             | 40 kB 36.1 MB/s eta 0:00:01\r\u001B[K     |███                             | 51 kB 38.1 MB/s eta 0:00:01\r\u001B[K     |███▊                            | 61 kB 41.8 MB/s eta 0:00:01\r\u001B[K     |████▎                           | 71 kB 44.9 MB/s eta 0:00:01\r\u001B[K     |█████                           | 81 kB 47.4 MB/s eta 0:00:01\r\u001B[K     |█████▌                          | 92 kB 49.4 MB/s eta 0:00:01\r\u001B[K     |██████▏                         | 102 kB 50.8 MB/s eta 0:00:01\r\u001B[K     |██████▊                         | 112 kB 50.8 MB/s eta 0:00:01\r\u001B[K     |███████▍                        | 122 kB 50.8 MB/s eta 0:00:01\r\u001B[K     |████████                        | 133 kB 50.8 MB/s eta 0:00:01\r\u001B[K     |████████▋                       | 143 kB 50.8 MB/s eta 0:00:01\r\u001B[K     |█████████▏                      | 153 kB 50.8 MB/s eta 0:00:01\r\u001B[K     |█████████▉                      | 163 kB 50.8 MB/s eta 0:00:01\r\u001B[K     |██████████▍                     | 174 kB 50.8 MB/s eta 0:00:01\r\u001B[K     |███████████                     | 184 kB 50.8 MB/s eta 0:00:01\r\u001B[K     |███████████▋                    | 194 kB 50.8 MB/s eta 0:00:01\r\u001B[K     |████████████▎                   | 204 kB 50.8 MB/s eta 0:00:01\r\u001B[K     |████████████▉                   | 215 kB 50.8 MB/s eta 0:00:01\r\u001B[K     |█████████████▌                  | 225 kB 50.8 MB/s eta 0:00:01\r\u001B[K     |██████████████                  | 235 kB 50.8 MB/s eta 0:00:01\r\u001B[K     |██████████████▊                 | 245 kB 50.8 MB/s eta 0:00:01\r\u001B[K     |███████████████▎                | 256 kB 50.8 MB/s eta 0:00:01\r\u001B[K     |████████████████                | 266 kB 50.8 MB/s eta 0:00:01\r\u001B[K     |████████████████▌               | 276 kB 50.8 MB/s eta 0:00:01\r\u001B[K     |█████████████████▏              | 286 kB 50.8 MB/s eta 0:00:01\r\u001B[K     |█████████████████▊              | 296 kB 50.8 MB/s eta 0:00:01\r\u001B[K     |██████████████████▍             | 307 kB 50.8 MB/s eta 0:00:01\r\u001B[K     |███████████████████             | 317 kB 50.8 MB/s eta 0:00:01\r\u001B[K     |███████████████████▋            | 327 kB 50.8 MB/s eta 0:00:01\r\u001B[K     |████████████████████▏           | 337 kB 50.8 MB/s eta 0:00:01\r\u001B[K     |████████████████████▉           | 348 kB 50.8 MB/s eta 0:00:01\r\u001B[K     |█████████████████████▍          | 358 kB 50.8 MB/s eta 0:00:01\r\u001B[K     |██████████████████████          | 368 kB 50.8 MB/s eta 0:00:01\r\u001B[K     |██████████████████████▋         | 378 kB 50.8 MB/s eta 0:00:01\r\u001B[K     |███████████████████████▎        | 389 kB 50.8 MB/s eta 0:00:01\r\u001B[K     |███████████████████████▉        | 399 kB 50.8 MB/s eta 0:00:01\r\u001B[K     |████████████████████████▌       | 409 kB 50.8 MB/s eta 0:00:01\r\u001B[K     |█████████████████████████       | 419 kB 50.8 MB/s eta 0:00:01\r\u001B[K     |█████████████████████████▊      | 430 kB 50.8 MB/s eta 0:00:01\r\u001B[K     |██████████████████████████▎     | 440 kB 50.8 MB/s eta 0:00:01\r\u001B[K     |███████████████████████████     | 450 kB 50.8 MB/s eta 0:00:01\r\u001B[K     |███████████████████████████▌    | 460 kB 50.8 MB/s eta 0:00:01\r\u001B[K     |████████████████████████████▏   | 471 kB 50.8 MB/s eta 0:00:01\r\u001B[K     |████████████████████████████▊   | 481 kB 50.8 MB/s eta 0:00:01\r\u001B[K     |█████████████████████████████▍  | 491 kB 50.8 MB/s eta 0:00:01\r\u001B[K     |██████████████████████████████  | 501 kB 50.8 MB/s eta 0:00:01\r\u001B[K     |██████████████████████████████▋ | 512 kB 50.8 MB/s eta 0:00:01\r\u001B[K     |███████████████████████████████▏| 522 kB 50.8 MB/s eta 0:00:01\r\u001B[K     |███████████████████████████████▉| 532 kB 50.8 MB/s eta 0:00:01\r\u001B[K     |████████████████████████████████| 536 kB 50.8 MB/s \r\n\u001B[?25hBuilding wheels for collected packages: causalml, pydotplus, future, lit\r\n  Building wheel for causalml (setup.py) ... \u001B[?25l-\b \b\\\b \b|\b \b/\b \b-\b \b\\\b \b|\b \b/\b \b-\b \b\\\b \b|\b \b/\b \b-\b \b\\\b \b|\b \b/\b \b-\b \b\\\b \bdone\r\n\u001B[?25h  Created wheel for causalml: filename=causalml-0.13.0-cp39-cp39-linux_x86_64.whl size=1795502 sha256=ad2d687b93ee64dc19ba13fd8efdbcb1528cc137a7104a4747603d1ffa5f484d\r\n  Stored in directory: /root/.cache/pip/wheels/16/ef/d4/7a35226eab82497e4ce41e48f2b5abc71b69d0863b37671e84\r\n  Building wheel for pydotplus (setup.py) ... \u001B[?25l-\b \b\\\b \b|\b \b/\b \b-\b \b\\\b \b|\b \b/\b \bdone\r\n\u001B[?25h  Created wheel for pydotplus: filename=pydotplus-2.0.2-py3-none-any.whl size=24575 sha256=afeca83a2742d3589720fe6050adf1c3133afe0c6ae6a3dafbb6d3caaa088a28\r\n  Stored in directory: /root/.cache/pip/wheels/ca/2b/0a/7ce5639f9af8037477db6f113b129bf42c2ccf27bdb880936f\r\n  Building wheel for future (setup.py) ... \u001B[?25l-\b \b\\\b \b|\b \b/\b \b-\b \b\\\b \b|\b \b/\b \b-\b \b\\\b \bdone\r\n\u001B[?25h  Created wheel for future: filename=future-0.18.3-py3-none-any.whl size=492037 sha256=359520f5fa0eef7389c7d777d7ad3a3292a85d1f901f426f53082f8dc2120242\r\n  Stored in directory: /root/.cache/pip/wheels/63/a8/cf/89d807de0b638ec607f2a2f3e016cd280927c827a6c606e776\r\n  Building wheel for lit (setup.py) ... \u001B[?25l-\b \b\\\b \b|\b \b/\b \b-\b \b\\\b \b|\b \b/\b \b-\b \bdone\r\n\u001B[?25h  Created wheel for lit: filename=lit-16.0.5-py3-none-any.whl size=88193 sha256=0113fd6aa7293a9de5aebecd4bd9adbeaa53b5914da397c3cba1c6f30eafd02e\r\n  Stored in directory: /root/.cache/pip/wheels/24/e9/ff/da91bbf6985c2ac0333897aad92aba2d339fe7417cd92610ab\r\nSuccessfully built causalml pydotplus future lit\r\nInstalling collected packages: nvidia-cublas-cu11, mpmath, lit, cmake, triton, sympy, python-utils, nvidia-nvtx-cu11, nvidia-nccl-cu11, nvidia-cusparse-cu11, nvidia-cusolver-cu11, nvidia-curand-cu11, nvidia-cufft-cu11, nvidia-cudnn-cu11, nvidia-cuda-runtime-cu11, nvidia-cuda-nvrtc-cu11, nvidia-cuda-cupti-cu11, networkx, llvmlite, dill, tqdm, torch, slicer, pyro-api, progressbar2, ppft, pox, opt-einsum, numba, multiprocess, future, cloudpickle, xgboost, shap, pyro-ppl, pygam, pydotplus, pathos, lightgbm, graphviz, forestci, causalml\r\nSuccessfully installed causalml-0.13.0 cloudpickle-2.2.1 cmake-3.26.3 dill-0.3.6 forestci-0.6 future-0.18.3 graphviz-0.20.1 lightgbm-3.3.5 lit-16.0.5 llvmlite-0.40.0 mpmath-1.3.0 multiprocess-0.70.14 networkx-3.1 numba-0.57.0 nvidia-cublas-cu11-11.10.3.66 nvidia-cuda-cupti-cu11-11.7.101 nvidia-cuda-nvrtc-cu11-11.7.99 nvidia-cuda-runtime-cu11-11.7.99 nvidia-cudnn-cu11-8.5.0.96 nvidia-cufft-cu11-10.9.0.58 nvidia-curand-cu11-10.2.10.91 nvidia-cusolver-cu11-11.4.0.1 nvidia-cusparse-cu11-11.7.4.91 nvidia-nccl-cu11-2.14.3 nvidia-nvtx-cu11-11.7.91 opt-einsum-3.3.0 pathos-0.2.9 pox-0.3.2 ppft-1.7.6.6 progressbar2-4.2.0 pydotplus-2.0.2 pygam-0.8.0 pyro-api-0.1.2 pyro-ppl-1.8.4 python-utils-3.5.2 shap-0.41.0 slicer-0.0.7 sympy-1.12 torch-2.0.1 tqdm-4.65.0 triton-2.0.0 xgboost-1.7.5\r\n"
     ]
    }
   ],
   "source": [
    "# Install package\n",
    "!pip install causalml"
   ]
  },
  {
   "cell_type": "code",
   "execution_count": 0,
   "metadata": {
    "application/vnd.databricks.v1+cell": {
     "cellMetadata": {
      "byteLimit": 2048000,
      "rowLimit": 10000
     },
     "inputWidgets": {},
     "nuid": "17eb6339-3d96-46ec-8d9f-a3f4108506df",
     "showTitle": false,
     "title": ""
    }
   },
   "outputs": [
    {
     "output_type": "display_data",
     "data": {
      "application/vnd.databricks.v1+bamboolib_hint": "{\"pd.DataFrames\": [], \"version\": \"0.0.1\"}",
      "text/plain": []
     },
     "metadata": {},
     "output_type": "display_data"
    },
    {
     "output_type": "stream",
     "name": "stderr",
     "output_type": "stream",
     "text": [
      "/local_disk0/.ephemeral_nfs/envs/pythonEnv-e693d872-bdd0-491a-b9b3-0d0b5a07dc03/lib/python3.9/site-packages/shap/utils/_clustering.py:35: NumbaDeprecationWarning: The 'nopython' keyword argument was not supplied to the 'numba.jit' decorator. The implicit default value for this argument is currently False, but it will be changed to True in Numba 0.59.0. See https://numba.readthedocs.io/en/stable/reference/deprecation.html#deprecation-of-object-mode-fall-back-behaviour-when-using-jit for details.\n  def _pt_shuffle_rec(i, indexes, index_mask, partition_tree, M, pos):\n/local_disk0/.ephemeral_nfs/envs/pythonEnv-e693d872-bdd0-491a-b9b3-0d0b5a07dc03/lib/python3.9/site-packages/shap/utils/_clustering.py:54: NumbaDeprecationWarning: The 'nopython' keyword argument was not supplied to the 'numba.jit' decorator. The implicit default value for this argument is currently False, but it will be changed to True in Numba 0.59.0. See https://numba.readthedocs.io/en/stable/reference/deprecation.html#deprecation-of-object-mode-fall-back-behaviour-when-using-jit for details.\n  def delta_minimization_order(all_masks, max_swap_size=100, num_passes=2):\n/local_disk0/.ephemeral_nfs/envs/pythonEnv-e693d872-bdd0-491a-b9b3-0d0b5a07dc03/lib/python3.9/site-packages/shap/utils/_clustering.py:63: NumbaDeprecationWarning: The 'nopython' keyword argument was not supplied to the 'numba.jit' decorator. The implicit default value for this argument is currently False, but it will be changed to True in Numba 0.59.0. See https://numba.readthedocs.io/en/stable/reference/deprecation.html#deprecation-of-object-mode-fall-back-behaviour-when-using-jit for details.\n  def _reverse_window(order, start, length):\n/local_disk0/.ephemeral_nfs/envs/pythonEnv-e693d872-bdd0-491a-b9b3-0d0b5a07dc03/lib/python3.9/site-packages/shap/utils/_clustering.py:69: NumbaDeprecationWarning: The 'nopython' keyword argument was not supplied to the 'numba.jit' decorator. The implicit default value for this argument is currently False, but it will be changed to True in Numba 0.59.0. See https://numba.readthedocs.io/en/stable/reference/deprecation.html#deprecation-of-object-mode-fall-back-behaviour-when-using-jit for details.\n  def _reverse_window_score_gain(masks, order, start, length):\n/local_disk0/.ephemeral_nfs/envs/pythonEnv-e693d872-bdd0-491a-b9b3-0d0b5a07dc03/lib/python3.9/site-packages/shap/utils/_clustering.py:77: NumbaDeprecationWarning: The 'nopython' keyword argument was not supplied to the 'numba.jit' decorator. The implicit default value for this argument is currently False, but it will be changed to True in Numba 0.59.0. See https://numba.readthedocs.io/en/stable/reference/deprecation.html#deprecation-of-object-mode-fall-back-behaviour-when-using-jit for details.\n  def _mask_delta_score(m1, m2):\n/local_disk0/.ephemeral_nfs/envs/pythonEnv-e693d872-bdd0-491a-b9b3-0d0b5a07dc03/lib/python3.9/site-packages/shap/links.py:5: NumbaDeprecationWarning: The 'nopython' keyword argument was not supplied to the 'numba.jit' decorator. The implicit default value for this argument is currently False, but it will be changed to True in Numba 0.59.0. See https://numba.readthedocs.io/en/stable/reference/deprecation.html#deprecation-of-object-mode-fall-back-behaviour-when-using-jit for details.\n  def identity(x):\n/local_disk0/.ephemeral_nfs/envs/pythonEnv-e693d872-bdd0-491a-b9b3-0d0b5a07dc03/lib/python3.9/site-packages/shap/links.py:10: NumbaDeprecationWarning: The 'nopython' keyword argument was not supplied to the 'numba.jit' decorator. The implicit default value for this argument is currently False, but it will be changed to True in Numba 0.59.0. See https://numba.readthedocs.io/en/stable/reference/deprecation.html#deprecation-of-object-mode-fall-back-behaviour-when-using-jit for details.\n  def _identity_inverse(x):\n/local_disk0/.ephemeral_nfs/envs/pythonEnv-e693d872-bdd0-491a-b9b3-0d0b5a07dc03/lib/python3.9/site-packages/shap/links.py:15: NumbaDeprecationWarning: The 'nopython' keyword argument was not supplied to the 'numba.jit' decorator. The implicit default value for this argument is currently False, but it will be changed to True in Numba 0.59.0. See https://numba.readthedocs.io/en/stable/reference/deprecation.html#deprecation-of-object-mode-fall-back-behaviour-when-using-jit for details.\n  def logit(x):\n/local_disk0/.ephemeral_nfs/envs/pythonEnv-e693d872-bdd0-491a-b9b3-0d0b5a07dc03/lib/python3.9/site-packages/shap/links.py:20: NumbaDeprecationWarning: The 'nopython' keyword argument was not supplied to the 'numba.jit' decorator. The implicit default value for this argument is currently False, but it will be changed to True in Numba 0.59.0. See https://numba.readthedocs.io/en/stable/reference/deprecation.html#deprecation-of-object-mode-fall-back-behaviour-when-using-jit for details.\n  def _logit_inverse(x):\n/local_disk0/.ephemeral_nfs/envs/pythonEnv-e693d872-bdd0-491a-b9b3-0d0b5a07dc03/lib/python3.9/site-packages/shap/utils/_masked_model.py:363: NumbaDeprecationWarning: The 'nopython' keyword argument was not supplied to the 'numba.jit' decorator. The implicit default value for this argument is currently False, but it will be changed to True in Numba 0.59.0. See https://numba.readthedocs.io/en/stable/reference/deprecation.html#deprecation-of-object-mode-fall-back-behaviour-when-using-jit for details.\n  def _build_fixed_single_output(averaged_outs, last_outs, outputs, batch_positions, varying_rows, num_varying_rows, link, linearizing_weights):\n/local_disk0/.ephemeral_nfs/envs/pythonEnv-e693d872-bdd0-491a-b9b3-0d0b5a07dc03/lib/python3.9/site-packages/shap/utils/_masked_model.py:385: NumbaDeprecationWarning: The 'nopython' keyword argument was not supplied to the 'numba.jit' decorator. The implicit default value for this argument is currently False, but it will be changed to True in Numba 0.59.0. See https://numba.readthedocs.io/en/stable/reference/deprecation.html#deprecation-of-object-mode-fall-back-behaviour-when-using-jit for details.\n  def _build_fixed_multi_output(averaged_outs, last_outs, outputs, batch_positions, varying_rows, num_varying_rows, link, linearizing_weights):\n/local_disk0/.ephemeral_nfs/envs/pythonEnv-e693d872-bdd0-491a-b9b3-0d0b5a07dc03/lib/python3.9/site-packages/shap/utils/_masked_model.py:428: NumbaDeprecationWarning: The 'nopython' keyword argument was not supplied to the 'numba.jit' decorator. The implicit default value for this argument is currently False, but it will be changed to True in Numba 0.59.0. See https://numba.readthedocs.io/en/stable/reference/deprecation.html#deprecation-of-object-mode-fall-back-behaviour-when-using-jit for details.\n  def _init_masks(cluster_matrix, M, indices_row_pos, indptr):\n/local_disk0/.ephemeral_nfs/envs/pythonEnv-e693d872-bdd0-491a-b9b3-0d0b5a07dc03/lib/python3.9/site-packages/shap/utils/_masked_model.py:439: NumbaDeprecationWarning: The 'nopython' keyword argument was not supplied to the 'numba.jit' decorator. The implicit default value for this argument is currently False, but it will be changed to True in Numba 0.59.0. See https://numba.readthedocs.io/en/stable/reference/deprecation.html#deprecation-of-object-mode-fall-back-behaviour-when-using-jit for details.\n  def _rec_fill_masks(cluster_matrix, indices_row_pos, indptr, indices, M, ind):\n/local_disk0/.ephemeral_nfs/envs/pythonEnv-e693d872-bdd0-491a-b9b3-0d0b5a07dc03/lib/python3.9/site-packages/shap/maskers/_tabular.py:186: NumbaDeprecationWarning: The 'nopython' keyword argument was not supplied to the 'numba.jit' decorator. The implicit default value for this argument is currently False, but it will be changed to True in Numba 0.59.0. See https://numba.readthedocs.io/en/stable/reference/deprecation.html#deprecation-of-object-mode-fall-back-behaviour-when-using-jit for details.\n  def _single_delta_mask(dind, masked_inputs, last_mask, data, x, noop_code):\n/local_disk0/.ephemeral_nfs/envs/pythonEnv-e693d872-bdd0-491a-b9b3-0d0b5a07dc03/lib/python3.9/site-packages/shap/maskers/_tabular.py:197: NumbaDeprecationWarning: The 'nopython' keyword argument was not supplied to the 'numba.jit' decorator. The implicit default value for this argument is currently False, but it will be changed to True in Numba 0.59.0. See https://numba.readthedocs.io/en/stable/reference/deprecation.html#deprecation-of-object-mode-fall-back-behaviour-when-using-jit for details.\n  def _delta_masking(masks, x, curr_delta_inds, varying_rows_out,\n/local_disk0/.ephemeral_nfs/envs/pythonEnv-e693d872-bdd0-491a-b9b3-0d0b5a07dc03/lib/python3.9/site-packages/shap/maskers/_image.py:175: NumbaDeprecationWarning: The 'nopython' keyword argument was not supplied to the 'numba.jit' decorator. The implicit default value for this argument is currently False, but it will be changed to True in Numba 0.59.0. See https://numba.readthedocs.io/en/stable/reference/deprecation.html#deprecation-of-object-mode-fall-back-behaviour-when-using-jit for details.\n  def _jit_build_partition_tree(xmin, xmax, ymin, ymax, zmin, zmax, total_ywidth, total_zwidth, M, clustering, q):\n/local_disk0/.ephemeral_nfs/envs/pythonEnv-e693d872-bdd0-491a-b9b3-0d0b5a07dc03/lib/python3.9/site-packages/shap/explainers/_partition.py:676: NumbaDeprecationWarning: The 'nopython' keyword argument was not supplied to the 'numba.jit' decorator. The implicit default value for this argument is currently False, but it will be changed to True in Numba 0.59.0. See https://numba.readthedocs.io/en/stable/reference/deprecation.html#deprecation-of-object-mode-fall-back-behaviour-when-using-jit for details.\n  def lower_credit(i, value, M, values, clustering):\nThe 'nopython' keyword argument was not supplied to the 'numba.jit' decorator. The implicit default value for this argument is currently False, but it will be changed to True in Numba 0.59.0. See https://numba.readthedocs.io/en/stable/reference/deprecation.html#deprecation-of-object-mode-fall-back-behaviour-when-using-jit for details.\nThe 'nopython' keyword argument was not supplied to the 'numba.jit' decorator. The implicit default value for this argument is currently False, but it will be changed to True in Numba 0.59.0. See https://numba.readthedocs.io/en/stable/reference/deprecation.html#deprecation-of-object-mode-fall-back-behaviour-when-using-jit for details.\nERROR:duecredit:Failed to import duecredit due to No module named 'duecredit'\n"
     ]
    }
   ],
   "source": [
    "# Data processing\n",
    "import pandas as pd\n",
    "import numpy as np\n",
    "\n",
    "# Create synthetic data\n",
    "from causalml.dataset import synthetic_data\n",
    "\n",
    "# Visualization\n",
    "import seaborn as sns\n",
    "\n",
    "# Machine learning model\n",
    "from lightgbm import LGBMRegressor\n",
    "from xgboost import XGBClassifier"
   ]
  },
  {
   "cell_type": "markdown",
   "metadata": {
    "application/vnd.databricks.v1+cell": {
     "cellMetadata": {},
     "inputWidgets": {},
     "nuid": "4d29faf1-7974-47f1-8570-4cd147c90180",
     "showTitle": false,
     "title": ""
    }
   },
   "source": [
    "Kreiracemo sinteticki skup podataka za uplift model koriscenjem S-Learnera.\n",
    "Koristimo *synthetic_data* metodu iz paketa *causal_ml* i kreiramo skup podataka sa 5 karakteristika, jednom promenljivom koja predstavlja da li je klijent dobio tretman i jednom kontinualnom varijablom ishoda.\n",
    "U odnosu na varijablu *treatment* klijenti su podjednako rasporedjeni."
   ]
  },
  {
   "cell_type": "code",
   "execution_count": 0,
   "metadata": {
    "application/vnd.databricks.v1+cell": {
     "cellMetadata": {
      "byteLimit": 2048000,
      "rowLimit": 10000
     },
     "inputWidgets": {},
     "nuid": "af48bf91-be3a-4b49-b24e-f4692cd2d0b8",
     "showTitle": false,
     "title": ""
    }
   },
   "outputs": [
    {
     "output_type": "stream",
     "name": "stdout",
     "output_type": "stream",
     "text": [
      "Out[3]: 1    2582\n0    2418\nName: treatment, dtype: int64"
     ]
    }
   ],
   "source": [
    "# Set a seed for reproducibility\n",
    "np.random.seed(42)\n",
    "\n",
    "# Create a synthetic dataset\n",
    "y, X, treatment, _, _, _ = synthetic_data(mode=1, n=5000, p=5, sigma=1.0)\n",
    "\n",
    "# Save the data in a pandas dataframe\n",
    "df = pd.DataFrame({'y': y, 'X1': X.T[0], 'X2': X.T[1], 'X3': X.T[2], 'X4': X.T[3], 'X5': X.T[4], 'treatment': treatment})\n",
    "\n",
    "# Check treatment\n",
    "df['treatment'].value_counts()"
   ]
  },
  {
   "cell_type": "markdown",
   "metadata": {
    "application/vnd.databricks.v1+cell": {
     "cellMetadata": {},
     "inputWidgets": {},
     "nuid": "5f668d26-45ed-40e1-97dc-cceaa1158f5f",
     "showTitle": false,
     "title": ""
    }
   },
   "source": [
    "### Data Processing\n",
    "\n",
    "Skup podataka se na pocetku deli na dva podskupa u zavisnosti od vrednosti *treatment* varijable."
   ]
  },
  {
   "cell_type": "code",
   "execution_count": 0,
   "metadata": {
    "application/vnd.databricks.v1+cell": {
     "cellMetadata": {
      "byteLimit": 2048000,
      "rowLimit": 10000
     },
     "inputWidgets": {},
     "nuid": "32432815-38c9-4f6a-b758-a62ed44ac632",
     "showTitle": false,
     "title": ""
    }
   },
   "outputs": [
    {
     "output_type": "stream",
     "name": "stdout",
     "output_type": "stream",
     "text": [
      "The feature maxtrix for the treated has 2582 records and 5 features.\nThe dependent variable for the treated has 2582 records.\nThe feature maxtrix for the control has 2418 records and 5 features.\nThe dependent variable for the control has 2418 records.\n"
     ]
    }
   ],
   "source": [
    "# Keep only the treated units\n",
    "df_treated = df[df['treatment'] == 1]\n",
    "# Features\n",
    "features_treated = df_treated[['X1', 'X2', 'X3', 'X4', 'X5']]\n",
    "# Dependent variable\n",
    "y_treated = df_treated[['y']]\n",
    "# Print data shape\n",
    "print(f'The feature maxtrix for the treated has {features_treated.shape[0]} records and {features_treated.shape[1]} features.')\n",
    "print(f'The dependent variable for the treated has {y_treated.shape[0]} records.')\n",
    "\n",
    "\n",
    "# Keep only the control units\n",
    "df_control = df[df['treatment'] == 0]\n",
    "# Features\n",
    "features_control = df_control[['X1', 'X2', 'X3', 'X4', 'X5']]\n",
    "# Dependent variable\n",
    "y_control = df_control[['y']]\n",
    "# Print data shape\n",
    "print(f'The feature maxtrix for the control has {features_control.shape[0]} records and {features_control.shape[1]} features.')\n",
    "print(f'The dependent variable for the control has {y_control.shape[0]} records.')"
   ]
  },
  {
   "cell_type": "code",
   "execution_count": 0,
   "metadata": {
    "application/vnd.databricks.v1+cell": {
     "cellMetadata": {
      "byteLimit": 2048000,
      "rowLimit": 10000
     },
     "inputWidgets": {},
     "nuid": "b900dcaf-d066-4d26-81ee-ba2706113583",
     "showTitle": false,
     "title": ""
    }
   },
   "outputs": [],
   "source": [
    "# Features for all the samples\n",
    "features = df[['X1', 'X2', 'X3', 'X4', 'X5']]"
   ]
  },
  {
   "cell_type": "markdown",
   "metadata": {
    "application/vnd.databricks.v1+cell": {
     "cellMetadata": {},
     "inputWidgets": {},
     "nuid": "5cb2694b-887e-4a73-bfa1-86d92fa20226",
     "showTitle": false,
     "title": ""
    }
   },
   "source": [
    "### X-Learner prva faza modela\n",
    "\n",
    "Kreiraju se dva ML modela za predvidjanje ishoda, jedan koristi tretirane jedinice, a drugi kontrolne jedinice. \n",
    "Izbor modela i podesavanje hiperparametara su vazni za performanse X-Learnera. To je zato sto performanse modela uticu na predvidjanje modela, a samim tim i na tacnost procene individualnog efekta tretmana (ITE).\n",
    "\n",
    "Mnogi algoritmi ML se mogu koristiti za izgradnju X-Learnera. U ovom primeru cemo koristiti light GBM model. Modeli za 3 faze mogu koristiti razlicite algoritme masinskog ucenja."
   ]
  },
  {
   "cell_type": "code",
   "execution_count": 0,
   "metadata": {
    "application/vnd.databricks.v1+cell": {
     "cellMetadata": {
      "byteLimit": 2048000,
      "rowLimit": 10000
     },
     "inputWidgets": {},
     "nuid": "a8731f15-fee7-4f53-9fcc-e3a985baad50",
     "showTitle": false,
     "title": ""
    }
   },
   "outputs": [],
   "source": [
    "# X-learner stage one model for the treated\n",
    "s1_treated = LGBMRegressor().fit(features_treated, y_treated)\n",
    "\n",
    "# X-learner stage one model for the control\n",
    "s1_control = LGBMRegressor().fit(features_control, y_control)"
   ]
  },
  {
   "cell_type": "markdown",
   "metadata": {
    "application/vnd.databricks.v1+cell": {
     "cellMetadata": {},
     "inputWidgets": {},
     "nuid": "a70e3bca-3e41-455f-a229-470405d69f13",
     "showTitle": false,
     "title": ""
    }
   },
   "source": [
    "Da bi se izvršila procena efekta tretmana, potrebno je napraviti dva odvojena predviđanja pomoću obučenih modela prve faze:"
   ]
  },
  {
   "cell_type": "code",
   "execution_count": 0,
   "metadata": {
    "application/vnd.databricks.v1+cell": {
     "cellMetadata": {
      "byteLimit": 2048000,
      "rowLimit": 10000
     },
     "inputWidgets": {},
     "nuid": "ab3e4269-c84f-4cce-9768-fd8412fc6adc",
     "showTitle": false,
     "title": ""
    }
   },
   "outputs": [],
   "source": [
    "# Predictions on the control group using the treated model\n",
    "s1_treated_predict = s1_treated.predict(features_control)\n",
    "# Predictions on the treated group using the control model\n",
    "s1_control_predict = s1_control.predict(features_treated)"
   ]
  },
  {
   "cell_type": "markdown",
   "metadata": {
    "application/vnd.databricks.v1+cell": {
     "cellMetadata": {},
     "inputWidgets": {},
     "nuid": "d734ec89-d8b0-4b2c-8844-309c84d0617c",
     "showTitle": false,
     "title": ""
    }
   },
   "source": [
    "### X-Learner 2. faza modela na imputiranu vrednost ITE\n",
    "\n",
    "ITE se izracunavaju posebno za tretiranu i kontrolnu grupu.\n",
    "\n",
    "Za tretiranu grupu, ITE se izracunava koriscenjem stvarnog ishoda - kontracinjenicni ishod predvidjen kontrolnim modelom.\n",
    "\n",
    "Za kontrolnu grupu, ITE se izracunava koriscenjem suprotnog ishoda predvidjenog tretiranim modelom minus stvarni ishod."
   ]
  },
  {
   "cell_type": "code",
   "execution_count": 0,
   "metadata": {
    "application/vnd.databricks.v1+cell": {
     "cellMetadata": {
      "byteLimit": 2048000,
      "rowLimit": 10000
     },
     "inputWidgets": {},
     "nuid": "81373741-c79c-42f6-b8f3-16bd04c36c36",
     "showTitle": false,
     "title": ""
    }
   },
   "outputs": [],
   "source": [
    "# Create a column for the predicted outcomes\n",
    "df_treated['predicted_outcome'] = s1_control_predict\n",
    "# Create a column for the imputed ite\n",
    "df_treated['imputed_ite'] =  df_treated.apply(lambda row: row.y - row.predicted_outcome, axis = 1)\n",
    "# Create a column for the predicted outcomes\n",
    "df_control['predicted_outcome'] = s1_treated_predict\n",
    "# Create a column for the imputed ite\n",
    "df_control['imputed_ite'] =  df_control.apply(lambda row: row.predicted_outcome - row.y, axis = 1)"
   ]
  },
  {
   "cell_type": "markdown",
   "metadata": {
    "application/vnd.databricks.v1+cell": {
     "cellMetadata": {},
     "inputWidgets": {},
     "nuid": "eeba0b16-4ffd-47fc-8dc0-7e06b4b08011",
     "showTitle": false,
     "title": ""
    }
   },
   "source": [
    "U modelima druge faze, zavisna varijabla je imputirani individualni efekat tretmana ITE."
   ]
  },
  {
   "cell_type": "code",
   "execution_count": 0,
   "metadata": {
    "application/vnd.databricks.v1+cell": {
     "cellMetadata": {
      "byteLimit": 2048000,
      "rowLimit": 10000
     },
     "inputWidgets": {},
     "nuid": "5220fbb2-fe45-43ca-af44-8d73da6899be",
     "showTitle": false,
     "title": ""
    }
   },
   "outputs": [],
   "source": [
    "# Light GBM model for the treated\n",
    "s2_treated = LGBMRegressor().fit(features_treated, df_treated['imputed_ite'])\n",
    "# Light GBM model for the control\n",
    "s2_control = LGBMRegressor().fit(features_control, df_control['imputed_ite'])"
   ]
  },
  {
   "cell_type": "markdown",
   "metadata": {
    "application/vnd.databricks.v1+cell": {
     "cellMetadata": {},
     "inputWidgets": {},
     "nuid": "164a8f25-c91a-47c4-a527-46dae80c5097",
     "showTitle": false,
     "title": ""
    }
   },
   "source": [
    "Predvidjaju se 2 vrednosti za svaku vrednost u skupu podataka, jedna koristi tretirani model 2. faze a drugi koristi kontrolni model."
   ]
  },
  {
   "cell_type": "code",
   "execution_count": 0,
   "metadata": {
    "application/vnd.databricks.v1+cell": {
     "cellMetadata": {
      "byteLimit": 2048000,
      "rowLimit": 10000
     },
     "inputWidgets": {},
     "nuid": "747b08da-bb31-4eed-bc3b-f8449a8d5295",
     "showTitle": false,
     "title": ""
    }
   },
   "outputs": [],
   "source": [
    "# Predictions using the treated model\n",
    "s2_treated_predict = s2_treated.predict(features)\n",
    "# Save the prediction results as a colum in the dataframe\n",
    "df['s2_treated_predict'] = s2_treated_predict\n",
    "# Predictions using the control model\n",
    "s2_control_predict = s2_control.predict(features)\n",
    "# Save the prediction results as a colum in the dataframe\n",
    "df['s2_control_predict'] = s2_control_predict"
   ]
  },
  {
   "cell_type": "markdown",
   "metadata": {
    "application/vnd.databricks.v1+cell": {
     "cellMetadata": {},
     "inputWidgets": {},
     "nuid": "834e6646-17a8-487e-962e-5d082c8f34a6",
     "showTitle": false,
     "title": ""
    }
   },
   "source": [
    "### X-Learner Propensity skor model\n",
    "\n",
    "Kreiramo propensity model za predvidjanje sklonosti da se dobije tretman. Zavisna varijabla je tretman (1-dobija tretman, 0-ne dobija tretman). Za predvidjanje mozemo koristiti bilo koji binarni model klasifikacije."
   ]
  },
  {
   "cell_type": "code",
   "execution_count": 0,
   "metadata": {
    "application/vnd.databricks.v1+cell": {
     "cellMetadata": {
      "byteLimit": 2048000,
      "rowLimit": 10000
     },
     "inputWidgets": {},
     "nuid": "4a0b953f-5694-4b34-a504-5669663b6c05",
     "showTitle": false,
     "title": ""
    }
   },
   "outputs": [],
   "source": [
    "# Train the XGBoost model\n",
    "xgb = XGBClassifier(seed=0).fit(features,df[['treatment']])\n",
    "# Make predictions\n",
    "xgb_predict_prob = xgb.predict_proba(features)[:,1]\n",
    "# Save the prediction results as a colum in the dataframe\n",
    "df['treatment_propensity_score'] = xgb_predict_prob"
   ]
  },
  {
   "cell_type": "markdown",
   "metadata": {
    "application/vnd.databricks.v1+cell": {
     "cellMetadata": {},
     "inputWidgets": {},
     "nuid": "68bcdba1-4e84-4ded-9653-e87042c5a8b5",
     "showTitle": false,
     "title": ""
    }
   },
   "source": [
    "### X-Learner ITE\n",
    "\n",
    "Efekat individualnog tretmana X-Learnera je ponderisani prosek predvidjanja ITE 2. faze. Autori ovog modela predlazu da se koristi propensity score kao tezina ako tretirana i kontrolna grupa imaju priblizno istu velicinu.\n",
    "\n",
    "Kada je tretirana grupa veoma velika ili veoma mala u poredjenju sa kontrolnom grupom, mozemo koristiti 0 ili 1 kao velicinu.\n",
    "\n",
    "Posto je nas skup podataka izbalansiran, koristicemo propensity score kao tezinu."
   ]
  },
  {
   "cell_type": "code",
   "execution_count": 0,
   "metadata": {
    "application/vnd.databricks.v1+cell": {
     "cellMetadata": {
      "byteLimit": 2048000,
      "rowLimit": 10000
     },
     "inputWidgets": {},
     "nuid": "85cadd52-7732-4c28-9a1b-fc2cf7cc6a3e",
     "showTitle": false,
     "title": ""
    }
   },
   "outputs": [
    {
     "output_type": "display_data",
     "data": {
      "text/html": [
       "<div>\n",
       "<style scoped>\n",
       "    .dataframe tbody tr th:only-of-type {\n",
       "        vertical-align: middle;\n",
       "    }\n",
       "\n",
       "    .dataframe tbody tr th {\n",
       "        vertical-align: top;\n",
       "    }\n",
       "\n",
       "    .dataframe thead th {\n",
       "        text-align: right;\n",
       "    }\n",
       "</style>\n",
       "<table border=\"1\" class=\"dataframe\">\n",
       "  <thead>\n",
       "    <tr style=\"text-align: right;\">\n",
       "      <th></th>\n",
       "      <th>y</th>\n",
       "      <th>X1</th>\n",
       "      <th>X2</th>\n",
       "      <th>X3</th>\n",
       "      <th>X4</th>\n",
       "      <th>X5</th>\n",
       "      <th>treatment</th>\n",
       "      <th>s2_treated_predict</th>\n",
       "      <th>s2_control_predict</th>\n",
       "      <th>treatment_propensity_score</th>\n",
       "      <th>ITE</th>\n",
       "    </tr>\n",
       "  </thead>\n",
       "  <tbody>\n",
       "    <tr>\n",
       "      <th>0</th>\n",
       "      <td>1.384447</td>\n",
       "      <td>0.374540</td>\n",
       "      <td>0.950714</td>\n",
       "      <td>0.731994</td>\n",
       "      <td>0.598658</td>\n",
       "      <td>0.156019</td>\n",
       "      <td>1</td>\n",
       "      <td>1.067051</td>\n",
       "      <td>1.302064</td>\n",
       "      <td>0.974071</td>\n",
       "      <td>1.295971</td>\n",
       "    </tr>\n",
       "    <tr>\n",
       "      <th>1</th>\n",
       "      <td>3.338572</td>\n",
       "      <td>0.155995</td>\n",
       "      <td>0.058084</td>\n",
       "      <td>0.866176</td>\n",
       "      <td>0.601115</td>\n",
       "      <td>0.708073</td>\n",
       "      <td>0</td>\n",
       "      <td>-0.063325</td>\n",
       "      <td>-0.784513</td>\n",
       "      <td>0.018489</td>\n",
       "      <td>-0.076659</td>\n",
       "    </tr>\n",
       "    <tr>\n",
       "      <th>2</th>\n",
       "      <td>2.005024</td>\n",
       "      <td>0.020584</td>\n",
       "      <td>0.969910</td>\n",
       "      <td>0.832443</td>\n",
       "      <td>0.212339</td>\n",
       "      <td>0.181825</td>\n",
       "      <td>0</td>\n",
       "      <td>1.158559</td>\n",
       "      <td>0.627020</td>\n",
       "      <td>0.011795</td>\n",
       "      <td>1.152290</td>\n",
       "    </tr>\n",
       "    <tr>\n",
       "      <th>3</th>\n",
       "      <td>1.606035</td>\n",
       "      <td>0.183405</td>\n",
       "      <td>0.304242</td>\n",
       "      <td>0.524756</td>\n",
       "      <td>0.431945</td>\n",
       "      <td>0.291229</td>\n",
       "      <td>1</td>\n",
       "      <td>0.884273</td>\n",
       "      <td>0.718746</td>\n",
       "      <td>0.270967</td>\n",
       "      <td>0.839421</td>\n",
       "    </tr>\n",
       "    <tr>\n",
       "      <th>4</th>\n",
       "      <td>0.414825</td>\n",
       "      <td>0.611853</td>\n",
       "      <td>0.139494</td>\n",
       "      <td>0.292145</td>\n",
       "      <td>0.366362</td>\n",
       "      <td>0.456070</td>\n",
       "      <td>0</td>\n",
       "      <td>0.536446</td>\n",
       "      <td>0.695746</td>\n",
       "      <td>0.176633</td>\n",
       "      <td>0.564584</td>\n",
       "    </tr>\n",
       "  </tbody>\n",
       "</table>\n",
       "</div>"
      ]
     },
     "metadata": {
      "application/vnd.databricks.v1+output": {
       "addedWidgets": {},
       "arguments": {},
       "data": "<div>\n<style scoped>\n    .dataframe tbody tr th:only-of-type {\n        vertical-align: middle;\n    }\n\n    .dataframe tbody tr th {\n        vertical-align: top;\n    }\n\n    .dataframe thead th {\n        text-align: right;\n    }\n</style>\n<table border=\"1\" class=\"dataframe\">\n  <thead>\n    <tr style=\"text-align: right;\">\n      <th></th>\n      <th>y</th>\n      <th>X1</th>\n      <th>X2</th>\n      <th>X3</th>\n      <th>X4</th>\n      <th>X5</th>\n      <th>treatment</th>\n      <th>s2_treated_predict</th>\n      <th>s2_control_predict</th>\n      <th>treatment_propensity_score</th>\n      <th>ITE</th>\n    </tr>\n  </thead>\n  <tbody>\n    <tr>\n      <th>0</th>\n      <td>1.384447</td>\n      <td>0.374540</td>\n      <td>0.950714</td>\n      <td>0.731994</td>\n      <td>0.598658</td>\n      <td>0.156019</td>\n      <td>1</td>\n      <td>1.067051</td>\n      <td>1.302064</td>\n      <td>0.974071</td>\n      <td>1.295971</td>\n    </tr>\n    <tr>\n      <th>1</th>\n      <td>3.338572</td>\n      <td>0.155995</td>\n      <td>0.058084</td>\n      <td>0.866176</td>\n      <td>0.601115</td>\n      <td>0.708073</td>\n      <td>0</td>\n      <td>-0.063325</td>\n      <td>-0.784513</td>\n      <td>0.018489</td>\n      <td>-0.076659</td>\n    </tr>\n    <tr>\n      <th>2</th>\n      <td>2.005024</td>\n      <td>0.020584</td>\n      <td>0.969910</td>\n      <td>0.832443</td>\n      <td>0.212339</td>\n      <td>0.181825</td>\n      <td>0</td>\n      <td>1.158559</td>\n      <td>0.627020</td>\n      <td>0.011795</td>\n      <td>1.152290</td>\n    </tr>\n    <tr>\n      <th>3</th>\n      <td>1.606035</td>\n      <td>0.183405</td>\n      <td>0.304242</td>\n      <td>0.524756</td>\n      <td>0.431945</td>\n      <td>0.291229</td>\n      <td>1</td>\n      <td>0.884273</td>\n      <td>0.718746</td>\n      <td>0.270967</td>\n      <td>0.839421</td>\n    </tr>\n    <tr>\n      <th>4</th>\n      <td>0.414825</td>\n      <td>0.611853</td>\n      <td>0.139494</td>\n      <td>0.292145</td>\n      <td>0.366362</td>\n      <td>0.456070</td>\n      <td>0</td>\n      <td>0.536446</td>\n      <td>0.695746</td>\n      <td>0.176633</td>\n      <td>0.564584</td>\n    </tr>\n  </tbody>\n</table>\n</div>",
       "datasetInfos": [],
       "metadata": {},
       "removedWidgets": [],
       "textData": null,
       "type": "htmlSandbox"
      }
     },
     "output_type": "display_data"
    }
   ],
   "source": [
    "# Calculate the weighted ITE\n",
    "df['ITE'] = df.apply(lambda row: row.treatment_propensity_score*row.s2_control_predict + (1-row.treatment_propensity_score)*row.s2_treated_predict, axis=1)\n",
    "# Take a look at the data\n",
    "df.head()"
   ]
  },
  {
   "cell_type": "code",
   "execution_count": 0,
   "metadata": {
    "application/vnd.databricks.v1+cell": {
     "cellMetadata": {
      "byteLimit": 2048000,
      "rowLimit": 10000
     },
     "inputWidgets": {},
     "nuid": "ccc01bdb-32bf-4c97-8453-cb0fceeb2ac2",
     "showTitle": false,
     "title": ""
    }
   },
   "outputs": [
    {
     "output_type": "stream",
     "name": "stdout",
     "output_type": "stream",
     "text": [
      "Out[13]: array([[<AxesSubplot:title={'center':'ITE'}>]], dtype=object)"
     ]
    },
    {
     "output_type": "display_data",
     "data": {
      "image/png": "[encoded data removed]"
     },
     "metadata": {
      "application/vnd.databricks.v1+output": {
       "addedWidgets": {},
       "arguments": {},
       "data": "data:image/png;base64,iVBORw0KGgoAAAANSUhEUgAAAxwAAAIHCAYAAAAVYVrkAAAAOXRFWHRTb2Z0d2FyZQBNYXRwbG90bGliIHZlcnNpb24zLjUuMSwgaHR0cHM6Ly9tYXRwbG90bGliLm9yZy/YYfK9AAAACXBIWXMAAAsTAAALEwEAmpwYAAApb0lEQVR4nO3dfZTWdYH//9f8wFwE1/HgzKgousoIymK0GJj70wQVl0zQ1NQ8nhpzMWxL3VVxrF2z9eyouHhTSDcoezLdSmQ3LI+ePGJKcVNnNdpwaTbzjmgYyTExKRfm98f36/VrVmAGnPfc8XicwznN9Xlf1/W+enc1PPncVbW1tbUHAACggP+ntycAAAAMXIIDAAAoRnAAAADFCA4AAKAYwQEAABQjOAAAgGIEBwAAUMzg3p4AAP1PdXV1kqStra3Dz101b968XHDBBZk1a1b+9V//dYdjzz///MyfP38XZglAXyA4AHjHZs+e/bbH7rvvvrz44os5//zzM3LkyA7bxo0b1+HnD3zgA297bHtjAehfBAcA71hjY+PbHlu2bFlefPHFfOQjH8nxxx+/w+efdtppueCCC0pND4Be5BwOAACgGMEBAAAU45AqAHrdd7/73bzwwgvb3Hbaaafl6KOP7uEZAdBdBAcAve6hhx7KQw89tM1tI0eOFBwA/ZjgAKDXvXWZXAAGHudwAAAAxQgOAACgGMEBAAAUIzgAAIBinDQOQK/b0WVx6+rqctFFF/XwjADoLoIDgF63o8vi/vmf/7ngAOjHqtra2tp7exIAAMDA5BwOAACgGMEBAAAUIzgAAIBiBAcAAFCM4AAAAIoRHAAAQDGCAwAAKKZfB0dzc3NvT4FuYi0HDms5cFjLgcNaDgzWceDY3dayXwcHAADQtwkOAACgGMEBAAAUIzgAAIBiBAcAAFCM4AAAAIoRHAAAQDGCAwAAKEZwAAAAxQgOAACgGMEBAAAUIzgAAIBiBAcAAFCM4AAAAIoRHAAAQDGCAwAAKEZwAAAAxQgOAACgGMEBAAAUM7i3JwBA76peuG47W/ZKlm17W1vDiHITAmBAsYcDAAAoRnAAAADFCA4AAKAYwQEAABTTaXB89atfzXHHHZeDDz44Bx98cE455ZQ88sgjle3t7e1pamrKmDFjsv/+++e0007LM8880+E12traMnPmzIwcOTIjR47MzJkz09bW1u0fBgAA6Fs6DY4DDzww119/fb7//e9n6dKlOeGEE3LBBRfkP//zP5Mkt99+e+bNm5ebbropjz32WGpqanLmmWfmtddeq7zGxRdfnNWrV2fRokVZtGhRVq9enUsuuaTcpwIAAPqEToPjtNNOyymnnJLDDjsso0aNyt///d9n2LBh+dGPfpT29vbMnz8/l19+eWbMmJGjjjoq8+fPz6ZNm7Jo0aIkydq1a/Poo4/mtttuy8SJEzNx4sTceuuteeSRR9Lc3Fz8AwIAAL1np87h2LJlSx544IG8/vrrmThxYp5//vm0tLRkypQplTFDhgzJcccdl5UrVyZJVq1alWHDhmXSpEmVMccee2yGDh1aGQMAAAxMXbrx389+9rNMnTo1mzdvztChQ/P1r389Y8eOrQRDTU1Nh/E1NTVZv359kmTDhg0ZPnx4qqqqKturqqqy3377ZcOGDTt8367sAbGXZOCwlgOHtexv9trpZ1jj/seaDQzWceAYSGtZX1+/w+1dCo76+vo8+eST+e1vf5tvf/vbmTVrVr7zne90ywQ7e98daW5u7nQM/YO1HDisZT+0nbuJ74g17l98LwcG6zhw7G5r2aVDqt71rnflsMMOy/jx43Pddddl3LhxufPOO1NXV5ckaW1t7TC+tbU1tbW1SZLa2tps3Lgx7e3tle3t7e15+eWXK2MAAICBaZfuw7F169b84Q9/yCGHHJK6urosXbq0sm3z5s1Zvnx55ZyNiRMnZtOmTVm1alVlzKpVq/L66693OK8DAAAYeDo9pOpzn/tcpk6dmhEjRlSuPrVs2bJ861vfSlVVVWbNmpW5c+emvr4+o0aNyi233JKhQ4fm7LPPTpKMHj06J598cq644orcdtttSZIrrrgip5566m61KwkAAHZHnQZHS0tLZs6cmQ0bNuRP//RPM3bs2CxatCgnnXRSkuSyyy7LG2+8kauuuiptbW2ZMGFCFi9enL333rvyGgsWLMjVV1+ds846K0kybdq03HzzzYU+EgAA0Fd0Ghzz58/f4faqqqo0NjamsbFxu2Oqq6vzla98ZednBwAA9Gu7dA4HAABAVwgOAACgGMEBAAAUIzgAAIBiBAcAAFCM4AAAAIoRHAAAQDGCAwAAKEZwAAAAxQgOAACgGMEBAAAUIzgAAIBiBAcAAFCM4AAAAIoRHAAAQDGCAwAAKEZwAAAAxQgOAACgGMEBAAAUIzgAAIBiBAcAAFCM4AAAAIoRHAAAQDGCAwAAKEZwAAAAxQgOAACgGMEBAAAUIzgAAIBiBAcAAFDM4N6eAAC7j+qF63bpeW0NI7p5JgD0FHs4AACAYgQHAABQjOAAAACKERwAAEAxggMAAChGcAAAAMUIDgAAoBjBAQAAFCM4AACAYgQHAABQjOAAAACKERwAAEAxg3t7AgB0j+qF63p7CsXsymdraxhRYCYA7Cx7OAAAgGIEBwAAUIxDqgD6mIF8aBQAux97OAAAgGIEBwAAUIzgAAAAinEOBwA7zXkmAHSVPRwAAEAxggMAAChGcAAAAMUIDgAAoBjBAQAAFCM4AACAYgQHAABQjOAAAACKERwAAEAxggMAAChGcAAAAMV0Ghxz587N5MmTc/DBB+fwww/PueeemzVr1nQYM2vWrFRXV3f4c/LJJ3cY8/vf/z5XXXVVDjvssBx44IE577zzsm7duu79NAAAQJ/SaXAsW7YsH//4x/PII49kyZIlGTx4cM4444y88sorHcadeOKJWbt2beXP/fff32F7Y2NjHnzwwdx111156KGH8tprr+Xcc8/Nli1buvcTAQAAfcbgzgYsXry4w89f/vKXM3LkyKxYsSLTpk2rPL7nnnumrq5um6/x6quv5p577sm8efMyefLkyuuMGzcujz/+eE466aR38hkAAIA+aqfP4di0aVO2bt2a6urqDo8vX748o0aNyoQJE/LpT386ra2tlW1PP/103nzzzUyZMqXy2EEHHZTRo0dn5cqVuz57AACgT6tqa2tr35knfOxjH8svfvGLPP744xk0aFCS5IEHHsiQIUNyyCGH5IUXXsgNN9yQrVu35vHHH8+ee+6Z+++/P5/4xCfy8ssvp6qqqvJap59+eg4//PDcdttt23yv5ubmXf9kAP3Ue5ft1dtT2K396P/9XW9PAaBfqa+v3+H2Tg+p+mPXXnttVqxYkYcffrgSG0ly1llnVf7z2LFjM378+IwbNy6PPPJIpk+fvpNT/v91Nvnm5uZOx9A/WMuBw1p2g2UuqNGbBuL/fn0vBwbrOHDsbmvZ5UOqGhsb88ADD2TJkiU59NBDdzj2gAMOyIEHHphnn302SVJbW5stW7Zk48aNHca1tramtrZ252cNAAD0C10KjtmzZ1di44gjjuh0/MaNG7N+/frKSeTjx4/PHnvskaVLl1bGrFu3LmvXrs2kSZN2ceoAAEBf1+khVVdeeWW++c1v5utf/3qqq6vT0tKSJBk6dGiGDRuWTZs25cYbb8z06dNTV1eXF154IZ///OdTU1OTD37wg0mSffbZJxdeeGGuu+661NTUZN99981nPvOZjB07NieeeGLRDwgAAPSeToNjwYIFSZIZM2Z0eHz27NlpbGzMoEGDsmbNmnzjG9/Iq6++mrq6uhx//PFZuHBh9t5778r4pqamDBo0KA0NDdm8eXNOOOGEfOlLX+pwLggAADCwdBocbW1tO9w+ZMiQt92rY1v23HPPzJkzJ3PmzOny5AAAgP5tp+/DAQAA0FWCAwAAKEZwAAAAxezUjf8A2DnVC93ED4Ddmz0cAABAMYIDAAAoRnAAAADFCA4AAKAYwQEAABQjOAAAgGIEBwAAUIzgAAAAihEcAABAMYIDAAAoRnAAAADFCA4AAKAYwQEAABQjOAAAgGIEBwAAUIzgAAAAihEcAABAMYIDAAAoRnAAAADFCA4AAKAYwQEAABQjOAAAgGIEBwAAUIzgAAAAihEcAABAMYIDAAAoRnAAAADFDO7tCQD0B9UL1/X2FACgX7KHAwAAKEZwAAAAxQgOAACgGOdwAMAf2dXzddoaRnTzTAAGBns4AACAYgQHAABQjOAAAACKERwAAEAxggMAAChGcAAAAMUIDgAAoBjBAQAAFCM4AACAYgQHAABQjOAAAACKERwAAEAxggMAAChGcAAAAMUIDgAAoBjBAQAAFCM4AACAYgQHAABQjOAAAACKERwAAEAxggMAAChGcAAAAMUIDgAAoBjBAQAAFCM4AACAYgQHAABQTKfBMXfu3EyePDkHH3xwDj/88Jx77rlZs2ZNhzHt7e1pamrKmDFjsv/+++e0007LM88802FMW1tbZs6cmZEjR2bkyJGZOXNm2trauvXDAAAAfUunwbFs2bJ8/OMfzyOPPJIlS5Zk8ODBOeOMM/LKK69Uxtx+++2ZN29ebrrppjz22GOpqanJmWeemddee60y5uKLL87q1auzaNGiLFq0KKtXr84ll1xS5lMBAAB9wuDOBixevLjDz1/+8pczcuTIrFixItOmTUt7e3vmz5+fyy+/PDNmzEiSzJ8/P/X19Vm0aFEaGhqydu3aPProo3n44YczceLEJMmtt96aadOmpbm5OfX19QU+GgD0nOqF63b6OW0NIwrMBKBv2elzODZt2pStW7emuro6SfL888+npaUlU6ZMqYwZMmRIjjvuuKxcuTJJsmrVqgwbNiyTJk2qjDn22GMzdOjQyhgAAGDg6XQPx/92zTXXZNy4cZU9FS0tLUmSmpqaDuNqamqyfv36JMmGDRsyfPjwVFVVVbZXVVVlv/32y4YNG7b7Xs3NzZ3Opytj6B+s5cAxMNdyr96eAANQT35XBub3cvdjHQeOgbSWnR2ttFPBce2112bFihV5+OGHM2jQoHc0sa7obPIOxxo4rOXAMWDXctnOHy4Dnemp78qA/V7uZqzjwLG7rWWXD6lqbGzMAw88kCVLluTQQw+tPF5XV5ckaW1t7TC+tbU1tbW1SZLa2tps3Lgx7e3tle3t7e15+eWXK2MAAICBp0vBMXv27EpsHHHEER22HXLIIamrq8vSpUsrj23evDnLly+vnLMxceLEbNq0KatWraqMWbVqVV5//fUO53UAAAADS6eHVF155ZX55je/ma9//euprq6unLMxdOjQDBs2LFVVVZk1a1bmzp2b+vr6jBo1KrfcckuGDh2as88+O0kyevTonHzyybniiity2223JUmuuOKKnHrqqbvV7iQAANjddBocCxYsSJLKJW/fMnv27DQ2NiZJLrvssrzxxhu56qqr0tbWlgkTJmTx4sXZe++9O7zO1VdfnbPOOitJMm3atNx8883d9kEAAIC+p9Pg6MrdwKuqqtLY2FgJkG2prq7OV77ylZ2aHAAA0L/t9H04AAAAukpwAAAAxQgOAACgmJ2+0zgA0D2qF+7aDSXbGkZ080wAyrGHAwAAKEZwAAAAxQgOAACgGMEBAAAUIzgAAIBiBAcAAFCM4AAAAIoRHAAAQDGCAwAAKEZwAAAAxQgOAACgGMEBAAAUIzgAAIBiBAcAAFCM4AAAAIoZ3NsTAOhJ1QvX9fYUAGC3Yg8HAABQjOAAAACKERwAAEAxggMAAChGcAAAAMUIDgAAoBjBAQAAFCM4AACAYgQHAABQjOAAAACKERwAAEAxggMAAChGcAAAAMUIDgAAoBjBAQAAFCM4AACAYgQHAABQjOAAAACKERwAAEAxg3t7AgBAz6heuG6nn9PWMKLATIDdiT0cAABAMYIDAAAoRnAAAADFCA4AAKAYwQEAABQjOAAAgGIEBwAAUIzgAAAAihEcAABAMYIDAAAoZnBvTwBgV1UvXNfbUwAAOmEPBwAAUIzgAAAAihEcAABAMYIDAAAoRnAAAADFCA4AAKAYl8UFep3L2wLAwCU4AKCf2flI3ytZJuyB3uGQKgAAoBjBAQAAFNOl4PjBD36Q8847L0ceeWSqq6tz7733dtg+a9asVFdXd/hz8skndxjz+9//PldddVUOO+ywHHjggTnvvPOybp3duwAAMJB1KThef/31HHXUUbnxxhszZMiQbY458cQTs3bt2sqf+++/v8P2xsbGPPjgg7nrrrvy0EMP5bXXXsu5556bLVu2vPNPAQAA9EldOml86tSpmTp1apLk0ksv3eaYPffcM3V1ddvc9uqrr+aee+7JvHnzMnny5CTJl7/85YwbNy6PP/54TjrppF2ZOwAA0Md12zkcy5cvz6hRozJhwoR8+tOfTmtra2Xb008/nTfffDNTpkypPHbQQQdl9OjRWblyZXdNAQAA6GO65bK4J598ck4//fQccsgheeGFF3LDDTdk+vTpefzxx7Pnnntmw4YNGTRoUIYPH97heTU1NdmwYcN2X7e5ubnT9+7KGPoHazlw7Pxa7lVkHsA75/+b+xbrMXAMpLWsr6/f4fZuCY6zzjqr8p/Hjh2b8ePHZ9y4cXnkkUcyffr0XX7dzibf3Nzc6Rj6B2s5cOzSWro/APRZ/r+57/C7cuDY3dayyGVxDzjggBx44IF59tlnkyS1tbXZsmVLNm7c2GFca2tramtrS0wBAADoA4oEx8aNG7N+/frKSeTjx4/PHnvskaVLl1bGrFu3LmvXrs2kSZNKTAEAAOgDunRI1aZNmyp7K7Zu3ZqXXnopq1evzr777pt99903N954Y6ZPn566urq88MIL+fznP5+ampp88IMfTJLss88+ufDCC3PdddelpqYm++67bz7zmc9k7NixOfHEE4t9OAAAoHd1KTieeuqpnH766ZWfm5qa0tTUlPPPPz9z587NmjVr8o1vfCOvvvpq6urqcvzxx2fhwoXZe++9Ozxn0KBBaWhoyObNm3PCCSfkS1/6UgYNGtT9nwoAAOgTuhQcxx9/fNra2ra7ffHixZ2+xp577pk5c+Zkzpw5XZ4cAADQvxU5hwMAACARHAAAQEGCAwAAKEZwAAAAxQgOAACgGMEBAAAUIzgAAIBiBAcAAFCM4AAAAIoRHAAAQDGCAwAAKEZwAAAAxQgOAACgGMEBAAAUIzgAAIBiBAcAAFCM4AAAAIoRHAAAQDGCAwAAKEZwAAAAxQgOAACgmMG9PQEAoO+qXrhul57X1jCim2cC9Ff2cAAAAMUIDgAAoBiHVAHd5v8cerFXsmzXDsEAAAYeezgAAIBiBAcAAFCM4AAAAIoRHAAAQDGCAwAAKEZwAAAAxQgOAACgGMEBAAAUIzgAAIBiBAcAAFCM4AAAAIoRHAAAQDGCAwAAKEZwAAAAxQgOAACgGMEBAAAUIzgAAIBiBAcAAFCM4AAAAIoRHAAAQDGCAwAAKEZwAAAAxQzu7QkAfVP1wnW9PQUAYACwhwMAAChGcAAAAMUIDgAAoBjBAQAAFCM4AACAYgQHAABQjOAAAACKERwAAEAxggMAAChGcAAAAMUIDgAAoBjBAQAAFCM4AACAYgQHAABQTJeC4wc/+EHOO++8HHnkkamurs69997bYXt7e3uampoyZsyY7L///jnttNPyzDPPdBjT1taWmTNnZuTIkRk5cmRmzpyZtra2bvsgAABA39Ol4Hj99ddz1FFH5cYbb8yQIUPetv3222/PvHnzctNNN+Wxxx5LTU1NzjzzzLz22muVMRdffHFWr16dRYsWZdGiRVm9enUuueSS7vskAABAnzO4K4OmTp2aqVOnJkkuvfTSDtva29szf/78XH755ZkxY0aSZP78+amvr8+iRYvS0NCQtWvX5tFHH83DDz+ciRMnJkluvfXWTJs2Lc3Nzamvr+/OzwQAAPQRXQqOHXn++efT0tKSKVOmVB4bMmRIjjvuuKxcuTINDQ1ZtWpVhg0blkmTJlXGHHvssRk6dGhWrlwpOABggKleuG6XntfWMKKbZwL0tnccHC0tLUmSmpqaDo/X1NRk/fr1SZINGzZk+PDhqaqqqmyvqqrKfvvtlw0bNmz3tZubmzt9/66MoX+wln3NXr09AWA35HfBjvnvZ+AYSGvZ2c6DdxwcJXU2eYdjDRzWsg9atmv/OgnwTvhdsH1+Vw4cu9tavuPL4tbV1SVJWltbOzze2tqa2traJEltbW02btyY9vb2yvb29va8/PLLlTEAAMDA846D45BDDkldXV2WLl1aeWzz5s1Zvnx55ZyNiRMnZtOmTVm1alVlzKpVq/L66693OK8DAAAYWLp0SNWmTZvy7LPPJkm2bt2al156KatXr86+++6bgw8+OLNmzcrcuXNTX1+fUaNG5ZZbbsnQoUNz9tlnJ0lGjx6dk08+OVdccUVuu+22JMkVV1yRU089dbfanQQAALubLgXHU089ldNPP73yc1NTU5qamnL++edn/vz5ueyyy/LGG2/kqquuSltbWyZMmJDFixdn7733rjxnwYIFufrqq3PWWWclSaZNm5abb765mz8OAADQl1S1tbW1dz6sb9rdTrgZyKxl37Orl7QEeCdcFnf7/K4cOHa3tXzH53AAAABsj+AAAACKERwAAEAxggMAAChGcAAAAMUIDgAAoBjBAQAAFCM4AACAYgQHAABQjOAAAACKERwAAEAxggMAAChGcAAAAMUM7u0JAAC8pXrhuh57r7aGET32XrA7s4cDAAAoRnAAAADFCA4AAKAYwQEAABQjOAAAgGIEBwAAUIzgAAAAihEcAABAMYIDAAAoRnAAAADFCA4AAKAYwQEAABQjOAAAgGIEBwAAUMzg3p4A0DXVC9ft0vPaGkZ080wAALrOHg4AAKAYwQEAABQjOAAAgGIEBwAAUIzgAAAAinGVKhjgdvXqVgAA3cEeDgAAoBjBAQAAFCM4AACAYgQHAABQjOAAAACKERwAAEAxggMAAChGcAAAAMUIDgAAoBjBAQAAFCM4AACAYgQHAABQjOAAAACKGdzbEwAA6A3VC9ft0vPaGkZ080xgYLOHAwAAKEZwAAAAxQgOAACgGMEBAAAUIzgAAIBiBAcAAFCM4AAAAIoRHAAAQDGCAwAAKEZwAAAAxQgOAACgGMEBAAAUIzgAAIBiuiU4mpqaUl1d3eHPEUccUdne3t6epqamjBkzJvvvv39OO+20PPPMM93x1gAAQB/WbXs46uvrs3bt2sqfH/7wh5Vtt99+e+bNm5ebbropjz32WGpqanLmmWfmtdde6663BwAA+qBuC47Bgwenrq6u8me//fZL8n/2bsyfPz+XX355ZsyYkaOOOirz58/Ppk2bsmjRou56ewAAoA/qtuB47rnnMmbMmBx99NG56KKL8txzzyVJnn/++bS0tGTKlCmVsUOGDMlxxx2XlStXdtfbAwAAfdDg7niRY445JnfeeWfq6+vz8ssvZ86cOZk6dWpWrFiRlpaWJElNTU2H59TU1GT9+vU7fN3m5uZO37srY+gfrGVn9urtCQCQ3v195XflwDGQ1rK+vn6H27slOE455ZQOPx9zzDEZP3587rvvvrz3ve/d5dftbPLNzc2djqF/sJZdsGxdb88AgHT+95NS/K4cOHa3tSxyWdxhw4ZlzJgxefbZZ1NXV5ckaW1t7TCmtbU1tbW1Jd4eAADoI4oEx+bNm9Pc3Jy6uroccsghqaury9KlSztsX758eSZNmlTi7QEAgD6iWw6p+uxnP5u/+qu/ykEHHVQ5h+N3v/tdzj///FRVVWXWrFmZO3du6uvrM2rUqNxyyy0ZOnRozj777O54e+h3qhc6PAoA2D10S3D86le/ysUXX5yNGzdmv/32yzHHHJPvfe97GTlyZJLksssuyxtvvJGrrroqbW1tmTBhQhYvXpy99967O94eAADoo7olOO6+++4dbq+qqkpjY2MaGxu74+0AAIB+osg5HAAAAIngAAAAChIcAABAMd1yDgcAwO5iV6402NYwosBMoH+whwMAAChGcAAAAMUIDgAAoBjBAQAAFCM4AACAYgQHAABQjMviwjuwK5dGBADYndjDAQAAFCM4AACAYgQHAABQjOAAAACKERwAAEAxggMAAChGcAAAAMUIDgAAoBjBAQAAFONO4xB3DAegrF39PdPWMKKbZwI9zx4OAACgGHs4GHDsrQAA6Dvs4QAAAIoRHAAAQDGCAwAAKEZwAAAAxQgOAACgGMEBAAAUIzgAAIBiBAcAAFCM4AAAAIoRHAAAQDGDe3sCAABsW/XCdX/0017JsnXbHfvH2hpGlJkQ7AJ7OAAAgGIEBwAAUIzgAAAAihEcAABAMYIDAAAoRnAAAADFCA4AAKAYwQEAABTjxn/0WR1vdgQAdFVP/g51k0E6Yw8HAABQjOAAAACKERwAAEAxggMAAChGcAAAAMW4ShXFde1KGXsly1yVCgBgoLGHAwAAKEZwAAAAxQgOAACgGOdwAACwy3b1rubuUL77sIcDAAAoxh4Odsqu/isGAAC7J3s4AACAYgQHAABQjEOq+jknagEA/dGu/B3G31/6J8Gxm3IuBgAAPUFwAADQL/T0kR32wnQP53AAAADF9PgejgULFuSOO+5IS0tLxowZk6amphx33HE9PY0+yWFOAAAMND0aHIsXL84111yTf/7nf86xxx6bBQsW5JxzzsmKFSty8MEH9+RUihIOAADsjIF8IaAePaRq3rx5+chHPpKPfvSjGT16dObMmZO6urrcfffdPTkNAACgh1S1tbW198Qb/eEPf8gBBxyQu+66K2eccUbl8SuvvDJr1qzJQw891BPTAAAAelCP7eHYuHFjtmzZkpqamg6P19TUZMOGDT01DQAAoAe5ShUAAFBMjwXH8OHDM2jQoLS2tnZ4vLW1NbW1tT01DQAAoAf1WHC8613vyvjx47N06dIOjy9dujSTJk3qqWkAAAA9qEcvi/vJT34yl1xySSZMmJBJkybl7rvvzq9//es0NDT05DQAAIAe0qPncHzoQx9KU1NT5syZk+OPPz4rVqzIt771rYwcObJLz/+Xf/mXfPCDH8zIkSNTXV2d559/vkvP+/a3v51JkyaltrY2kyZNyoMPPvhOPgbv0O9///tcddVVOeyww3LggQfmvPPOy7p1O772dFNTU6qrqzv8OeKII3poxvyxBQsW5Oijj05dXV3e//7354c//OEOxy9btizvf//7U1dXl3e/+90ug91H7Mw6Pvnkk2/7/lVXV+fnP/95D86YbfnBD36Q8847L0ceeWSqq6tz7733dvqcn/3sZ/nABz6Q/fffP0ceeWRuuummtLf3yAUr2YGdXcvnn39+m9/LRx99tIdmzLbMnTs3kydPzsEHH5zDDz885557btasWdPp8wb697LHTxq/+OKL89Of/jQbNmzI97///fzlX/5ll5/7u9/9LlOmTMk111zT5eesWrUqF110Uc4555w8+eSTOeecc/Kxj30sP/7xj3dl+nSDxsbGPPjgg7nrrrvy0EMP5bXXXsu5556bLVu27PB59fX1Wbt2beVPZ3/Rpfu9dfPOv/u7v8sTTzyRiRMn5pxzzsmLL764zfHPPfdcPvzhD2fixIl54okn8rd/+7e5+uqr8+1vf7uHZ84f29l1fMuKFSs6fAcPP/zwHpox2/P666/nqKOOyo033pghQ4Z0Ov63v/1tzjzzzNTW1uaxxx7LjTfemC984Qv54he/2AOzZUd2di3f8sADD3T4Xp5wwgkFZ0lnli1blo9//ON55JFHsmTJkgwePDhnnHFGXnnlle0+Z3f4XvbYfTi601NPPZXJkyfnJz/5SQ455JAdjm1oaMgrr7ySf//3f688NmPGjOy333656667Cs+U/+3VV1/NqFGjMm/evHz4wx9Okrz00ksZN25cFi1alJNOOmmbz2tqasqSJUuyfPnynpwu/8tJJ52UsWPH5o477qg89hd/8ReZMWNGrrvuureNv+666/Lggw/mP/7jPyqPfepTn8p//dd/5Xvf+16PzJm329l1fPLJJ3P66afnF7/4RYYPH96TU2UnjBgxIjfffHMuuOCC7Y6566678rnPfS4///nPK3+pnTNnTu6+++6sWbMmVVVVPTVddqAra/n888/n3e9+d5YuXZr3vOc9PTg7dsamTZsycuTI3HvvvZk2bdo2x+wO38sBf1ncH/3oR5kyZUqHx0466aSsXLmyl2a0e3v66afz5ptvdliTgw46KKNHj+50TZ577rmMGTMmRx99dC666KI899xzhWfLH/vDH/6Qp59++m3fpylTpmx37VatWrXN799TTz2VN998s9hc2b5dWce3nHjiiRk9enSmT5+eJ554ouQ0KWTVqlV53/ve1+Ff0E866aSsX7++y4cp07dceOGFGTVqVE499VR7j/ugTZs2ZevWramurt7umN3hezngg6OlpcXNBvuQDRs2ZNCgQW/7V9LO1uSYY47JnXfemUWLFuWOO+5IS0tLpk6dmt/85jelp8z/tSs379ywYcM2x//P//xPNm7cWGyubN+urOP++++fuXPn5p577sk999yT+vr6zJgxw2GN/dD2vpNvbaP/GDZsWP7xH/8xCxcuzP33358TTjghDQ0N+eY3v9nbU+OPXHPNNRk3blwmTpy43TG7w/eyR69StS033HBDbrnllh2OefDBB3P88cf30IzYFV1dx111yimndPj5mGOOyfjx43Pfffflb/7mb3b5dYHO1dfXp76+vvLzxIkT88ILL+SOO+7Icccd14szg93X8OHD86lPfary83ve85785je/ye23355zzz23F2fGW6699tqsWLEiDz/8cAYNGtTb0+lVvR4cs2bNqhzLvz0HHXTQLr9+XV2dmw32gK6u449+9KNs2bIlGzduzH777VfZ1tramve9731dfr9hw4ZlzJgxefbZZ3d5zuycXbl5Z21t7TbHDx482LkAvaS7bsI6YcKELF68uLunR2Hb+06+tY3+bcKECV26UhnlNTY2ZvHixXnwwQdz6KGH7nDs7vC97PVDqoYPH54jjjhih3/22muvXX799773vW422AO6uo7jx4/PHnvs0WFN1q1bl7Vr1+7UmmzevDnNzc2pq6sr8XHYhl25eefEiRO3Of4973lP9thjj2JzZfu66yasP/3pT33/+qGJEydm+fLl2bx5c+WxpUuX5oADDuj0Iiz0fb6XfcPs2bPzwAMPZMmSJV26hP/u8L3s9eDYGS0tLVm9enX++7//O0mydu3arF69usOlxqZPn57rr7++8vMnPvGJPPHEE7n11lvz85//PHPnzs2TTz6ZWbNm9fj8SfbZZ59ceOGFue666/L444/nJz/5SS655JKMHTs2J554YmXce9/73nzlK1+p/PzZz342y5Yty3PPPZcf//jH+ehHP5rf/e53Of/883vhU+y+PvnJT+a+++7L1772taxduzazZ8/ucPPOSy65JJdcckllfENDQ9avX59rrrkma9euzde+9jWHwfUBO7uOd955Z77zne/kF7/4RZ555plcf/31+e53v5u//uu/7q2PwP+1adOmrF69OqtXr87WrVvz0ksvZfXq1ZVLHF9//fWZPn16ZfzZZ5+dIUOG5NJLL82aNWuyZMmS3Hbbbbn00ksHxJVw+rOdXcv77rsv999/f9auXZvm5uZ84QtfyIIFCzJz5sze+ggkufLKK3Pfffflq1/9aqqrq9PS0pKWlpZs2rSpMmZ3/F72+iFVO+Puu+/OTTfdVPn5rUN45s2bV7l03C9/+cuMGDGiMuatO5rfcMMN+ad/+qf82Z/9We6+++4cc8wxPTt5KpqamjJo0KA0NDRk8+bNOeGEE/KlL32pw/GNzc3NHU4q/tWvfpWLL764cijWMccck+9973tdvmkk3eNDH/pQfvOb32TOnDlpaWnJkUce2eHmnS+99FKH8Yceemi+9a1v5dprr83dd9+d/fffPzfddFNmzJjRG9Pn/9rZdXzzzTfzD//wD/nVr36VP/mTP6mMnzp1am9Mnz/y1FNP5fTTT6/83NTUlKamppx//vmZP39+fv3rX+eXv/xlZfs+++yTf/u3f8uVV16ZyZMnp7q6Op/85Cf9I0AfsLNrmSS33HJLXnzxxQwaNCiHH354vvjFLzp/o5ctWLAgSd72e2727NlpbGxMkt3ye9kv78MBAAD0D/3qkCoAAKB/ERwAAEAxggMAAChGcAAAAMUIDgAAoBjBAQAAFCM4AACAYgQHAABQjOAAAACK+f8APvETodss/tYAAAAASUVORK5CYII=\n",
       "datasetInfos": [],
       "metadata": {},
       "removedWidgets": [],
       "type": "image"
      }
     },
     "output_type": "display_data"
    }
   ],
   "source": [
    "# visualization\n",
    "df.hist(column ='ITE', bins=50, grid=True, figsize=(12, 8))"
   ]
  },
  {
   "cell_type": "code",
   "execution_count": 0,
   "metadata": {
    "application/vnd.databricks.v1+cell": {
     "cellMetadata": {
      "byteLimit": 2048000,
      "rowLimit": 10000
     },
     "inputWidgets": {},
     "nuid": "a5b19bbf-77ff-4d4c-bfd7-fcb19b617d95",
     "showTitle": false,
     "title": ""
    }
   },
   "outputs": [
    {
     "output_type": "stream",
     "name": "stdout",
     "output_type": "stream",
     "text": [
      "The average treatment effect (ATE) is 0.57\n"
     ]
    }
   ],
   "source": [
    "# Calculate ATE\n",
    "ATE = df[['ITE']].mean()\n",
    "# Print out results\n",
    "print(f'The average treatment effect (ATE) is {ATE[0]:.2f}')"
   ]
  }
 ],
 "metadata": {
  "application/vnd.databricks.v1+notebook": {
   "dashboards": [],
   "language": "python",
   "notebookMetadata": {
    "pythonIndentUnit": 4
   },
   "notebookName": "X-Learner",
   "widgets": {}
  }
 },
 "nbformat": 4,
 "nbformat_minor": 0
}
